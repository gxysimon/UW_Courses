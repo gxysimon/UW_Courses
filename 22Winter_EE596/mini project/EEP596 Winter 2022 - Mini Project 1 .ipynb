{
 "cells": [
  {
   "cell_type": "markdown",
   "metadata": {},
   "source": [
    "### Stock Buy/Sell Prediction\n",
    "In this mini-project - You will be working with real stock data pulled through the alpaca.markets api. We will provide you starter code below - So you can get started with using the API. You have about 2 weeks to work on this mini-project. Please get started early as identifying good strategies can take time. Good luck and have fun in the process!"
   ]
  },
  {
   "cell_type": "markdown",
   "metadata": {},
   "source": [
    "### Logistics\n",
    "Please work in groups of 2 - This is a requirement for this project. Your submission will include one submission of all the training code, back testing code, plots, requirements as outlined below + breakdown of contributions by each member of the project. Please make sure each member in your team tries out new trading strategies/algorithms and does coding as a way of contributing to the project. Also working in teams is a great way to brainstorm, collaborate and improve on your winning strategies."
   ]
  },
  {
   "cell_type": "markdown",
   "metadata": {},
   "source": [
    "### Question 1\n",
    "1. Pick any 5 tech stocks that have had a good performance year-over-year in the past year. You can look up NASDAQ tech stocks list or pick your favorites.\n",
    "1. Download the \"closing price\" and \"opening price\" data for each day of the 5 tech stocks over the past year using the ALPACA api (see below for starter code).\n",
    "1. Train at least 2 baselines (from the lecture - e.g. SMA, EMA) AND one or more ML based models (e.g. STL or supervised learning) on first 7 months of the data set\n",
    "1. Back-test your buy-sell strategy on the recent past 5 months for each of the 5 stocks you picked. Assume you are not doing day-trading - So you can't sell the stock the same day you bought them. Also assume that you are buying at closing time but can sell at opening or closing time. \n",
    "1. Implement your back-testing as an automatic trading mechanism (Algorithmic Trading) - I.e. buy when you have cash available if your algorithm says buy. And sell a bought stock if your algorithm says sell. Make sure, you have a profit margin of at least 0.5%\n",
    "1. Also implement your back-testing across the 5 stocks - I.e. buy/sell which ever stock is more appealing to your algorithm/trading strategy.\n",
    "1. Once you initiate the back-test - Your algorithm should be able to automatically buy and sell multiple times across the back-testing period (5 months). This is an example of Algorithmic trading - Where you don't have to initiate buy/sell order but the algorithm would do it for you. Avoid a buy-sell period that contains an Earnings day in it. E.g. GOOG has earnings day on Feb 1 - Avoid a buy before Feb 1 that gets sold after Feb 1. This is to not have your backtest be skewed by wind-falls or heavy losses at earnings.\n",
    "1. Use classes and modules to organize your training, back-testing, paper-trading and plotting code - See starter code for an example of methods to do paper-trading. \n",
    "1. Plot the time-series of the stocks over past 5 months and indicate using markers where your algorithm buys and sells\n",
    "1. What's the total profit of your strategies. Create a table with strategy and total profit and also percentage profit as your columns. Which is your best strategy ? \n",
    "1. What other evaluation metrics make sense for backtest?\n",
    "1. Also mention the insights/take-aways you gaind by working through this mini-project."
   ]
  },
  {
   "cell_type": "markdown",
   "metadata": {},
   "source": [
    "### Question 2\n",
    "This one is on live paper trading. Take one of your best strategies from Question 1 and run it for 7-10 days (run it live) on the 5 stocks you picked. You can use the buy/sell order methods mentioned in starter code as an example to place orders for live paper trading. So your algorithm is automatically trading live but only on paper. Make sure, the settings for your algorithm enable you to buy and sell within the week (i.e. set your profit margin lower for sell). What's the profit you made?"
   ]
  },
  {
   "cell_type": "markdown",
   "metadata": {},
   "source": [
    "### Question 3\n",
    "We will also likely have a Kaggle contest a week into this mini-project where you can test your best back-trading strategies on new stocks - More on this next week!"
   ]
  },
  {
   "cell_type": "markdown",
   "metadata": {},
   "source": [
    "### Starting points\n",
    "1. Checkout alpaca.markets and create an account for yourself\n",
    "1. Generate a key and pass for you to query alpaca.markets for paper trading\n",
    "1. Checkout the colab interface that Alpaca has for you and what functionalities it has to offer. See example: https://alpaca.markets/learn/google-colab-instant-development-environments/\n",
    "1. Checkout the docs for Alpaca api\n",
    "1. Starter code below to get you started "
   ]
  },
  {
   "cell_type": "markdown",
   "metadata": {},
   "source": [
    "### Starter Code"
   ]
  },
  {
   "cell_type": "code",
   "execution_count": 1,
   "metadata": {},
   "outputs": [],
   "source": [
    "import time \n",
    "import alpaca_trade_api as alpaca \n",
    "ENDPOINT=\"https://paper-api.alpaca.markets\"\n",
    "API_KEY_ID=\"\" # Put in yours here - Needed for paper trading\n",
    "SECRET_KEY=\"\" # Put in yours here - Needed for paper trading\n",
    "\n",
    "class TradingStrategy:\n",
    "    def __init__(self,STOCK):\n",
    "        self.api = alpaca.REST(API_KEY_ID, SECRET_KEY, ENDPOINT)\n",
    "        self.STOCK = STOCK\n",
    "        self.SELL_LIMIT_FACTOR = 1.01 # 1 percent margin\n",
    "        \n",
    "        # Anything else you want to initialize or a method you want to\n",
    "        # call during initialization of class - Feel free to add\n",
    "        \n",
    "        # Get past 90 days closing prices\n",
    "        self.get_past90_closing_prices()\n",
    "        \n",
    "    \n",
    "    def get_past90_closing_prices(self):  \n",
    "        barset = self.api.get_barset(self.STOCK, 'day', limit=90)\n",
    "        bars = barset[self.STOCK]\n",
    "        self.past90_closing_prices = [bars[index].c for index in range(len(bars))]\n",
    "    \n",
    "    def get_current_price(self):\n",
    "        return float(self.api.get_last_trade(self.STOCK).price)\n",
    "    \n",
    "    def get_quantity_buy(self):\n",
    "        if int(float(self.api.get_account().cash)) > 0:\n",
    "            return int((float(self.api.get_account().cash)/2) \\\n",
    "                       /self.get_current_price())\n",
    "        else:\n",
    "            return 0\n",
    "        \n",
    "    def exists_buy_order(self):\n",
    "        # Identifies if a buy order exists for a stock\n",
    "        orders = self.api.list_orders()\n",
    "        for order in orders:\n",
    "            if order.side==\"buy\" and order.symbol==self.STOCK:\n",
    "                return True\n",
    "        \n",
    "        return False\n",
    "    \n",
    "    def have_bought_stock(self):\n",
    "        positions=self.api.list_positions()\n",
    "        for position in positions:\n",
    "            if position.symbol==self.STOCK and int(position.qty)==self.NEW_QUANTITY + self.EXISTING_QUANTITY:\n",
    "                return True\n",
    "        return False\n",
    "        \n",
    "        \n",
    "    def get_buy_price(self):\n",
    "        # Identify the buying price for a stock\n",
    "        positions=self.api.list_positions()\n",
    "        for position in positions:\n",
    "            if position.symbol==self.STOCK:\n",
    "                return float(position.cost_basis)/int(position.qty)\n",
    "    \n",
    "    \n",
    "    def buy_market_order(self):\n",
    "        # Buy the stock at market price (This is for paper-trading)\n",
    "        if self.NEW_QUANTITY > 0:\n",
    "            self.api.submit_order(self.STOCK, \\\n",
    "                        qty=self.NEW_QUANTITY,\\\n",
    "                        side=\"buy\",\\\n",
    "                        type=\"market\", \\\n",
    "                        time_in_force=\"day\",\n",
    "                        order_class=None)\n",
    "        \n",
    "    def buy_limit_order(self,base_price):\n",
    "        pass\n",
    "        \n",
    "    def sell_limit_order(self):\n",
    "        # (This is for paper-trading)\n",
    "        pass\n",
    "        # Your code if you want to sell at limit\n",
    "        # Check Alpaca docs on selling at limit\n",
    "        \n",
    "    def identify_strategy_for_selling(self):\n",
    "        # If you have multiple strategies\n",
    "        # Pick between them here - Or use ML to help identify \n",
    "        # your strategy\n",
    "        pass\n",
    "        \n",
    "        \n",
    "    def market_buy_strategy(self):\n",
    "        # Providing a simple trading strategy here:\n",
    "        # Buy at market price if conditions are favorable for buying\n",
    "        # Sell at a limit price that is determined based on buying price\n",
    "        # This strategy doesn't use any ML here - You may want to use\n",
    "        # appropriate libraries to train models + use the trained strategy \n",
    "        # here\n",
    "        \n",
    "        # Get existing quantity\n",
    "        positions = self.api.list_positions()\n",
    "        self.EXISTING_QUANTITY = 0\n",
    "        for position in positions:\n",
    "            if position.symbol == self.STOCK:\n",
    "                self.EXISTING_QUANTITY += int(position.qty)\n",
    "                \n",
    "        # MARKET BUY order\n",
    "        self.NEW_QUANTITY=self.get_quantity_buy()\n",
    "        \n",
    "        if self.NEW_QUANTITY == 0:\n",
    "            return \"ZERO EQUITY\"\n",
    "        \n",
    "        if not self.exists_buy_order():\n",
    "            self.buy_market_order()\n",
    "            \n",
    "        \n",
    "        # BRACKET SELL order\n",
    "        # Initiate sell order if stock has been bought\n",
    "        # If not, wait for it to be bought\n",
    "        while not self.have_bought_stock():\n",
    "            #print(self.api.positions)\n",
    "            #print(self.NEW_QUANTITY + self.EXISTING_QUANTITY)\n",
    "            time.sleep(1)\n",
    "        \n",
    "        if self.have_bought_stock():\n",
    "            buy_price=self.get_buy_price()\n",
    "            self.SELL_LIMIT_PRICE=int(float(buy_price))*self.SELL_LIMIT_FACTOR\n",
    "            \n",
    "            # Initiate Sell order\n",
    "            self.sell_limit_order()\n",
    "      \n",
    "    def your_best_strategy(self):\n",
    "        # Implement here or add other methods to do the same\n",
    "        pass\n",
    "        \n",
    " "
   ]
  },
  {
   "cell_type": "code",
   "execution_count": null,
   "metadata": {},
   "outputs": [],
   "source": [
    "# Get an instance of your class \n",
    "strategy = TradingStrategy('GOOG')\n",
    "strategy.market_buy_strategy() # Initiates a market buy and limit sell order\n",
    "# This will accept a order only during market hours. However you can \n",
    "# use the market data api outside hours"
   ]
  },
  {
   "cell_type": "code",
   "execution_count": null,
   "metadata": {},
   "outputs": [],
   "source": []
  }
 ],
 "metadata": {
  "kernelspec": {
   "display_name": "Python 3",
   "language": "python",
   "name": "python3"
  },
  "language_info": {
   "codemirror_mode": {
    "name": "ipython",
    "version": 3
   },
   "file_extension": ".py",
   "mimetype": "text/x-python",
   "name": "python",
   "nbconvert_exporter": "python",
   "pygments_lexer": "ipython3",
   "version": "3.8.5"
  }
 },
 "nbformat": 4,
 "nbformat_minor": 4
}
