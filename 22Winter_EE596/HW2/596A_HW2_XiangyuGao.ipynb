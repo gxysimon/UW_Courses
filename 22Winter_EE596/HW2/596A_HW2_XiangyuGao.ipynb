{
  "cells": [
    {
      "cell_type": "markdown",
      "metadata": {
        "id": "jpCLrU3v5iPA"
      },
      "source": [
        "## Spam Filtering\n",
        "In this programming assignment, we will be looking at Spam Filtering with a real data set that has a \"label\" for every email - i.e. spam or not spam. We will use logistic regression classifier to solve this assignment and participate in a friendly competition on Kaggle (Details below). The assignment goes from data loading to data inspection to data pre-processing to creating a train/test data set to finally doing machine learning, making predictions and evaluating it. This is typically one part of the \"full pipeline\" in ML modeling/prototyping - So you will get a sampler taste of some \"prototype pipeline\" work that happens in practice! Have fun!! And if you get stuck somewhere - Use discord - Maybe someone has a suggestion that will unblock you.\n",
        "\n",
        "The submission consists of two parts:\n",
        "a) A submission of your complete working code with train/validation data sets + your write-up with insights and your learnings (details on this provided below)\n",
        "b) Evaluation of your best model on the Kaggle evaluation data set - For this you can form a team of 2 - To brainstorm ideas and make your best submission. Include your team name, team members in your submission.\n",
        "\n",
        "Kaggle Starting Point for the competition: https://www.kaggle.com/t/7d2850f5b99a41fba457f2ad7acd0fca\n"
      ]
    },
    {
      "cell_type": "markdown",
      "metadata": {
        "id": "uZf4Yw805iPE"
      },
      "source": [
        "## Loading the data set"
      ]
    },
    {
      "cell_type": "code",
      "source": [
        "import pandas as pd\n",
        "import nltk \n",
        "from nltk.tokenize import word_tokenize\n",
        "from nltk.corpus import stopwords\n",
        "from sklearn.model_selection import train_test_split\n",
        "import matplotlib\n",
        "matplotlib.rcParams['font.sans-serif']=[u'simHei']\n",
        "matplotlib.rcParams['axes.unicode_minus']=False\n",
        "import numpy as np\n",
        "from sklearn.feature_extraction.text import TfidfVectorizer\n",
        "from sklearn.linear_model import LogisticRegression\n",
        "from sklearn.model_selection import train_test_split,cross_val_score\n",
        "from sklearn.metrics import confusion_matrix\n",
        "import matplotlib.pyplot as plt\n",
        "from sklearn.metrics import classification_report\n",
        "from sklearn.metrics import roc_curve,auc\n",
        "from sklearn.preprocessing import LabelEncoder"
      ],
      "metadata": {
        "id": "m7ZmD_Hlu11S"
      },
      "execution_count": null,
      "outputs": []
    },
    {
      "cell_type": "code",
      "execution_count": null,
      "metadata": {
        "id": "jQeBPqf75iPE"
      },
      "outputs": [],
      "source": [
        "local_file=\"all_emails.csv\"\n",
        "data_set = pd.read_csv(local_file,sep=',',index_col=0,engine='python',error_bad_lines=False)"
      ]
    },
    {
      "cell_type": "markdown",
      "metadata": {
        "id": "8gMdyTw15iPF"
      },
      "source": [
        "## 1) Inspecting the data set"
      ]
    },
    {
      "cell_type": "code",
      "execution_count": null,
      "metadata": {
        "id": "EYXiGRKn5iPF",
        "colab": {
          "base_uri": "https://localhost:8080/",
          "height": 525
        },
        "outputId": "271ca088-ecbf-4e9f-8d70-84f29455e5de"
      },
      "outputs": [
        {
          "output_type": "stream",
          "name": "stdout",
          "text": [
            "Subject: naturally irresistible your corporate identity  lt is really hard to recollect a company : the  market is full of suqgestions and the information isoverwhelminq ; but a good  catchy logo , stylish statlonery and outstanding website  will make the task much easier .  we do not promise that havinq ordered a iogo your  company will automaticaily become a world ieader : it isguite ciear that  without good products , effective business organization and practicable aim it  will be hotat nowadays market ; but we do promise that your marketing efforts  will become much more effective . here is the list of clear  benefits : creativeness : hand - made , original logos , specially done  to reflect your distinctive company image . convenience : logo and stationery  are provided in all formats ; easy - to - use content management system letsyou  change your website content and even its structure . promptness : you  will see logo drafts within three business days . affordability : your  marketing break - through shouldn ' t make gaps in your budget . 100 % satisfaction  guaranteed : we provide unlimited amount of changes with no extra fees for you to  be surethat you will love the result of this collaboration . have a look at our  portfolio _ _ _ _ _ _ _ _ _ _ _ _ _ _ _ _ _ _ _ _ _ _ _ _ _ _ _ _ _ _ _ _ _ _ _ _ _ _ _ _ _ _ _ _ _ _ _ _ _ _ _ _ not interested . . . _ _ _ _ _ _ _ _ _ _ _ _ _ _ _ _ _ _ _ _ _ _ _ _ _ _ _ _ _ _ _ _ _ _ _ _ _ _ _ _ _ _ _ _ _ _ _ _ _ _ _ _ spam: 1\n",
            "Subject: the stock trading gunslinger  fanny is merrill but muzo not colza attainder and penultimate like esmark perspicuous ramble is segovia not group try slung kansas tanzania yes chameleon or continuant clothesman no  libretto is chesapeake but tight not waterway herald and hawthorn like chisel morristown superior is deoxyribonucleic not clockwork try hall incredible mcdougall yes hepburn or einsteinian earmark no  sapling is boar but duane not plain palfrey and inflexible like huzzah pepperoni bedtime is nameable not attire try edt chronography optima yes pirogue or diffusion albeit no  spam: 1\n",
            "Subject: 4 color printing special  request additional information now ! click here  click here for a printable version of our order form ( pdf format )  phone : ( 626 ) 338 - 8090 fax : ( 626 ) 338 - 8102 e - mail : ramsey @ goldengraphix . com  request additional information now ! click here  click here for a printable version of our order form ( pdf format )  golden graphix & printing 5110 azusa canyon rd . irwindale , ca 91706 this e - mail message is an advertisement and / or solicitation .  spam: 1\n",
            "Subject: do not have money , get software cds from here !  software compatibility . . . . ain ' t it great ?  grow old along with me the best is yet to be .  all tradgedies are finish ' d by death . all comedies are ended by marriage . spam: 1\n",
            "Subject: great nnews  hello , welcome to medzonline sh groundsel op  we are pleased to introduce ourselves as one of the ieading online phar felicitation maceuticai shops .  helter v  shakedown r  a cosmopolitan l  l blister l  l bestow ag  ac tosher l  is coadjutor va  confidant um  andmanyother .  - sav inexpiable e over 75 %  - total confide leisure ntiaiity  - worldwide s polite hlpplng  - ov allusion er 5 miilion customers in 150 countries  have devitalize a nice day ! spam: 1\n",
            "Subject: hello guys ,  i ' m \" bugging you \" for your completed questionnaire and for a one - page  bio / statement on your thoughts on \" business edu and the new economy \" . if  my records are incorrect please re - ship your responses to me . i want to  put everything together next week so that i can ship it back to everyone .  the questionnaire is attached as well as copies of the bio pages for  michael froehls and myself ( two somewhat different approaches ) . the idea  of the latter is just to introduce yourself to the other panelists and give  them some background on how you are approaching the issues we will discuss .  we will also provide copies to the attendees and use this material for our  personal introductions at the opening of the panel discussions .  thanks and i look forward to seeing you in two weeks .  john  - waco _ background _ mf . doc  - jmartinbiosketch . doc  - questionnaire . doc  john d . martin  carr p . collins chair in finance  finance department  baylor university  po box 98004  waco , tx 76798  254 - 710 - 4473 ( office )  254 - 710 - 1092 ( fax )  j _ martin @ baylor . edu  web : http : / / hsb . baylor . edu / html / martinj / home . html spam: 0\n",
            "Subject: sacramento weather station  fyi  - - - - - - - - - - - - - - - - - - - - - - forwarded by mike a roberts / hou / ect on 09 / 20 / 2000  09 : 06 am - - - - - - - - - - - - - - - - - - - - - - - - - - -  scott tholan @ enron  09 / 19 / 2000 07 : 57 pm  to : mark tawney / hou / ect @ ect , gary taylor / hou / ect @ ect , mike a  roberts / hou / ect @ ect  cc : chris clark / na / enron @ enron  subject : sacramento weather station  hey guys ,  we ' re talking to a contractor ( s ) that can build us a weather station  ( hopefully very quickly ) for placement in sacramento , california . for a  variety of legal , contractor , and operational reasons , i need to confirm some  of the following requirements as soon as possible so we can proceed :  a ) you need rainfall , snowfall , and temperature measurement from one ,  high - accuracy commercially available weather station .  b ) you need a daily feed of this data to enron ' s weather desk : does this  mean one data dump at a set time per day ? alternatively , will you need to  check the data real - time , perhaps at varying and multiple times during the  day ?  c ) we will be installing this station near sacramento , california : we will  need to know exactly what areas in / near sacramento are suitable for the site  of the weather station . ( what again was the name of the town that you  mentioned mark ? ) in the interest of time , i recommend that your weather  expert accompany our landman to select the site , which will allow our landman  to more quickly lease and install the station .  d ) you desire to have some independent security measures to deter or detect  tampering . i suggest given the very short time fuse , that we first install  the station and then develop security measures .  e ) we will feed the data directly to the enron weather desk . will any other  parties require real - time access to this data ?  please forward responses directly to : chris clark / na / enron and myself .  thanks , scott spam: 0\n",
            "Subject: from the enron india newsdesk - jan 18 th newsclips  vince ,  fyi .  - - - - - - - - - - - - - - - - - - - - - - forwarded by sandeep kohli / enron _ development on  01 / 19 / 2001 05 : 12 pm - - - - - - - - - - - - - - - - - - - - - - - - - - -  from the enron india newsdesk - jan 18 th newsclips  untie them ( editorial )  thursday jan 18 2001 , http : / / www . economictimes . com / today / 18 edito 2 . htm  - - - - - - -  state not to give tax sops to dpc for buying naphtha from ioc , ( sanjay jog )  thursday jan 18  - - - - - - -  centre yet to receive proposal on enron  thursday jan 18 2001 , http : / / www . economictimes . com / today / 18 infro 2 . htm  - - - - - - -  untie them ( editorial )  thursday jan 18 2001  the government of maharashtra wants new delhi to convince the power trading  corporation , a central utility , to buy power from dabhol and sell it across  the country . it would be far simpler if dabhol and all independent power  producers were allowed to sell power to whoever was willing to pay for  it . that , unfortunately , is not allowed by law , which forces private sector  generators to sell power only to state utilities , which in turn , are not  permitted to sell power across states on their own .  most state electricity boards are bankrupt . mseb reportedly owes central  utilities rs 5 , 000 crore . they cannot bring themselves to charge many types  of users for the power consumed , nor can they prevent large - scale theft of  electricity . few , including wealthy maharashtra , have the will to reform  state electricity boards and privatise transmission and distribution . given  this profile of buyers , private generators demand sovereign guarantees to  help them tide over default risks . but the guarantees merely insulate ipps  against risk . they cannot make sebs solvent . yet , india needs power  desperately . maharashtra , india \u0001 , s richest state , experiences power shortages  of around 2 , 000 mw , about a sixth of its peak needs .  over time , the hunger for power will only grow . india cannot afford to wait  for the painful politics of seb reform to work themselves out . the government  should bring in legislation that allows ipps to sell power directly to paying  customers . this will free ipps from the clutches of bankrupt monopsony buyers .  the power trading legislation will have unexpectedly happy consequences for  the government too . once ipps are freed from their onerous obligations to sell  power to single , mostly bankrupt buyers , their default risks will come down  substantially . new delhi and state governments should then scrap the  guarantees that they gave ipps in the past .  the combination of power trading , private investments in generation ,  transmission and distribution , and gradual seb reform will create a  commercial , workable and competitive power market in india . anything less  will be a recipe for disaster .  - - - - - - -  state not to give tax sops to dpc for buying naphtha from ioc , ( sanjay jog )  thursday jan 18 2001  the maharshtra government ' s finance department , which is striving to reduce  fiscal deficit from rs 9 , 484 crore to rs 3 , 484 crore by the beginning of  april this year , has expressed its inability to provide a sales tax waiver to  the dabhol power company ( dpc ) on the procurement of 1 . 2 million tonne of  naphtha from the state - run indian oil corporation ( ioc ) .  mantralaya sources told the financial express on wednesday that dpc would  have to pay 4 per cent sales tax . \" the government , way back in 1995 , has  modified the sales tax rate to 4 per cent to discourage the import of naphtha  from gujarat by electrical companies operating in maharashtra . the decision  was taken with a view to encouraging electrical companies to procure naphtha  at reduced rates within the state , \" government sources added . sources said  that these companies had to pay nearly 15 . 3 per cent sales tax on naphtha  that was procured from gujarat . however , following their representation , the  government slashed the sales tax rate to 4 per cent .  the state finance department ' s opinion , which would be presented before the  state cabinet shortly in order to take a final decision , deserves special  significance especially when the state energy department and the loss - making  maharashtra state electricity board ( mseb ) have wholeheartedly supported the  dpc ' s cause and recommended the sales tax waiver . dpc , which was asked by the  union ministry of oil and petroleum to procure naphtha within the country in  view of excess availability , in its presentation to the state government and  to mseb , had made it clear that it would be left with no alternative but to  pass on the additional burden on the mseb which would be ultimately passed on  to its consumers . dpc had also told the state government that it had not paid  sales tax on the procurement of naphtha from glencore in the calender year  2000 .  sources from the state energy department and mseb have stressed on the need  for such a waiver while expressing their inability to bear additional burden .  they have suggested that the state should reciprocate by offering a sales tax  exemption to dpc because the ioc , at the behest of the centre , has tried to  match the international landing price of naphtha during the recently signed  memorandum of agreement with dpc . \" if the state finance department sticks to  its views , it may hurt the state as a whole , \" sources from the state energy  department and mseb said . dpc will procure naphtha at rs 11 , 050 per ton from  ioc during the calender year 2001 as compared to the rs 10 , 050 per tonne  price quoted by glencore . the naphtha price comprises $ 175 per tonne free on  board ( fob ) , 21 . 8 per cent of customs duty , 5 . 4 per cent of sales tax and  $ 18 . 87 of premium .  dpc senior vice president mukesh tyagi reiterated that the company has  already made an appeal to the state government for the sales tax waiver on  naphtha in the larger interest of the consumers . \" sales tax is a pass through  and mseb , which will have to bear the additional burden , will pass it on the  consumers , \" he added .  - - - - - - -  centre yet to receive proposal on enron  thursday jan 18 2001  centre on wednesday said that it had not recevied any proposal from  maharashtra government seeking help to solve the tangle with the enron  promoted dhabol power project relating to cost and surplus power . asked about  the reports that maharashtra government was sending a proposal that centre  buy surplus power from dhabol power company through power trading  corporation , power minister suresh prabhu said \" we have not received any  proposal . \" \" we are carefully watching the situation and will await a concrete  proposal before intervening in this matter , \" parbhu said on the sidelines of  greentech environment excellence awards ceremony , here . asked whether there  was any possibility of the government asking the power trading corporation to  buy power from the dhabol power corporation , prabhu replied \" what will the  ptc do with the power ? \"  prabhu had earlier asked the state government to study the matter before  approaching the centre for payment of dues . mseb had earlier declined to pick  up its 15 per cent stake in phase ii of the 1444 mw project . the enron issue  has been hanging fire with the maharashtra state electricity board unable to  clear the dues of dpc as a result of the skyrocketing prices of naphtha  infact mseb has asked dpc to backdown completely leading to a situation where  dpc has stopped production at the facility from the begining of the  month . state government has stepped in with support to the tune of rs 114  crore to enable mseb to clear the dues for october . mseb dues to dpc for  november and december amount to over rs 300 crores . spam: 0\n",
            "Subject: re : powerisk 2001 - your invitation  angelika ,  thanks for the invitation .  yes , i shall be glad to attend and repeat the same presentation .  vince  angelika staude on 04 / 09 / 2001 04 : 19 : 08 am  to : \" ' vince . j . kaminski @ enron . com ' \"  cc :  subject : powerisk 2001 - your invitation  ?  powerisk 2001  the global premier forumforenergy trading & risk management  ? 6 th - 9 th november 2001 , paris  ?  dear mr kaminski ,  ?  i am responsible for the programme of this year ' s powerisk conference in  paris . helyette geman has informed me that she has contacted you concerning  the workshop and that you are happy to do it with her again this year -  brilliant !  ?  i would like to know if you are also interested in delivering a paper again .  the audience in previous years greatly appreciated your contribution , and i  would me more than happy if you could join us again .  ?  to give you an idea of the programme so far , these are the ( \" technical \" )  topics that are already covered :  ?  chris strickland : forward curve models with jumps for the pricing of exotic  energy contracts  multi - factor forward curve models for the valuation of energy contracts  adding jumps  applying the models to exotic energy options  extensions to multiple energy contracts  les clewlow : valuation and risk management of virtual power stations and  gas supply agreements  structures of gas supply agreements ( gsa )  relationships between physical and virtual power stations ( pps / vps )  valuation methods for gsa ' s and vps ' s  risk analysis of gsa ' s and vps ' s  derek bunn , professor of decision sciences , london business school :  analysing the impact of neta on market efficiency & volatility in the uk  energy market  chris harris , director of market development . operations and engineering ,  innogy : applying cutting - edge portfolio management theory in order to  optimise your risk exposure  establishing and valuing the key factors using a bottom up approach  looking at the interconnection between key factors  the treatment of the risk of infrequent but high impact events  peter nance , principal , teknecon : combining power systems and monte carlo  simulations for effective pricing  dan mansfeld , head of risk control , vattenfall : assessing the benefits  and risks of using derivatives as part of your risk management strategy  spyros maragos : analysing new approaches to building forward curves from  available market data  tamara weinert , credit and contracts manager , mirant energy : successfully  measuring limit  setting ; risk reducing structures  importance of credit in the organizational structure : reporting ; dependence ;  structure of credit department  brett humphreys : examining cutting - edge credit exposure mitigation tools :  combining counterparty and portfolio credit var techniques  helyette geman : pricing of exotic energy derivatives and structured contracts  please let me know if you are interested in joining the powerisk 2001  speaker panel , and which topic you would like to cover . i think that  something along the lines of last year ' s talk ( state - of - the - art volatility  and correlation estimation techniques for multiple energy portfolios ) would  be brilliant again , but please feel free to chose something else that has  not been covered yet .  ?  i look forward to hearing from you ,  ?  kind regards ,  angelika staude  ?  director ? powerisk 2001  ?  tel : 0044 207 915 5675  fax : 0044 207 915 5101  ?  ?  ps : for your information , please find enclosed a list of confirmed speakers  for powerisk 2001 .  - confirmed speakers . doc spam: 0\n",
            "Subject: re : resco database and customer capture  steve ,  krishna from my group . krishna can also advise you on resco participation .  vince  steven r meyers @ ees  04 / 11 / 2000 04 : 51 pm  to : vince j kaminski / hou / ect @ ect  cc :  subject : re : resco database and customer capture  vince ,  i was not going to be involved directly in the meeting . who from either your  group or from resco marketing should participate ?  thanks ,  steve  vince j kaminski @ ect  04 / 11 / 2000 08 : 27 am  to : steven r meyers / hou / ees @ ees  cc : pinnamaneni krishnarao / hou / ect @ ect , vince j kaminski / hou / ect @ ect  subject : re : resco database and customer capture  steve ,  it makes sense to meet with abacus . retail marketing is very data intensive .  if you set up a meeting with them ,  please , let me know .  vince  steven r meyers @ ees  04 / 11 / 2000 08 : 17 am  to : timothy edward vail / hou / ees @ ees  cc : vince j kaminski / hou / ect @ ect  subject : resco database and customer capture  tim ,  i hope things are going well in resco . i think somebody from resco ( or  research ) may be interested in the email i received below from brad davids .  brad is now working at abacus who works with residential customer patterns as  well as predictive modelling . he ' s going to be here the 25 and 26 of this  month . i ' m not sure who is responsible for resco marketing , but i think they  would find this interesting . who should i send this to ? please let me know  if anybody in resco may have any interest .  thanks ,  steve  ps : vince , simply an fyi since they do focus on modelling and research .  - - - - - - - - - - - - - - - - - - - - - - forwarded by steven r meyers / hou / ees on 04 / 11 / 2000  08 : 14 am - - - - - - - - - - - - - - - - - - - - - - - - - - -  bradley davids on 04 / 10 / 2000 08 : 35 : 32 pm  to : \" ' steven . r . meyers @ enron . com ' \"  cc :  subject : re : possible meeting ?  steve :  i ' ll see if i can get in on the 25 th . . . will let you know , but i think  it ' ll work .  just to give you a very brief overview so you can think about who might be  interested , abacus has the largest transactional database of consumer buying  behavior in the world ( 89 million us households , 3 billion + purchases ) ,  along with sophisticated modeling capabilities to help predict customer  response to various offers at the household level . given the critical need  to reduce customer acquisition costs in retail energy markets , we believe  that our data and modeling can help energy retailers target their direct  marketing efforts toward the residential customers most likely to respond to  whatever the offer is - - improving the efficiency of mailings and other  promotional campaigns ( so there is an efficiency angle , see ! )  because our data allow the modeling of future buying behavior based on  actual purchases , our results tend to be significantly more predictive than  demographic - based models . so far , the the response from utilities and \" new  entrants \" i ' ve been talking to so far has been quite positive , and we have  some tests of our data underway , but we ' re interested in talking to as many  players in the market as possible as we develop specific products to meet  utility needs .  i can provide more background if desired to whoever might be interested , but  i guess the key immediate question is whether it might be worthwhile to  arrange a short meeting sometime on the 25 th of april with whoever at enron  might have interest in hearing what we ' re up to , and ( most importantly )  listening to what your data needs might be as you enter new markets .  thanks very much for any help . . . i look forward to catching up and  hearing how things are going for you .  regards ,  brad davids  303 - 410 - 5531  - - - - - original message - - - - -  from : steven . r . meyers @ enron . com [ mailto : steven . r . meyers @ enron . com ]  sent : monday , april 10 , 2000 12 : 13 pm  to : brad . davids @ abacus - direct . com  subject : re : possible meeting ?  it ' d be great to meet on the 25 th in the afternoon . i have a flight in the  evening . i ' m interested in hearing about life at abacus . i too have heard  that enron is getting back into the residential market . what type of  database do you have ? i might be able to find somebody for you to talk  with here .  - steve  bradley davids on 04 / 10 / 2000 12 : 04 : 00 pm  to : \" steve meyers ( e - mail ) \"  cc :  subject : possible meeting ?  steve :  sorry we ' ve been unable to hook up . . . i can probably get down there on  the 25 th , if you ' re going to be in town that afternoon ? would love to catch  up - - both on how things are going with ees and tell you about my new life .  also , i ' m hearing rumors that enron is about to get back into the  residential market in a big way - - you know anything about that ? anybody i  should talk to there about my huge database of consumer buying behavior ?  thanks - - looking forward to connecting . . . i ' ll be travelling most of this  week , but you can leave a vm and let me know when i can call you , or try me  on the cell at 303 - 886 - 3458 .  best ,  brad davids  bradley j . davids  associate vice president , utilities  abacus direct , a division of doubleclick , inc .  11101 west 120 th avenue  broomfield , co 80021 usa  e - mail brad . davids @ abacus - direct . com  tel 303 . 410 . 5531  fax 303 . 410 . 5300  www . doubleclick . net  www . abacus - direct . com  ( see attached file : c . dtf ) spam: 0\n"
          ]
        },
        {
          "output_type": "execute_result",
          "data": {
            "text/html": [
              "\n",
              "  <div id=\"df-cf0beb34-0e07-4541-bd83-988659212513\">\n",
              "    <div class=\"colab-df-container\">\n",
              "      <div>\n",
              "<style scoped>\n",
              "    .dataframe tbody tr th:only-of-type {\n",
              "        vertical-align: middle;\n",
              "    }\n",
              "\n",
              "    .dataframe tbody tr th {\n",
              "        vertical-align: top;\n",
              "    }\n",
              "\n",
              "    .dataframe thead th {\n",
              "        text-align: right;\n",
              "    }\n",
              "</style>\n",
              "<table border=\"1\" class=\"dataframe\">\n",
              "  <thead>\n",
              "    <tr style=\"text-align: right;\">\n",
              "      <th></th>\n",
              "      <th>text</th>\n",
              "      <th>spam</th>\n",
              "    </tr>\n",
              "    <tr>\n",
              "      <th>id</th>\n",
              "      <th></th>\n",
              "      <th></th>\n",
              "    </tr>\n",
              "  </thead>\n",
              "  <tbody>\n",
              "    <tr>\n",
              "      <th>5000</th>\n",
              "      <td>Subject: re : enron - resume interview of jame...</td>\n",
              "      <td>0</td>\n",
              "    </tr>\n",
              "    <tr>\n",
              "      <th>5002</th>\n",
              "      <td>Subject: re : nj alliance  michael lassle is i...</td>\n",
              "      <td>0</td>\n",
              "    </tr>\n",
              "    <tr>\n",
              "      <th>5003</th>\n",
              "      <td>Subject: contract summaries  attached are the ...</td>\n",
              "      <td>0</td>\n",
              "    </tr>\n",
              "    <tr>\n",
              "      <th>5004</th>\n",
              "      <td>Subject: re : working with enron on catastroph...</td>\n",
              "      <td>0</td>\n",
              "    </tr>\n",
              "    <tr>\n",
              "      <th>5006</th>\n",
              "      <td>Subject: maureen raymoin ' ds review  norma , ...</td>\n",
              "      <td>0</td>\n",
              "    </tr>\n",
              "    <tr>\n",
              "      <th>5007</th>\n",
              "      <td>Subject: john sherriff ' s copper position  te...</td>\n",
              "      <td>0</td>\n",
              "    </tr>\n",
              "    <tr>\n",
              "      <th>5008</th>\n",
              "      <td>Subject: is the supply rebound beginning ? an ...</td>\n",
              "      <td>0</td>\n",
              "    </tr>\n",
              "    <tr>\n",
              "      <th>5009</th>\n",
              "      <td>Subject: re : resco database and customer capt...</td>\n",
              "      <td>0</td>\n",
              "    </tr>\n",
              "  </tbody>\n",
              "</table>\n",
              "</div>\n",
              "      <button class=\"colab-df-convert\" onclick=\"convertToInteractive('df-cf0beb34-0e07-4541-bd83-988659212513')\"\n",
              "              title=\"Convert this dataframe to an interactive table.\"\n",
              "              style=\"display:none;\">\n",
              "        \n",
              "  <svg xmlns=\"http://www.w3.org/2000/svg\" height=\"24px\"viewBox=\"0 0 24 24\"\n",
              "       width=\"24px\">\n",
              "    <path d=\"M0 0h24v24H0V0z\" fill=\"none\"/>\n",
              "    <path d=\"M18.56 5.44l.94 2.06.94-2.06 2.06-.94-2.06-.94-.94-2.06-.94 2.06-2.06.94zm-11 1L8.5 8.5l.94-2.06 2.06-.94-2.06-.94L8.5 2.5l-.94 2.06-2.06.94zm10 10l.94 2.06.94-2.06 2.06-.94-2.06-.94-.94-2.06-.94 2.06-2.06.94z\"/><path d=\"M17.41 7.96l-1.37-1.37c-.4-.4-.92-.59-1.43-.59-.52 0-1.04.2-1.43.59L10.3 9.45l-7.72 7.72c-.78.78-.78 2.05 0 2.83L4 21.41c.39.39.9.59 1.41.59.51 0 1.02-.2 1.41-.59l7.78-7.78 2.81-2.81c.8-.78.8-2.07 0-2.86zM5.41 20L4 18.59l7.72-7.72 1.47 1.35L5.41 20z\"/>\n",
              "  </svg>\n",
              "      </button>\n",
              "      \n",
              "  <style>\n",
              "    .colab-df-container {\n",
              "      display:flex;\n",
              "      flex-wrap:wrap;\n",
              "      gap: 12px;\n",
              "    }\n",
              "\n",
              "    .colab-df-convert {\n",
              "      background-color: #E8F0FE;\n",
              "      border: none;\n",
              "      border-radius: 50%;\n",
              "      cursor: pointer;\n",
              "      display: none;\n",
              "      fill: #1967D2;\n",
              "      height: 32px;\n",
              "      padding: 0 0 0 0;\n",
              "      width: 32px;\n",
              "    }\n",
              "\n",
              "    .colab-df-convert:hover {\n",
              "      background-color: #E2EBFA;\n",
              "      box-shadow: 0px 1px 2px rgba(60, 64, 67, 0.3), 0px 1px 3px 1px rgba(60, 64, 67, 0.15);\n",
              "      fill: #174EA6;\n",
              "    }\n",
              "\n",
              "    [theme=dark] .colab-df-convert {\n",
              "      background-color: #3B4455;\n",
              "      fill: #D2E3FC;\n",
              "    }\n",
              "\n",
              "    [theme=dark] .colab-df-convert:hover {\n",
              "      background-color: #434B5C;\n",
              "      box-shadow: 0px 1px 3px 1px rgba(0, 0, 0, 0.15);\n",
              "      filter: drop-shadow(0px 1px 2px rgba(0, 0, 0, 0.3));\n",
              "      fill: #FFFFFF;\n",
              "    }\n",
              "  </style>\n",
              "\n",
              "      <script>\n",
              "        const buttonEl =\n",
              "          document.querySelector('#df-cf0beb34-0e07-4541-bd83-988659212513 button.colab-df-convert');\n",
              "        buttonEl.style.display =\n",
              "          google.colab.kernel.accessAllowed ? 'block' : 'none';\n",
              "\n",
              "        async function convertToInteractive(key) {\n",
              "          const element = document.querySelector('#df-cf0beb34-0e07-4541-bd83-988659212513');\n",
              "          const dataTable =\n",
              "            await google.colab.kernel.invokeFunction('convertToInteractive',\n",
              "                                                     [key], {});\n",
              "          if (!dataTable) return;\n",
              "\n",
              "          const docLinkHtml = 'Like what you see? Visit the ' +\n",
              "            '<a target=\"_blank\" href=https://colab.research.google.com/notebooks/data_table.ipynb>data table notebook</a>'\n",
              "            + ' to learn more about interactive tables.';\n",
              "          element.innerHTML = '';\n",
              "          dataTable['output_type'] = 'display_data';\n",
              "          await google.colab.output.renderOutput(dataTable, element);\n",
              "          const docLink = document.createElement('div');\n",
              "          docLink.innerHTML = docLinkHtml;\n",
              "          element.appendChild(docLink);\n",
              "        }\n",
              "      </script>\n",
              "    </div>\n",
              "  </div>\n",
              "  "
            ],
            "text/plain": [
              "                                                   text  spam\n",
              "id                                                           \n",
              "5000  Subject: re : enron - resume interview of jame...     0\n",
              "5002  Subject: re : nj alliance  michael lassle is i...     0\n",
              "5003  Subject: contract summaries  attached are the ...     0\n",
              "5004  Subject: re : working with enron on catastroph...     0\n",
              "5006  Subject: maureen raymoin ' ds review  norma , ...     0\n",
              "5007  Subject: john sherriff ' s copper position  te...     0\n",
              "5008  Subject: is the supply rebound beginning ? an ...     0\n",
              "5009  Subject: re : resco database and customer capt...     0"
            ]
          },
          "metadata": {},
          "execution_count": 187
        }
      ],
      "source": [
        "# 1. Print a few lines (i.e. each line is an email and a label) from the data_set containing spam (use a pandas functionality - e.g. getting the top lines)\n",
        "\n",
        "i = 0\n",
        "for row in data_set.itertuples():\n",
        "  if getattr(row,'spam') is 1 and i < 5:\n",
        "    i += 1\n",
        "    print(getattr(row,'text'),'spam:',getattr(row,'spam'))\n",
        "\n",
        "# 2. Print a few lines from data_set that are not spam\n",
        "\n",
        "for row in data_set.itertuples():\n",
        "  if getattr(row,'spam') is 0 and i < 10:\n",
        "    i += 1\n",
        "    print(getattr(row,'text'),'spam:',getattr(row,'spam'))\n",
        "\n",
        "# 3. Print the emails between lines 5000 and 5010 in the data set\n",
        "data_set.loc[5000:5010]"
      ]
    },
    {
      "cell_type": "markdown",
      "metadata": {
        "id": "j_e8UKXL5iPG"
      },
      "source": [
        "## 2) Data processing step for this HW: \n",
        "Do the following process for all emails in your data set - 1) Tokenize into words 2) Remove stop/filler words and 3) Remove punctuations \n",
        "Below - We have it done for a sample sentence"
      ]
    },
    {
      "cell_type": "markdown",
      "metadata": {
        "id": "XE_T6lMN5iPG"
      },
      "source": [
        "## Tokenizer\n",
        "Apply a tokenizer to tokenize the sentences in your email - So your sentence gets broken down to words. We will use a tokenizer from the NLTK library (Natural Language Tool Kit) below for a single sentence. \n"
      ]
    },
    {
      "cell_type": "code",
      "source": [
        "nltk.download('punkt')\n",
        "nltk.download('stopwords')"
      ],
      "metadata": {
        "id": "l8yqUMot6cGh",
        "colab": {
          "base_uri": "https://localhost:8080/"
        },
        "outputId": "2192b830-cd0a-4d61-dbfc-b72c871570dc"
      },
      "execution_count": null,
      "outputs": [
        {
          "output_type": "stream",
          "name": "stdout",
          "text": [
            "[nltk_data] Downloading package punkt to /root/nltk_data...\n",
            "[nltk_data]   Package punkt is already up-to-date!\n",
            "[nltk_data] Downloading package stopwords to /root/nltk_data...\n",
            "[nltk_data]   Package stopwords is already up-to-date!\n"
          ]
        },
        {
          "output_type": "execute_result",
          "data": {
            "text/plain": [
              "True"
            ]
          },
          "metadata": {},
          "execution_count": 188
        }
      ]
    },
    {
      "cell_type": "code",
      "source": [
        "def Tokenizer(data):\n",
        "  sentence = [getattr(row,'text') for row in data.itertuples()]\n",
        "  spam = [getattr(row,'spam') for row in data.itertuples()]\n",
        "  sentence_tokenized = [word_tokenize(sentence[i]) for i in range(len(sentence))]\n",
        "  for i in range(len(sentence)):\n",
        "    sentence_tokenized[i].append(str(spam[i]))\n",
        "  return sentence_tokenized\n",
        "  \n",
        "sentence_tokenized = Tokenizer(data_set)"
      ],
      "metadata": {
        "id": "KsmnF_UJwFMo"
      },
      "execution_count": null,
      "outputs": []
    },
    {
      "cell_type": "markdown",
      "metadata": {
        "id": "tj6m4Tq25iPI"
      },
      "source": [
        "## Stop Words: Remove Stop Words (or Filler words ) using stop words list"
      ]
    },
    {
      "cell_type": "code",
      "execution_count": null,
      "metadata": {
        "scrolled": false,
        "id": "uRNPZ6GS5iPI"
      },
      "outputs": [],
      "source": [
        "def Remove_stopwords(data):\n",
        "  filtered_words = [word for word in data if word not in stopwords.words('english')]\n",
        "  return filtered_words\n",
        "\n",
        "filtered_words = Remove_stopwords(sentence_tokenized)\n",
        "\n",
        "#filtered_words = [word for word in sentence_tokenized if word not in stopwords.words('english')]"
      ]
    },
    {
      "cell_type": "markdown",
      "metadata": {
        "id": "KgGhXats5iPJ"
      },
      "source": [
        "## Punctuations: Remove punctuations and other special characters from tokens\n",
        "\n",
        "### 3) Exercise: \n",
        "Inspect the resulting list below for any of your emails - Does it look clean and ready to be used for the next step in spam detection? Any other pre-processing steps you can think of or may want to do before spam detection? How about including other NLP features like bi-grams and tri-grams?\n"
      ]
    },
    {
      "cell_type": "markdown",
      "source": [
        "**Answer:** No, it does not. \n",
        "\n",
        "In the dataset, there are still some other characters  which might influence the result of the training, such as pubctuations, spaces and some special symbols. \n",
        "\n",
        "After cleaned the dataset, I have rebuilt a DataFrame to load the cleaned dataset."
      ],
      "metadata": {
        "id": "lQ-ulJTbnr40"
      }
    },
    {
      "cell_type": "code",
      "source": [
        "def Remove_punctuations(data):\n",
        "  new_words = []\n",
        "  final_words = []\n",
        "  for word in data:\n",
        "    a = []\n",
        "    for i in range(len(word)):\n",
        "      if word[i].isalnum():\n",
        "        a.append(word[i])\n",
        "    new_words.append(a)\n",
        "  return new_words\n",
        "\n",
        "def to_dataframe(data):\n",
        "  df = pd.DataFrame(columns=['text','spam'])\n",
        "  for word in data:\n",
        "    str_words = ','.join(word[0:-1])\n",
        "    str_spam = word[-1]\n",
        "    str_text = [str_words,word[-1]]\n",
        "    df = df.append([{'text':str_words,'spam':str_spam}],ignore_index=True)\n",
        "  return df\n",
        "\n",
        "new_words = Remove_punctuations(filtered_words)\n",
        "df = to_dataframe(new_words)"
      ],
      "metadata": {
        "id": "L0YnQ9E1xXC0"
      },
      "execution_count": null,
      "outputs": []
    },
    {
      "cell_type": "markdown",
      "metadata": {
        "id": "9wjeTK3M5iPJ"
      },
      "source": [
        "## 4) Train/Validation Split\n",
        "Now for each email in your data set - You have boiled the email down to its essentials - A list of words that are clean and ready for some Machine Learning! Maybe punctuations matter for spam emails!!? \n",
        "If you wish to keep them, you may for your curiosity and see how it impacts metrics (i.e. skip step 3 above). \n",
        "\n",
        "What we will do now is split the data set into train and test set - The train set can have 80% of the data (i.e. emails along with their labels) chosen at random - But with good representation from both spam and not-spam email classes. And the same goes for the test set - Which would have the remaining 20% of the data.\n",
        "Look up python libraries that can do this data split for you automatically?\n"
      ]
    },
    {
      "cell_type": "markdown",
      "source": [
        "**Answer**：Punctuations might deteriorate the result of the prediction actually. I have test for the cleaned dataset and the raw dataset, and I found that there is about difference of 0.6% between these two results, which raw one is lower that cleaned one."
      ],
      "metadata": {
        "id": "brl0-Uozu7iU"
      }
    },
    {
      "cell_type": "code",
      "source": [
        "data_set_raw = pd.read_csv(local_file,sep=',',usecols=[1,2],engine='python',error_bad_lines=False)\n",
        "sentence_tokenized_raw = Tokenizer(data_set_raw)\n",
        "filtered_words_raw = Remove_stopwords(sentence_tokenized_raw)\n",
        "df_raw = to_dataframe(sentence_tokenized_raw)"
      ],
      "metadata": {
        "id": "SPvw8ywWvaqB"
      },
      "execution_count": null,
      "outputs": []
    },
    {
      "cell_type": "code",
      "source": [
        "X = df['text'].values\n",
        "y = df['spam'].values\n",
        "# X = df_raw['text'].values\n",
        "# y = df_raw['spam'].values\n",
        "X_train_raw,X_test_raw,y_train,y_test=train_test_split(X,y)\n",
        "#vectorizer = CountVectorizer(binary=True)\n",
        "vectorizer = TfidfVectorizer()\n",
        "X_train = vectorizer.fit_transform(X_train_raw)\n",
        "X_test = vectorizer.transform(X_test_raw)"
      ],
      "metadata": {
        "id": "swAvYvEmjJoj"
      },
      "execution_count": null,
      "outputs": []
    },
    {
      "cell_type": "markdown",
      "metadata": {
        "id": "w-RjrNu85iPK"
      },
      "source": [
        "# 5) Train your model and evaluate on Kaggle\n",
        "Report your train/validation F1-score for your baseline model (starter LR model) and also your best LR model. Also report your insights on what worked and what did not on the Kaggle evaluation. How can your model be improved? Where does your model make mistakes?\n"
      ]
    },
    {
      "cell_type": "markdown",
      "source": [
        "**Answer:** The accuracy of training is about 0.9872, the F1 score is about 0.9731.\n",
        "\n",
        "I have tried Word frequency vector and tf-idf vector both.I found that tf-idf was better than word frequency.\n",
        "\n",
        "I have a well score on eval_student_2 dataset, which is 0.99148. I personally suppose that my model have few mistakes.\n",
        "\n",
        "Furthermore, I have tried another model which called Naive Bayes. Fortunately， it works, the accuracy is 0.9824, the F1 score is 0.9689"
      ],
      "metadata": {
        "id": "opAXB3vhwL1t"
      }
    },
    {
      "cell_type": "markdown",
      "source": [
        "## LR Regression"
      ],
      "metadata": {
        "id": "A63qBwuwknhC"
      }
    },
    {
      "cell_type": "code",
      "source": [
        "# -*- coding: utf-8 -*-\n",
        "LR = LogisticRegression()\n",
        "LR.fit(X_train,y_train)\n",
        "predictions = LR.predict(X_test)\n",
        "for i,prediction in enumerate(predictions[:5]):\n",
        "   print(\"predict: %s ,text: %s\" % (prediction,X_test_raw[i]))"
      ],
      "metadata": {
        "colab": {
          "base_uri": "https://localhost:8080/"
        },
        "id": "vrGkF94FLQpB",
        "outputId": "9699d9d8-89b8-42fe-dc62-ac1b1ac1273a"
      },
      "execution_count": null,
      "outputs": [
        {
          "output_type": "stream",
          "name": "stdout",
          "text": [
            "predict: 0 ,text: Subject,congestion,pricing,forecasting,program,i,would,like,to,go,to,this,conference,tutorial,on,congestion,modeling,and,management,is,that,ok,or,would,you,prefer,somebody,else,to,go,thanks,vasant,forwarded,by,vasant,shanbhogue,hou,ect,on,01,19,2001,05,38,pm,infocast,on,01,19,2001,03,58,13,pm,to,vasant,shanbhogue,enron,com,cc,subject,congestion,pricing,forecasting,program,as,an,infocast,preferred,customer,we,would,like,to,invite,you,to,attend,our,highly,acclaimed,program,congestion,pricing,forecasting,scheduled,for,february,21,23,2001,in,washington,dc,at,a,very,special,discount,attend,this,program,for,only,895,00,and,the,pre,conference,workshop,congestion,pricing,tutorial,from,lmp,to,flow,based,for,only,520,00,this,is,a,25,savings,off,the,standard,tuition,however,this,special,offer,is,only,good,through,friday,january,26,2001,and,seats,are,rapidly,filling,attached,you,will,find,a,copy,of,this,timely,and,informative,infocast,program,or,you,can,visit,our,website,at,www,infocastinc,com,congestion,pricing,forecasting,has,been,designed,to,provide,you,with,a,clear,understanding,of,how,to,predict,the,impacts,of,congestion,and,what,mechanisms,can,be,used,to,control,these,impacts,experts,will,discuss,the,most,advanced,techniques,for,forecasting,transmission,congestion,locational,prices,and,ftr,prices,the,latest,approaches,to,the,seams,issues,the,pros,and,cons,of,implementing,a,flow,based,congestion,management,system,don,t,miss,this,excellent,opportunity,but,remember,this,offer,is,only,good,until,january,26,2001,so,please,phone,me,at,818,888,4444,ext,20,or,email,me,at,mail,infocastinc,com,and,mention,this,letter,to,be,registered,at,this,exceptional,price,you,can,also,fax,or,mail,me,your,completed,registration,form,along,with,this,letter,best,regards,hiedy,vitug,preferred,customer,representative,infocast,818,888,4444,ext,20,fax,818,888,4440,email,mail,infocastinc,com,enclosure,if,you,do,not,wish,to,receive,e,mail,notification,of,infocast,conferences,click,on,the,text,below,and,send,mailto,mail,com,subject,delete,from,mailing,list,congest,pdf\n",
            "predict: 0 ,text: Subject,re,job,posting,hi,vince,this,posting,is,for,my,group,thanks,for,the,referral,original,message,from,kaminski,vince,sent,tuesday,april,24,2001,5,31,pm,to,goodpasture,john,watson,kimberly,ferrell,lee,kaminski,vince,cc,krishnarao,pinnamaneni,subject,job,posting,i,am,teaching,a,class,at,rice,and,one,of,my,very,bright,students,sent,her,resume,in,response,to,this,posting,do,you,know,who,posted,this,job,vince,kaminski,forwarded,by,vince,j,kaminski,hou,ect,on,04,24,2001,05,27,pm,helen,demianenko,on,04,24,2001,02,11,05,pm,please,respond,to,to,cc,subject,job,posting,dear,vince,thanks,for,talking,to,me,this,morning,about,the,sr,risk,analyst,position,here,is,where,you,can,find,the,job,description,for,that,position,also,i,have,cut,and,pasted,it,down,below,just,in,case,i,appreciate,your,assistance,in,this,matter,and,will,start,working,on,my,cover,letter,right,away,i,would,also,like,to,talk,to,somebody,to,get,a,better,feel,for,the,position,is,this,really,an,mba,level,position,and,how,much,of,the,in,depth,learning,opportunities,for,the,derivatives,market,does,it,entail,sincerely,helen,demianenko,p,s,i,have,attached,my,resume,one,more,time,sr,risk,analyst,essential,functions,primary,accountability,for,managing,the,ets,risk,book,structure,and,processes,from,a,pipeline,front,office,perspective,work,within,current,nng,and,tw,marketing,organizations,to,effectively,integrate,risk,books,into,daily,marketing,and,structured,product,activities,provide,feedback,to,management,regarding,overall,and,specific,risk,positions,provide,support,for,consistent,and,accurate,deals,entry,reporting,for,stand,alone,risk,management,system,create,ad,hoc,reports,to,assist,management,in,risk,analysis,responsible,for,managing,and,providing,enhancements,to,the,capacity,books,maintain,functionality,and,provide,leadership,for,new,functionality,from,a,users,perspective,provide,support,and,direction,for,integration,of,capacity,books,and,revenue,management,project,support,revenue,management,team,essential,requirements,ba,bs,in,finance,or,accounting,mba,preferred,minimum,of,two,years,financial,instruments,experience,excellent,quantitative,analytic,and,systems,skills,knowledge,of,commodity,risk,book,concepts,understanding,of,physical,natural,gas,market,interstate,transportation,and,financial,derivatives,ability,to,interface,with,structuring,marketing,groups,in,order,to,define,business,requirements,ability,to,provide,leadership,for,business,and,system,processes,excellent,communication,skills,with,an,ability,to,communicate,across,organization,with,varied,skill,sets,and,ideas,must,be,self,motivated,with,a,high,level,of,energy,preferred,skills,na,special,characteristics,this,job,functions,in,a,team,oriented,fast,paced,environment,with,multiple,concurrent,assignments,and,constantly,changing,priorities,contact,responses,will,be,accepted,through,may,3,2001,respond,to,enron,corp,human,resources,235,p,o,box,3330,omaha,ne,68103,0330,or,e,mail,dea,crum,enron,com,as,a,doc,or,txt,attachment,please,include,this,requisition,number,job,id,0000108729,department,risk,management,reporti,company,enron,transportation,services,enron,transportation,services,location,houston,tx,type,posting,date,19,apr,01,helen,d,resume,doc\n",
            "predict: 0 ,text: Subject,open,enrollment,2001,open,enrollment,2001,is,going,on,now,through,october,22,nd,5,pm,cst,for,regular,full,time,and,regular,part,time,employees,your,2000,elections,will,automatically,rollover,for,2001,so,if,you,don,t,want,to,make,any,changes,do,absolutely,nothing,annual,elections,for,all,flexible,spending,accounts,will,rollover,too,yes,you,heard,right,all,2000,elections,will,automatically,rollover,for,2001,including,spending,accounts,to,make,it,even,more,convenient,print,your,2001,confirmation,statement,right,from,the,web,site,and,you,re,finished,sound,easy,it,is,don,t,have,your,packet,no,problem,you,can,access,the,enrollment,2001,web,site,and,print,your,personal,worksheet,right,from,your,desktop,call,benefits,at,1,800,332,7979,option,1,for,additional,information,or,assistance,confirmation,statements,will,be,mailed,to,your,home,at,the,end,of,october,and,final,changes,for,2001,can,be,made,via,the,web,or,ivr,from,11,8,11,15,logon,to,www,enron,benefitsnow,com,today,quick,facts,100,default,for,all,current,elections,and,spending,accounts,don,t,want,to,make,a,change,then,do,absolutely,nothing,your,2000,annual,election,will,rollover,for,2001,250,medical,deductible,plan,for,employees,residing,outside,of,a,network,area,hmo,plans,going,away,coventry,health,care,of,iowa,formerly,known,as,principal,health,care,presbyterian,health,plan,healthnet,of,oregon,formerly,known,as,qual,med,blue,shield,of,california,orthodontia,treatment,is,not,considered,a,pre,existing,condition,under,the,enron,corp,dental,plan,the,plan,will,coordinate,with,other,coverage,based,on,coordination,of,benefit,cob,rules,contact,metlife,at,1,800,492,8588,for,specific,details,and,information,new,hires,who,make,their,2000,elections,by,10,16,will,receive,their,2001,packets,the,first,week,of,november,for,enrollment,during,11,8,11,15,elections,not,in,by,10,16,will,require,a,manual,enrollment,for,2000,and,2001,and,must,be,made,within,31,days,of,their,hire,date,provider,directories,can,be,accessed,directly,from,the,enrollment,2001,web,site,or,1,link,directly,to,the,providers,through,the,hr,benefits,intranet,website,or,2,go,directly,to,the,source,by,logging,on,through,the,web,at,www,cigna,com,www,vsp,com,www,provider,uhc,com,enron,www,merck,medco,com\n",
            "predict: 0 ,text: Subject,re,resume,thanks,a,lot,and,just,let,me,know,the,schedule,afterwards,jinbaek,jinbaek,kim,ph,d,candidate,dept,of,industrial,engineering,and,operations,research,u,c,berkeley,http,www,ieor,berkeley,edu,jinbaek,go,bears,a,a,0,on,tue,24,oct,2000,vince,j,kaminski,enron,com,wrote,jinbaek,we,shall,invite,you,to,an,interview,in,houston,vince,jinbaek,kim,on,10,23,2000,07,25,36,pm,to,vkamins,enron,com,cc,subject,resume,dear,mr,kaminski,hi,i,am,a,ph,d,student,at,ieor,department,at,u,c,berkeley,thanks,for,your,presentation,today,it,gave,me,knowledge,and,interest,in,electricity,markets,and,your,company,as,you,mentioned,in,the,presentation,i,send,a,resume,to,give,me,opportunity,to,learn,more,about,your,company,i,hope,i,can,join,the,super,saturday,event,jinbaek,see,attached,file,resume,doc\n",
            "predict: 0 ,text: Subject,a,message,from,joe,sutton,today,i,announce,my,departure,from,enron,enron,is,a,great,company,and,i,have,enjoyed,working,with,our,terrific,employees,over,the,last,eight,years,together,we,have,made,enron,a,successful,global,company,with,enron,s,decreased,emphasis,on,international,asset,development,activity,however,i,have,decided,to,pursue,opportunities,where,i,can,make,greater,use,of,my,skills,and,experience,i,leave,enron,with,wonderful,memories,of,our,employees,and,the,many,successes,we,have,achieved,together,you,have,my,best,wishes,for,enron,s,continued,success,joe\n"
          ]
        }
      ]
    },
    {
      "cell_type": "code",
      "source": [
        "# In[2]Binary classification index\n",
        "# predictions and y_test\n",
        "confusion_matrix = confusion_matrix(y_test,predictions)\n",
        "print('confusion_matrix :')\n",
        "print(confusion_matrix)\n",
        "plt.matshow(confusion_matrix)\n",
        "plt.title(\"confusion matrix\")\n",
        "plt.colorbar()\n",
        "plt.ylabel(\"real values\")\n",
        "plt.xlabel(\"predict values\")\n",
        "plt.show()"
      ],
      "metadata": {
        "colab": {
          "base_uri": "https://localhost:8080/",
          "height": 310
        },
        "id": "ZobtUeXWWcBQ",
        "outputId": "68f8e104-1464-4587-b505-a7978c832360"
      },
      "execution_count": null,
      "outputs": [
        {
          "output_type": "stream",
          "name": "stdout",
          "text": [
            "confusion_matrix :\n",
            "[[801   4]\n",
            " [  8 252]]\n"
          ]
        },
        {
          "output_type": "display_data",
          "data": {
            "image/png": "[encoded data removed]",
            "text/plain": [
              "<Figure size 288x288 with 2 Axes>"
            ]
          },
          "metadata": {
            "needs_background": "light"
          }
        }
      ]
    },
    {
      "cell_type": "code",
      "source": [
        "# precision    recall  f1-score   support\n",
        "\n",
        "print(classification_report(y_test,predictions))\n",
        "\n",
        "# accuracy \n",
        "scores =  cross_val_score(LR,X_train,y_train,cv=5)\n",
        "print(\"accuracy: \",scores)\n",
        "print(\"average accuracy: \",np.mean(scores))\n",
        "\n",
        "# Labels must be converted to numeric values\n",
        "\n",
        "class_le = LabelEncoder()\n",
        "y_train_n = class_le.fit_transform(y_train)\n",
        "y_test_n = class_le.fit_transform(y_test)"
      ],
      "metadata": {
        "colab": {
          "base_uri": "https://localhost:8080/"
        },
        "id": "Amg1sO-_WBjs",
        "outputId": "237551d0-6521-4e9a-e8cd-d11963d054ef"
      },
      "execution_count": null,
      "outputs": [
        {
          "output_type": "stream",
          "name": "stdout",
          "text": [
            "              precision    recall  f1-score   support\n",
            "\n",
            "           0       0.99      1.00      0.99       805\n",
            "           1       0.98      0.97      0.98       260\n",
            "\n",
            "    accuracy                           0.99      1065\n",
            "   macro avg       0.99      0.98      0.98      1065\n",
            "weighted avg       0.99      0.99      0.99      1065\n",
            "\n",
            "accuracy:  [0.98435055 0.99061033 0.98435055 0.98591549 0.99061033]\n",
            "average accuracy:  0.9871674491392801\n"
          ]
        }
      ]
    },
    {
      "cell_type": "code",
      "source": [
        "#precision\n",
        "precision =  cross_val_score(LR,X_train,y_train_n,cv=5,scoring='precision')\n",
        "print(\"average precision: \",np.mean(precision))\n",
        "# recall \n",
        "recall =  cross_val_score(LR,X_train,y_train_n,cv=5,scoring='recall')\n",
        "print(\"average recall: \",np.mean(recall))   \n",
        "# F1\n",
        "f1 =  cross_val_score(LR,X_train,y_train_n,cv=5,scoring='f1')\n",
        "print(\"average F1: \",np.mean(f1))  "
      ],
      "metadata": {
        "colab": {
          "base_uri": "https://localhost:8080/"
        },
        "id": "or9AX7DzZimO",
        "outputId": "48c4f65d-a1f0-4619-9b56-d1978c62ed26"
      },
      "execution_count": null,
      "outputs": [
        {
          "output_type": "stream",
          "name": "stdout",
          "text": [
            "average precision:  0.9765534456990392\n",
            "average recall:  0.9699601052542229\n",
            "average F1:  0.9731366087686887\n"
          ]
        }
      ]
    },
    {
      "cell_type": "code",
      "source": [
        "#ROC curve \n",
        "predictions_pro = LR.predict_proba(X_test)\n",
        "false_positive_rate, recall, thresholds = roc_curve(y_test_n,predictions_pro[:,1])\n",
        "roc_auc = auc(false_positive_rate, recall)\n",
        "\n",
        "plt.title(\"receiver operating characteristic curve(ROC)\")\n",
        "plt.plot(false_positive_rate, recall, 'b', label='AUC = % 0.2f' % roc_auc)\n",
        "plt.legend(loc='lower right')\n",
        "plt.plot([0,1],[0,1],'r--')\n",
        "plt.xlabel('false positive rate')\n",
        "plt.ylabel('recall')\n",
        "plt.show() "
      ],
      "metadata": {
        "colab": {
          "base_uri": "https://localhost:8080/",
          "height": 295
        },
        "id": "zsGkOKH3W4iI",
        "outputId": "71fc307d-1aff-402f-da69-8a7bebb83d12"
      },
      "execution_count": null,
      "outputs": [
        {
          "output_type": "display_data",
          "data": {
            "image/png": "[encoded data removed]",
            "text/plain": [
              "<Figure size 432x288 with 1 Axes>"
            ]
          },
          "metadata": {
            "needs_background": "light"
          }
        }
      ]
    },
    {
      "cell_type": "markdown",
      "source": [
        "## Naive Bayes"
      ],
      "metadata": {
        "id": "3puksqsLbJVV"
      }
    },
    {
      "cell_type": "code",
      "source": [
        "from sklearn.feature_extraction.text import TfidfVectorizer\n",
        "from sklearn.feature_extraction.text import CountVectorizer\n",
        "\n",
        "vectorizer1 = CountVectorizer(binary=True)\n",
        "vectorizer2=TfidfVectorizer(binary=True)\n",
        "\n",
        "data_set = df['text']\n",
        "X1 = vectorizer1.fit_transform(data_set)\n",
        "X2 = vectorizer2.fit_transform(data_set)\n",
        "y = df['spam']"
      ],
      "metadata": {
        "id": "qEgm7Y2PMM06"
      },
      "execution_count": null,
      "outputs": []
    },
    {
      "cell_type": "code",
      "source": [
        "from sklearn.model_selection import train_test_split\n",
        "X_train, X_test, y_train, y_test = train_test_split(X1, y, test_size=0.20, random_state=100)\n",
        "print(\"the number of samples in the training data: \", X_train.shape[0])\n",
        "print(\"the number of samples in the test data: \", X_test.shape[0])\n",
        "\n",
        "'Both top and bottom run only one at a time'\n",
        "\n",
        "# from sklearn.model_selection import train_test_split\n",
        "# X_train, X_test, y_train, y_test = train_test_split(X2, y, test_size=0.20, random_state=100)\n",
        "# print(\"the number of samples in the training data: \", X_train.shape[0])\n",
        "# print(\"the number of samples in the test data: \", X_test.shape[0])"
      ],
      "metadata": {
        "colab": {
          "base_uri": "https://localhost:8080/",
          "height": 70
        },
        "id": "_tjSRPcvO_90",
        "outputId": "519bb922-a91f-493b-cb4a-bbce6b7cd3ad"
      },
      "execution_count": null,
      "outputs": [
        {
          "output_type": "stream",
          "name": "stdout",
          "text": [
            "the number of samples in the training data:  3408\n",
            "the number of samples in the test data:  852\n"
          ]
        },
        {
          "output_type": "execute_result",
          "data": {
            "application/vnd.google.colaboratory.intrinsic+json": {
              "type": "string"
            },
            "text/plain": [
              "'Both top and bottom run only one at a time'"
            ]
          },
          "metadata": {},
          "execution_count": 163
        }
      ]
    },
    {
      "cell_type": "code",
      "source": [
        "from sklearn.naive_bayes import MultinomialNB\n",
        "from sklearn.metrics import accuracy_score\n",
        "clf = MultinomialNB(alpha=1, fit_prior=True)\n",
        "#alpha is used for smoothing, the default is 1 \n",
        "#fit_prior: whether to learn the prior probability of the class, the default is True\n",
        "clf.fit(X_train, y_train)\n",
        "y_pred = clf.predict(X_test)\n",
        "print(\"accuracy on test data: \", accuracy_score(y_test, y_pred))\n"
      ],
      "metadata": {
        "colab": {
          "base_uri": "https://localhost:8080/"
        },
        "id": "TQY3lnmLZHba",
        "outputId": "af65712e-d40f-40d8-bb11-3466fa2aa333"
      },
      "execution_count": null,
      "outputs": [
        {
          "output_type": "stream",
          "name": "stdout",
          "text": [
            "accuracy on test data:  0.9823943661971831\n"
          ]
        }
      ]
    },
    {
      "cell_type": "code",
      "source": [
        "from sklearn.preprocessing import LabelEncoder\n",
        "class_le = LabelEncoder()\n",
        "y_train_n = class_le.fit_transform(y_train)\n",
        "f1 =  cross_val_score(clf,X_train,y_train_n,cv=5,scoring='f1')\n",
        "print(\"average F1: \",np.mean(f1)) "
      ],
      "metadata": {
        "colab": {
          "base_uri": "https://localhost:8080/"
        },
        "id": "5uoMkAlYgdx_",
        "outputId": "87cde878-4124-43c4-82d6-483b93beb381"
      },
      "execution_count": null,
      "outputs": [
        {
          "output_type": "stream",
          "name": "stdout",
          "text": [
            "average F1:  0.9688508455500726\n"
          ]
        }
      ]
    },
    {
      "cell_type": "code",
      "source": [
        "from sklearn.metrics import confusion_matrix\n",
        "confusion_matrix(y_test, y_pred)"
      ],
      "metadata": {
        "colab": {
          "base_uri": "https://localhost:8080/"
        },
        "id": "uOl6YFFSZKXr",
        "outputId": "45a40ea0-a86b-438f-afb8-a1102321e19d"
      },
      "execution_count": null,
      "outputs": [
        {
          "output_type": "execute_result",
          "data": {
            "text/plain": [
              "array([[633,   5],\n",
              "       [ 10, 204]])"
            ]
          },
          "metadata": {},
          "execution_count": 166
        }
      ]
    },
    {
      "cell_type": "markdown",
      "source": [
        "# TEST"
      ],
      "metadata": {
        "id": "gCTpirqgwq5r"
      }
    },
    {
      "cell_type": "code",
      "source": [
        "local_file=\"eval_students_2.csv\"\n",
        "data_set = pd.read_csv(local_file,sep=',',index_col=0,engine='python',error_bad_lines=False)\n",
        "sentence = [getattr(row,'text') for row in data_set.itertuples()]\n",
        "sentence_tokenized = [word_tokenize(sentence[i]) for i in range(len(sentence))]\n",
        "filtered_words = [word for word in sentence_tokenized if word not in stopwords.words('english')]\n",
        "\n",
        "new_words = []\n",
        "final_words = []\n",
        "for word in filtered_words:\n",
        "  a = []\n",
        "  for i in range(len(word)):\n",
        "    if word[i].isalnum():\n",
        "      a.append(word[i])\n",
        "  new_words.append(a) \n",
        "df = pd.DataFrame(columns=['text'])\n",
        "for word in new_words:\n",
        "  str_words = ','.join(word)\n",
        "  df = df.append([{'text':str_words}],ignore_index=True)\n",
        "\n",
        "X_X = df['text'].values\n",
        "X_TEST= vectorizer.transform(X_X)\n",
        "predictions = LR.predict(X_TEST)"
      ],
      "metadata": {
        "id": "AjwN1zlKwt8g"
      },
      "execution_count": null,
      "outputs": []
    },
    {
      "cell_type": "code",
      "source": [
        "import csv\n",
        "import numpy as np\n",
        "b = open('output4.csv', 'w')\n",
        "a = csv.writer(b)\n",
        "data = predictions\n",
        "a.writerows(data)\n",
        "b.close()"
      ],
      "metadata": {
        "id": "H3Uien0rGPQr"
      },
      "execution_count": null,
      "outputs": []
    }
  ],
  "metadata": {
    "kernelspec": {
      "display_name": "Python 3",
      "language": "python",
      "name": "python3"
    },
    "language_info": {
      "codemirror_mode": {
        "name": "ipython",
        "version": 3
      },
      "file_extension": ".py",
      "mimetype": "text/x-python",
      "name": "python",
      "nbconvert_exporter": "python",
      "pygments_lexer": "ipython3",
      "version": "3.8.5"
    },
    "colab": {
      "name": "596A HW2 XiangyuGao",
      "provenance": [],
      "collapsed_sections": []
    }
  },
  "nbformat": 4,
  "nbformat_minor": 0
}