{
 "cells": [
  {
   "cell_type": "markdown",
   "metadata": {},
   "source": [
    "# Lab 2: EEP 595\n",
    "\n",
    "\n",
    "## Introduction to Privacy Engineering, Spring 2022\n",
    "\n",
    "\n",
    "## Data Mining\n",
    "\n",
    "##### Installation:\n",
    "\n",
    "Same as Lab 1. <br>No additional packages are required.\n",
    "\n",
    "##### This lab consists of 7 questions.\n",
    "\n",
    "We will be using the 'Strava cycling data of multiple segments in Jeddah' dataset for this lab. \n",
    "\n",
    "##### Grading rubric: for each question,\n",
    "100% of the points - Correct code, correct output<br>\n",
    "50% of the points - Minor logical error, partial output<br>\n",
    "0% of the points - No attempt, incomplete code, wrong output\n",
    "\n",
    "##### Submission instructions\n",
    "\n",
    "You will have to submit the completed jupyter notebook file (.ipynb) in Canvas.\n",
    "\n",
    "### Note: The last cell of this .ipynb is a markdown cell for your answers. <br>Please fill this cell to complete your lab submission. \n",
    "\n",
    "The coding cells can be used for computations or observations. <br>\n",
    "\n",
    "\n",
    "***\n",
    "***\n",
    "\n",
    "##### Dataset\n",
    "\n",
    "##### Strava cycling data of multiple segments in Jeddah, Saudi Arabia\n",
    "\n",
    "Strava is a social platform for cyclists and runners to share their activity and form groups.\n",
    "\n",
    "A Strava Segment is an activity path with limited distance which anybody can take (given that they are recording an activity) to participate in a leaderboard to see who is the fastest.\n",
    "\n",
    "Features:\n",
    "\n",
    "- user_age_group: The age group of the participant\n",
    "- user_id: The User ID of the participant\n",
    "- attempt_date: The date of attempt of the entry in the leaderboard\n",
    "- gender: The gender of the participant\n",
    "- smt_rank: The participant's rank in the leaderboard\n",
    "- smt_avg_spd: The participant's average speed in km/h within the segment\n",
    "- smt_finish_seconds: The time taken for the participant to complete the segment in seconds\n",
    "- smt_name: The name of the segment\n",
    "- user_weight_category: The weight category of the participant\n",
    "- act_title: The title of the activity which included the segment attempt\n",
    "- act_avg_spd: The participant's average speed in km/h during the activity\n",
    "- act_max_spd: The participant's maximum speed in km/h during the activity\n",
    "- act_total_km: The total distance of the participant's activity in kilometers\n",
    "- act_moving_seconds: The total time which the participant spent moving during the activity in seconds\n",
    "- act_total_seconds: The total time of the activity (including stop times) in seconds\n",
    "- has_hr_data: Whether there was data of participant's heart rate in the segment attempt\n",
    "\n",
    "https://www.kaggle.com/baghlafturki/strava-jeddah-segments-leaderboard\n",
    "\n",
    "This dataset is available in your HW zip file. \n",
    "\n",
    "\n",
    "***\n",
    "\n"
   ]
  },
  {
   "cell_type": "markdown",
   "metadata": {},
   "source": [
    "#### Loading the file"
   ]
  },
  {
   "cell_type": "code",
   "execution_count": null,
   "metadata": {},
   "outputs": [],
   "source": [
    "# Loading libraries \n",
    "\n",
    "import numpy as np\n",
    "import math\n",
    "import pandas as pd"
   ]
  },
  {
   "cell_type": "code",
   "execution_count": null,
   "metadata": {},
   "outputs": [],
   "source": [
    "# Reading the data file\n",
    "# Each row represents a user activity entry \n",
    "\n",
    "df = pd.read_csv(\"jeddah_strava_segments.csv\")\n",
    "df.head(5)"
   ]
  },
  {
   "cell_type": "markdown",
   "metadata": {},
   "source": [
    "Each row of this dataframe represents a user activity entry. <br>\n",
    "Each column of this dataframe represents a feature associated with the user entry. <br><br>"
   ]
  },
  {
   "cell_type": "code",
   "execution_count": null,
   "metadata": {},
   "outputs": [],
   "source": [
    "# Printing the rows and columns\n",
    "\n",
    "print(\"The dataframe contains \",df.shape[0],\" rows.\")\n",
    "print(\"The dataframe contains \",df.shape[1],\" columns.\")"
   ]
  },
  {
   "cell_type": "code",
   "execution_count": null,
   "metadata": {},
   "outputs": [],
   "source": [
    "# Printing the names of the columns\n",
    "\n",
    "for col in df.columns: \n",
    "    print(col) "
   ]
  },
  {
   "cell_type": "markdown",
   "metadata": {},
   "source": [
    "The description of these features can be found at the first markdown cell ( on top ) of this .ipynb\n",
    "<br><br>\n",
    "Among these columns, let's look at the user age group."
   ]
  },
  {
   "cell_type": "code",
   "execution_count": null,
   "metadata": {},
   "outputs": [],
   "source": [
    "# The filter function is used here to extract a subset of columns from the dataset.\n",
    "\n",
    "df.filter(['user_age_group'])"
   ]
  },
  {
   "cell_type": "markdown",
   "metadata": {},
   "source": [
    "What are the user age groups  present in this dataset? <br><br>\n",
    "We can use Pandas' \"unique\" function to filter out all the repeating values in a column. <br>"
   ]
  },
  {
   "cell_type": "code",
   "execution_count": null,
   "metadata": {},
   "outputs": [],
   "source": [
    "# Printing the unique values \n",
    "for grp in df.user_age_group.unique():\n",
    "    print(grp)"
   ]
  },
  {
   "cell_type": "markdown",
   "metadata": {},
   "source": [
    "How many user entries are present per age group? \n",
    " \n",
    "<br>Let's find out the number of user entries per age group.\n",
    "<br> Since each row represents a user entry, <br>\n",
    "We want to count the number of rows for each of the 'user_age_group' categories. \n",
    "\n",
    "<br> Using Pandas,\n",
    "<br> We can do this by grouping the data based on the column values in 'user_age_group' <br> and counting the number of rows for each group.\n",
    "<br> The functions used are 'groupby' and 'count'."
   ]
  },
  {
   "cell_type": "code",
   "execution_count": null,
   "metadata": {},
   "outputs": [],
   "source": [
    "# Using grouping and counting to find the number of user entries per age group.\n",
    "\n",
    "df.groupby('user_age_group').count()\n"
   ]
  },
  {
   "cell_type": "markdown",
   "metadata": {},
   "source": [
    "We can observe that the row counts have been computed for each category."
   ]
  },
  {
   "cell_type": "markdown",
   "metadata": {},
   "source": [
    "#### Question 1 ( 3 points )\n",
    "\n",
    "##### Which named segment has the least number of user activity entries?\n",
    "\n",
    "Named segments are the named path segments for the cycling/activity routes.\n",
    "<br> Identify the column that contains this information\n",
    "<br> Use this column to find out the number (count) of user activity entries (rows) for each named segment. \n",
    "<br> From these counts, find out which named segment has the least count."
   ]
  },
  {
   "cell_type": "code",
   "execution_count": null,
   "metadata": {},
   "outputs": [],
   "source": [
    "## You can use this cell for Question 1\n",
    "## YOUR CODE HERE:\n",
    "\n"
   ]
  },
  {
   "cell_type": "markdown",
   "metadata": {},
   "source": [
    "#### Question 2 ( 3 points )\n",
    "\n",
    "##### Which user weight category has the most number of user activity entries?\n",
    "<br> Similar to Q.1"
   ]
  },
  {
   "cell_type": "code",
   "execution_count": null,
   "metadata": {},
   "outputs": [],
   "source": [
    "## You can use this cell for Question 2\n",
    "## YOUR CODE HERE:\n",
    "\n"
   ]
  },
  {
   "cell_type": "markdown",
   "metadata": {},
   "source": [
    "#### Question 3 ( 3 points )\n",
    "\n",
    "##### Which numerical feature has the highest magnitude of correlation with 'smt_rank' ?\n",
    "'smt_rank' refers to the participant's rank in the leaderboard\n",
    "\n",
    "The correlation of a variable with itself is always 1. <br>\n",
    "We are looking for a numerical feature other than 'smt_rank' itself. \n",
    "<br> For this question, the correlation matrix is provided to you as a dataframe."
   ]
  },
  {
   "cell_type": "code",
   "execution_count": null,
   "metadata": {},
   "outputs": [],
   "source": [
    "#Standard correlation for the numerical features in this dataframe.\n",
    "\n",
    "df_corr = df.select_dtypes(['number']).corr(method='pearson')\n",
    "df_corr "
   ]
  },
  {
   "cell_type": "code",
   "execution_count": null,
   "metadata": {},
   "outputs": [],
   "source": [
    "## You can use this cell for Question 3\n",
    "## YOUR CODE HERE:\n",
    "\n"
   ]
  },
  {
   "cell_type": "markdown",
   "metadata": {},
   "source": [
    "#### Question 4 ( 5 points)\n",
    "\n",
    "The unique identifiers ( values with frequency = 1 ) present in the columns/features of this dataset can be used to deterministically identify a user segment entry or a user ID. <br>The unique identifiers can result in de-anonymization of the data entry or the user. \n",
    "\n",
    "##### Among the 16 features/columns of this dataset, which feature(s) have the highest number of unique identifiers associated with the row (user entry) ?\n",
    "##### How many unique identifiers do these column(s) have?\n",
    "\n",
    "To find the number of unique identifiers,\n",
    "<br> For each column,\n",
    "<br> We identify the values that have frequency (row-count) = 1\n",
    "<br> These are the unique identifiers present in that column\n",
    "<br> Count these unique identifiers for each column. \n",
    "<br> If this is done, For each column, we have the number of unique identifiers.\n",
    "<br> The column(s) with the highest number of unique identifiers can now be determined.\n",
    " \n"
   ]
  },
  {
   "cell_type": "code",
   "execution_count": null,
   "metadata": {},
   "outputs": [],
   "source": [
    "## You can use this cell for Question 4\n",
    "## YOUR CODE HERE:\n",
    "\n",
    "    "
   ]
  },
  {
   "cell_type": "markdown",
   "metadata": {},
   "source": [
    "#### Question 5 ( 3 points )\n",
    "\n",
    "Binning or discretization can reduce the risk of de-anonymization in a dataset. \n",
    "\n",
    "##### If the 'act_moving_seconds' is replaced with the nearest integer-valued minute, <br> what is the modified number of unique identifiers present in this column? \n",
    "Steps:\n",
    "- replace 'act_moving_seconds' with the nearest integer-valued minute.\n",
    "- find the new/modified number of unique identifiers for this column ( same steps as Q.4 )\n",
    "\n",
    "<br> To replace the values in a column, take a look at this following example:"
   ]
  },
  {
   "cell_type": "code",
   "execution_count": null,
   "metadata": {},
   "outputs": [],
   "source": [
    "## Example for replacing values in a column\n",
    "## In this example, we are replacing the user_ID with 42 x user_ID\n",
    "\n",
    "## We don't want to disturb the original dataframe.\n",
    "df_example = df.copy()\n",
    "\n",
    "print(df_example.filter(['user_id']).head(5))\n",
    "print(\"\\n \\n Example: replacing the user_ID with 10 x user_ID  \\n \\n\")\n",
    "\n",
    "## Pay attention to this: \n",
    "df_example['user_id'] = df_example.apply (lambda row: row['user_id']*42 , axis=1)\n",
    "\n",
    "print(df_example.filter(['user_id']).head(5))"
   ]
  },
  {
   "cell_type": "code",
   "execution_count": null,
   "metadata": {},
   "outputs": [],
   "source": [
    "## You can use this cell for Question 5\n",
    "## YOUR CODE HERE:\n",
    "\n"
   ]
  },
  {
   "cell_type": "markdown",
   "metadata": {},
   "source": [
    "You will notice that for this column ( 'act_moving_seconds' ), the modified number of unique identifiers is significantly lower than the number of unique identifiers before modification."
   ]
  },
  {
   "cell_type": "markdown",
   "metadata": {},
   "source": [
    "#### Question 6 ( 4 points )\n",
    "\n",
    "Consider the information present in these 3 columns : <br>'user_id', 'user_age_group' and 'gender'\n"
   ]
  },
  {
   "cell_type": "code",
   "execution_count": null,
   "metadata": {},
   "outputs": [],
   "source": [
    "df6 = df.filter(['user_id','user_age_group','gender'])\n",
    "df6.head(10)"
   ]
  },
  {
   "cell_type": "markdown",
   "metadata": {},
   "source": [
    "Given only this data subset, among the different 'gender'-'user-age-group' pairings in this subset,\n",
    "\n",
    "#####  Which pairing poses the highest risk of de-anonymization for the associated users and their 'user_id'?\n",
    "##### Which pairing poses the least risk?\n",
    "\n",
    "Pairing: refers to all the possible 'gender'-'user-age-group' pairs in this dataset. \n",
    "<br> Hint: Pandas grouping can be done using more than 1 column. <br>\n",
    "<br> Risk: For this specific question, building from (Q.4), risk refers to the amount of data that can be de-anonymized using unique identifiers. <br>\n",
    "<br> If a pairing has more unique identifiers, the users associated with that pairing have higher risk of being de-anonymized."
   ]
  },
  {
   "cell_type": "code",
   "execution_count": null,
   "metadata": {},
   "outputs": [],
   "source": [
    "## You can use this cell for Question 6\n",
    "## YOUR CODE HERE:\n",
    "\n"
   ]
  },
  {
   "cell_type": "markdown",
   "metadata": {},
   "source": [
    "#### Question 7 ( 4 points )\n",
    "\n",
    "For the dataframe ( 'df6' containing 3 features )  in Question 6, \n",
    "\n",
    "\n",
    "##### Recommend a method to ensure that all the users associated with the different 'gender'-'user-age-group' pairings are equally protected. \n",
    "( expected: 2-3 sentences ) \n",
    "\n",
    "##### Does your recommendation contribute to any additional risk of de-anonymization?   \n",
    "( expected: 2-3 sentences)\n",
    "\n",
    "<br> Hint: Observing the counts of unique identifiers associated with the pairings (Q.6) can be helpful. \n",
    "\n",
    "Enter your answer in the 'Submitted answers' cell.\n",
    "\n",
    "***\n",
    "\n",
    "( Double click the cell below to edit it )\n",
    "\n",
    "***"
   ]
  },
  {
   "cell_type": "markdown",
   "metadata": {},
   "source": [
    "# Submitted answers:\n",
    "\n",
    "\n",
    "* Q.1 : [3] Least number of user activity entries - <b></b>\n",
    "\n",
    "\n",
    "* Q.2 : [3] Weight category with most entries - <b></b>\n",
    "\n",
    "\n",
    "* Q.3 : [3] Feature with highest magnitude of correlation - <b></b>\n",
    "\n",
    "\n",
    "* Q.4 : \n",
    "   * (a) [3] Column names -  <b></b>\n",
    "\n",
    "   * (b) [2] No. of unique identifiers - <b></b>\n",
    "\n",
    "\n",
    "* Q.5 [3] : Modified number of unique identifiers - <b></b>\n",
    "\n",
    "\n",
    "* Q.6 : \n",
    "   * (a) [2] Pairing with highest risk -  <b></b>\n",
    "\n",
    "   * (b) [2] Pairing with lowest risk - <b></b>\n",
    "\n",
    "\n",
    "* Q.7 :\n",
    "   * (a) [2] Recommendation -  <b></b>\n",
    "\n",
    "   * (b) [2] Additional risk - <b></b>\n"
   ]
  }
 ],
 "metadata": {
  "kernelspec": {
   "display_name": "Python 3",
   "language": "python",
   "name": "python3"
  },
  "language_info": {
   "codemirror_mode": {
    "name": "ipython",
    "version": 3
   },
   "file_extension": ".py",
   "mimetype": "text/x-python",
   "name": "python",
   "nbconvert_exporter": "python",
   "pygments_lexer": "ipython3",
   "version": "3.8.5"
  }
 },
 "nbformat": 4,
 "nbformat_minor": 2
}
