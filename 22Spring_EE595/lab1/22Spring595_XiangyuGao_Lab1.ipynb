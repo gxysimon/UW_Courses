{
 "cells": [
  {
   "cell_type": "markdown",
   "metadata": {},
   "source": [
    "# Lab 1: EEP 595\n",
    "\n",
    "## Introduction to Privacy Engineering, Spring 2022\n",
    "\n",
    "## Python Review and Data Processing\n",
    "\n",
    "\n",
    "##### This lab consists of the following sections:\n",
    "- Part 1: Python review ( Optional - 0 points )\n",
    "- Part 2: Python exercises ( 15 points )\n",
    "- Part 3: Pandas: data processing ( 10 points )\n",
    "\n",
    "##### Grading rubric: for each subquestion \n",
    "100% of the points - Correct code, correct output<br>\n",
    "50% of the points - Minor logical error, partial output<br>\n",
    "0% of the points - No attempt, incomplete code, wrong output\n",
    "\n",
    "##### Submission instructions\n",
    "\n",
    "You will have to submit the completed jupyter notebook file (.ipynb) in Canvas.\n",
    "\n",
    "Adapted from the tutorial given by the [The Pacman Projects](https://courses.cs.washington.edu/courses/cse473/13au/pacman/intro/tutorial.html)\n",
    "\n",
    "***\n",
    "\n",
    "## Part 1: Python review ( 0 points )\n",
    "\n",
    "This section is optional <br>\n",
    "Proceed to Part 2 if you are familiar with Python <br>\n",
    "Additional resource: www.python.org\n",
    "\n",
    "#### Operators\n",
    "\n"
   ]
  },
  {
   "cell_type": "code",
   "execution_count": 1,
   "metadata": {},
   "outputs": [
    {
     "name": "stdout",
     "output_type": "stream",
     "text": [
      "3 + 4 =  7\n",
      "(-3) * 4 =  -12\n",
      "1==0  False\n",
      "not (1==0)  True\n",
      "(2==2) and (2==3)  False\n",
      "(2==2) or (2==3)  True\n"
     ]
    }
   ],
   "source": [
    "# Examples for simple arithmetic and Boolean expressions\n",
    "\n",
    "print(\"3 + 4 = \", 3 + 4)\n",
    "print(\"(-3) * 4 = \", (-3) * 4)\n",
    "print(\"1==0 \", 1==0)\n",
    "print(\"not (1==0) \", not(1==0))\n",
    "print(\"(2==2) and (2==3) \", (2==2) and (2==3))\n",
    "print(\"(2==2) or (2==3) \", (2==2) or (2==3))"
   ]
  },
  {
   "cell_type": "markdown",
   "metadata": {},
   "source": [
    "#### String operations\n",
    "\n",
    "Notice that we can use either single quotes ' ' or double quotes \" \" to surround a string. <br>\n",
    "This allows for easy nesting of strings."
   ]
  },
  {
   "cell_type": "code",
   "execution_count": 2,
   "metadata": {},
   "outputs": [
    {
     "name": "stdout",
     "output_type": "stream",
     "text": [
      "artificialintelligence\n",
      "Lowercase:  artificialintelligence\n",
      "Uppercase: ARTIFICIALINTELLIGENCE\n",
      "Characters:  ['a', 'r', 't', 'i', 'f', 'i', 'c', 'i', 'a', 'l', 'i', 'n', 't', 'e', 'l', 'l', 'i', 'g', 'e', 'n', 'c', 'e']\n",
      "Length of the string is  22\n"
     ]
    }
   ],
   "source": [
    "# String operations\n",
    "# The + operator is overloaded to do string concatenation on string values.\n",
    "\n",
    "print('artificial' + \"intelligence\")\n",
    "var = 'artificial' + \"intelligence\"\n",
    "print(\"Lowercase: \", var.lower())\n",
    "print(\"Uppercase:\", var.upper())\n",
    "print(\"Characters: \", list(var))\n",
    "print(\"Length of the string is \", len(var))"
   ]
  },
  {
   "cell_type": "code",
   "execution_count": 3,
   "metadata": {},
   "outputs": [
    {
     "data": {
      "text/plain": [
       "['__add__',\n",
       " '__class__',\n",
       " '__contains__',\n",
       " '__delattr__',\n",
       " '__dir__',\n",
       " '__doc__',\n",
       " '__eq__',\n",
       " '__format__',\n",
       " '__ge__',\n",
       " '__getattribute__',\n",
       " '__getitem__',\n",
       " '__getnewargs__',\n",
       " '__gt__',\n",
       " '__hash__',\n",
       " '__init__',\n",
       " '__init_subclass__',\n",
       " '__iter__',\n",
       " '__le__',\n",
       " '__len__',\n",
       " '__lt__',\n",
       " '__mod__',\n",
       " '__mul__',\n",
       " '__ne__',\n",
       " '__new__',\n",
       " '__reduce__',\n",
       " '__reduce_ex__',\n",
       " '__repr__',\n",
       " '__rmod__',\n",
       " '__rmul__',\n",
       " '__setattr__',\n",
       " '__sizeof__',\n",
       " '__str__',\n",
       " '__subclasshook__',\n",
       " 'capitalize',\n",
       " 'casefold',\n",
       " 'center',\n",
       " 'count',\n",
       " 'encode',\n",
       " 'endswith',\n",
       " 'expandtabs',\n",
       " 'find',\n",
       " 'format',\n",
       " 'format_map',\n",
       " 'index',\n",
       " 'isalnum',\n",
       " 'isalpha',\n",
       " 'isascii',\n",
       " 'isdecimal',\n",
       " 'isdigit',\n",
       " 'isidentifier',\n",
       " 'islower',\n",
       " 'isnumeric',\n",
       " 'isprintable',\n",
       " 'isspace',\n",
       " 'istitle',\n",
       " 'isupper',\n",
       " 'join',\n",
       " 'ljust',\n",
       " 'lower',\n",
       " 'lstrip',\n",
       " 'maketrans',\n",
       " 'partition',\n",
       " 'removeprefix',\n",
       " 'removesuffix',\n",
       " 'replace',\n",
       " 'rfind',\n",
       " 'rindex',\n",
       " 'rjust',\n",
       " 'rpartition',\n",
       " 'rsplit',\n",
       " 'rstrip',\n",
       " 'split',\n",
       " 'splitlines',\n",
       " 'startswith',\n",
       " 'strip',\n",
       " 'swapcase',\n",
       " 'title',\n",
       " 'translate',\n",
       " 'upper',\n",
       " 'zfill']"
      ]
     },
     "execution_count": 3,
     "metadata": {},
     "output_type": "execute_result"
    }
   ],
   "source": [
    "# To see what methods Python provides for a datatype, use the dir and help commands\n",
    "\n",
    "text = \"Ravenclaw\"\n",
    "dir(text)"
   ]
  },
  {
   "cell_type": "code",
   "execution_count": 4,
   "metadata": {},
   "outputs": [
    {
     "name": "stdout",
     "output_type": "stream",
     "text": [
      "Help on built-in function find:\n",
      "\n",
      "find(...) method of builtins.str instance\n",
      "    S.find(sub[, start[, end]]) -> int\n",
      "    \n",
      "    Return the lowest index in S where substring sub is found,\n",
      "    such that sub is contained within S[start:end].  Optional\n",
      "    arguments start and end are interpreted as in slice notation.\n",
      "    \n",
      "    Return -1 on failure.\n",
      "\n"
     ]
    }
   ],
   "source": [
    "text = \"Ravenclaw\"\n",
    "help(text.find)"
   ]
  },
  {
   "cell_type": "markdown",
   "metadata": {},
   "source": [
    "#### Built-in data structures\n",
    "\n",
    "##### Lists\n",
    "Lists store a sequence of mutable items"
   ]
  },
  {
   "cell_type": "code",
   "execution_count": 5,
   "metadata": {},
   "outputs": [
    {
     "name": "stdout",
     "output_type": "stream",
     "text": [
      "Sample list:  ['apple', 'orange', 'pear', 'banana']\n",
      "First element:  apple\n",
      "Last element:  banana\n",
      "Concatenated list:  ['apple', 'orange', 'pear', 'banana', 'kiwi', 'strawberry']\n",
      "\n",
      "fruits[0:2]:  ['apple', 'orange']\n",
      "fruits[:3]:  ['apple', 'orange', 'pear']\n",
      "Pop:  strawberry\n",
      "Reversed list  ['kiwi', 'banana', 'pear', 'orange', 'apple']\n"
     ]
    }
   ],
   "source": [
    "# List example\n",
    "\n",
    "fruits = ['apple','orange','pear','banana']\n",
    "print(\"Sample list: \", fruits )\n",
    "\n",
    "# Python uses 0-indexing\n",
    "print(\"First element: \", fruits[0])\n",
    "\n",
    "# Python also allows negative-indexing from the back of the list\n",
    "print(\"Last element: \", fruits[-1])\n",
    "\n",
    "# List concatenation\n",
    "otherFruits = ['kiwi','strawberry']\n",
    "fruits += otherFruits\n",
    "print(\"Concatenated list: \", fruits)\n",
    "\n",
    "#List slicing\n",
    "print(\"\\nfruits[0:2]: \", fruits[0:2])\n",
    "print(\"fruits[:3]: \", fruits[:3])\n",
    "\n",
    "# Pop operator\n",
    "print(\"Pop: \", fruits.pop())\n",
    "\n",
    "# Reverse operator\n",
    "# Note: this is an in-place operation\n",
    "fruits.reverse()\n",
    "print(\"Reversed list \", fruits)"
   ]
  },
  {
   "cell_type": "markdown",
   "metadata": {},
   "source": [
    "##### Tuples\n",
    "A data structure similar to the list is the tuple, which is like a list except that it is immutable once it is created (i.e. you cannot change its content once created). Note that tuples are surrounded with parentheses while lists have square brackets"
   ]
  },
  {
   "cell_type": "code",
   "execution_count": 6,
   "metadata": {},
   "outputs": [
    {
     "name": "stdout",
     "output_type": "stream",
     "text": [
      "pair[0]:  Grade\n",
      "pair[1]:  4.0\n"
     ]
    },
    {
     "ename": "TypeError",
     "evalue": "'tuple' object does not support item assignment",
     "output_type": "error",
     "traceback": [
      "\u001b[1;31m---------------------------------------------------------------------------\u001b[0m",
      "\u001b[1;31mTypeError\u001b[0m                                 Traceback (most recent call last)",
      "\u001b[1;32m~\\AppData\\Local\\Temp/ipykernel_54200/2007745426.py\u001b[0m in \u001b[0;36m<module>\u001b[1;34m\u001b[0m\n\u001b[0;32m     10\u001b[0m \u001b[1;31m# A TypeError will be generated\u001b[0m\u001b[1;33m\u001b[0m\u001b[1;33m\u001b[0m\u001b[0m\n\u001b[0;32m     11\u001b[0m \u001b[1;33m\u001b[0m\u001b[0m\n\u001b[1;32m---> 12\u001b[1;33m \u001b[0mpair\u001b[0m\u001b[1;33m[\u001b[0m\u001b[1;36m1\u001b[0m\u001b[1;33m]\u001b[0m \u001b[1;33m=\u001b[0m \u001b[1;36m5.0\u001b[0m\u001b[1;33m\u001b[0m\u001b[1;33m\u001b[0m\u001b[0m\n\u001b[0m",
      "\u001b[1;31mTypeError\u001b[0m: 'tuple' object does not support item assignment"
     ]
    }
   ],
   "source": [
    "# Tuple example\n",
    "\n",
    "pair = (\"Grade\",4.0)\n",
    "\n",
    "print(\"pair[0]: \", pair[0])\n",
    "print(\"pair[1]: \", pair[1])\n",
    "\n",
    "# Modification attempt\n",
    "# This will fail as this is an immutable data structure\n",
    "# A TypeError will be generated\n",
    "\n",
    "pair[1] = 5.0"
   ]
  },
  {
   "cell_type": "markdown",
   "metadata": {},
   "source": [
    "##### Sets\n",
    "A set is another data structure that serves as an unordered list with no duplicate items"
   ]
  },
  {
   "cell_type": "code",
   "execution_count": 7,
   "metadata": {},
   "outputs": [
    {
     "name": "stdout",
     "output_type": "stream",
     "text": [
      "{'circle', 'square', 'triangle'}\n",
      "{'circle', 'square', 'polygon', 'triangle'}\n"
     ]
    }
   ],
   "source": [
    "# Set example\n",
    "\n",
    "shapes = ['circle','square','triangle','circle']\n",
    "setOfShapes = set(shapes)\n",
    "print(setOfShapes)\n",
    "\n",
    "setOfShapes.add('polygon')\n",
    "print(setOfShapes)"
   ]
  },
  {
   "cell_type": "markdown",
   "metadata": {},
   "source": [
    "##### Dictionaries\n",
    "\n",
    "A dictionary stores a map from one type of object (the key) to another (the value). The key must be an immutable type (string, number, or tuple). The value can be any Python data type."
   ]
  },
  {
   "cell_type": "code",
   "execution_count": 8,
   "metadata": {},
   "outputs": [
    {
     "name": "stdout",
     "output_type": "stream",
     "text": [
      "Dictionary:  {'knuth': 42.0, 'turing': 56.0, 'nash': 92.0}\n",
      "dict_keys(['knuth', 'turing', 'nash'])\n",
      "dict_values([42.0, 56.0, 92.0])\n"
     ]
    }
   ],
   "source": [
    "# Dictionary example\n",
    "\n",
    "studentIds = {'knuth': 42.0, 'turing': 56.0, 'nash': 92.0 }\n",
    "print(\"Dictionary: \", studentIds)\n",
    "print(studentIds.keys())\n",
    "print(studentIds.values())"
   ]
  },
  {
   "cell_type": "markdown",
   "metadata": {},
   "source": [
    "#### Indentation"
   ]
  },
  {
   "cell_type": "code",
   "execution_count": 9,
   "metadata": {},
   "outputs": [
    {
     "name": "stdout",
     "output_type": "stream",
     "text": [
      "Thank you for playing\n"
     ]
    }
   ],
   "source": [
    "# Indentation example 1\n",
    "\n",
    "if 0 == 1:\n",
    "    print('We are in a world of arithmetic pain')\n",
    "print('Thank you for playing')"
   ]
  },
  {
   "cell_type": "code",
   "execution_count": 10,
   "metadata": {},
   "outputs": [],
   "source": [
    "# Indentation example 2\n",
    "# No output is generated\n",
    "\n",
    "if 0 == 1:\n",
    "    print('We are in a world of arithmetic pain')\n",
    "    print('Thank you for playing')"
   ]
  },
  {
   "cell_type": "markdown",
   "metadata": {},
   "source": [
    "#### Functions"
   ]
  },
  {
   "cell_type": "code",
   "execution_count": 11,
   "metadata": {},
   "outputs": [
    {
     "name": "stdout",
     "output_type": "stream",
     "text": [
      "8\n"
     ]
    }
   ],
   "source": [
    "# Example function\n",
    "\n",
    "def simpleAdd(a,b):\n",
    "    return(a+b)\n",
    "\n",
    "print(simpleAdd(3,5))"
   ]
  },
  {
   "cell_type": "markdown",
   "metadata": {},
   "source": [
    "***\n",
    "## Part 2: Python exercises ( 15 points )\n",
    "\n",
    "Look out for the 'YOUR CODE HERE:' comment in the following cells\n",
    "\n",
    "### 2.a) Operators ( 3 points )\n",
    "\n",
    "Write a function that applies the logistic sigmoid function to all elements of a list.\n",
    "The logistic sigmoid function is defined as :\n",
    "\n",
    "$f(x) = \\frac{1}{1+e^{-x}}$\n",
    "\n",
    "A sigmoid function is a mathematical function having a characteristic “S”-shaped curve or sigmoid curve. <br>\n",
    "The output of the sigmoid function is in the range [0,1]\n",
    "\n"
   ]
  },
  {
   "cell_type": "code",
   "execution_count": 12,
   "metadata": {},
   "outputs": [],
   "source": [
    "# Loading libraries \n",
    "\n",
    "import numpy as np\n",
    "import math\n",
    "import matplotlib.pyplot as plt\n",
    "import pandas as pd"
   ]
  },
  {
   "cell_type": "code",
   "execution_count": 16,
   "metadata": {
    "scrolled": false
   },
   "outputs": [
    {
     "data": {
      "image/png": "[encoded data removed]",
      "text/plain": [
       "<Figure size 432x288 with 1 Axes>"
      ]
     },
     "metadata": {
      "needs_background": "light"
     },
     "output_type": "display_data"
    },
    {
     "data": {
      "image/png": "[encoded data removed]",
      "text/plain": [
       "<Figure size 432x288 with 1 Axes>"
      ]
     },
     "metadata": {
      "needs_background": "light"
     },
     "output_type": "display_data"
    }
   ],
   "source": [
    "# Write a function that applies the logistic sigmoid function to all elements of a NumPy array\n",
    "# The NumPy and Math libraries have useful predefined mathematical functions\n",
    "\n",
    "def sigmoid(inputArray):\n",
    "    modifiedArray = np.zeros(len(inputArray))\n",
    "    #YOUR CODE HERE:\n",
    "    \n",
    "    modifiedArray = [1/(1+math.exp(-x)) for x in inputArray]\n",
    "    \n",
    "    return modifiedArray \n",
    "\n",
    "def test_2a():\n",
    "\n",
    "    inputs = np.arange(-10,10,0.2)\n",
    "    outputs = sigmoid(inputs)\n",
    "    plt.figure(1)\n",
    "    plt.plot(inputs)\n",
    "    plt.title('Input')\n",
    "    plt.xlabel('Index')\n",
    "    plt.ylabel('Value')\n",
    "    plt.show()\n",
    "    plt.figure(2)\n",
    "    plt.plot(outputs,'red')\n",
    "    plt.title('Output')\n",
    "    plt.xlabel('Index')\n",
    "    plt.ylabel('Value')\n",
    "    plt.show()\n",
    "\n",
    "test_2a()"
   ]
  },
  {
   "cell_type": "markdown",
   "metadata": {},
   "source": [
    "### 2.b)  Noise addition ( 3 points )\n",
    "\n",
    "Write a function that adds random noisy values to all elements of a NumPy array. <br>\n",
    "Gaussian noise, or white noise, has a mean of 0 and a standard deviation of 1. <br >\n",
    "The addition of Gaussian noise is referred to as 'jittering' <br>\n",
    "\n",
    "Choose your noisy values such that they are randomly sampled from a Gaussian distribution that has a mean of 0 and a standard deviation of 1."
   ]
  },
  {
   "cell_type": "code",
   "execution_count": 27,
   "metadata": {},
   "outputs": [
    {
     "data": {
      "image/png": "[encoded data removed]",
      "text/plain": [
       "<Figure size 432x288 with 1 Axes>"
      ]
     },
     "metadata": {
      "needs_background": "light"
     },
     "output_type": "display_data"
    },
    {
     "data": {
      "image/png": "[encoded data removed]",
      "text/plain": [
       "<Figure size 432x288 with 1 Axes>"
      ]
     },
     "metadata": {
      "needs_background": "light"
     },
     "output_type": "display_data"
    }
   ],
   "source": [
    "# Write a function that adds a random noise to all elements of a NumPy array\n",
    "# The NumPy and math libraries have useful predefined mathematical functions\n",
    "# The numpy.random module maybe useful\n",
    "\n",
    "def addNoise(inputArray):\n",
    "    \n",
    "    modifiedArray = np.zeros(len(inputArray))\n",
    "    \n",
    "    #YOUR CODE HERE:\n",
    "    \n",
    "    modifiedArray = [x + random.gauss(0,1) for x in inputArray]\n",
    "    \n",
    "    return(modifiedArray)\n",
    "\n",
    "\n",
    "def test_2b():\n",
    "\n",
    "    inputs = np.arange(-10,10,0.2)\n",
    "    outputs = addNoise(inputs)\n",
    "    plt.figure(1)\n",
    "    plt.plot(inputs)\n",
    "    plt.title('Input')\n",
    "    plt.xlabel('Index')\n",
    "    plt.ylabel('Value')\n",
    "    plt.show()\n",
    "    plt.figure(2)\n",
    "    plt.plot(outputs,'red')\n",
    "    plt.title('Output')\n",
    "    plt.xlabel('Index')\n",
    "    plt.ylabel('Value')\n",
    "    plt.show()\n",
    "\n",
    "test_2b()"
   ]
  },
  {
   "cell_type": "markdown",
   "metadata": {},
   "source": [
    "### 2.c) Text processing ( 9 points )\n",
    "\n",
    "For data analyses involving raw text data, different preprocessing tasks are applied to clean the data. <br>\n",
    "This section uses some of the basic processes involved in text cleaning. \n",
    "\n",
    "- Find the total number of alphanumeric characters in the original input text\n",
    "- Find the total number of unique numeric characters in the original input text\n",
    "- Remove all non alphabetic characters (don't worry about punctuation rules for this task eg. \"don't\" would become \"dont\" ). Remember to preserve the space \" \" between words. \n",
    "- Convert all text to lowercase\n",
    "- Find the total number of words after preprocessing\n",
    "- Find the total number of unique words after preprocessing"
   ]
  },
  {
   "cell_type": "code",
   "execution_count": 17,
   "metadata": {},
   "outputs": [],
   "source": [
    "# This cell contains the sample text string \n",
    "\n",
    "sampleText = \"The University of Washington (UW, simply Washington, or informally U-Dub)[5] is a public research university in Seattle, Washington. Founded in 1861, Washington was first established in downtown Seattle approximately a decade after the city's founding to aid its economic development. Today, the university's 703-acre main Seattle campus is in the University District above the Montlake Cut, within the urban Puget Sound region of the Pacific Northwest. The university has additional campuses in Tacoma and Bothell. Overall, UW encompasses over 500 buildings and over 20 million gross square footage of space, including one of the largest library systems in the world with over 26 university libraries, as well as the UW Tower, lecture halls, art centers, museums, laboratories, stadiums, and conference centers. The university offers bachelor's, master's, and doctoral degrees through 140 departments in various colleges and schools, sees about 46,000 in total student enrollment every year, and functions on a quarter system. Washington is a member of the Association of American Universities and classified as an R1 Doctoral Research University classification under the Carnegie Classification of Institutions of Higher Education. It is cited as a leading university in the world for scientific performance and research output by the Times Higher Education World University Rankings and the CWTS Leiden Ranking. In the 2015 fiscal year, the UW received nearly $1.2 billion in research funding, the 3rd largest among all universities in the United States.[6] As the flagship institution of the six public universities in Washington State, it is known for its research in medicine, science, as well as its highly-competitive computer science and engineering programs. Additionally, Washington continues to benefit from its deep historical ties and major collaborations with numerous technology giants in the region, such as Amazon, Boeing, Nintendo, and particularly Microsoft. Paul G. Allen, Bill Gates and others spent significant time at Washington computer labs for a startup venture before founding Microsoft.[7] Its 22 varsity sports teams are also highly competitive, competing as the Huskies in the Pac-12 Conference of the NCAA Division I, representing the United States at the Olympic Games, and other major competitions.[8] The university has been affiliated with many notable alumni and faculty, including 20 Nobel Prize laureates and numerous Pulitzer Prize winners, Fulbright Scholars, Rhodes Scholars, Marshall Scholars, as well as members of other distinguished institutions.\""
   ]
  },
  {
   "cell_type": "code",
   "execution_count": 47,
   "metadata": {},
   "outputs": [
    {
     "name": "stdout",
     "output_type": "stream",
     "text": [
      "Total number of alphanumeric characters in the original input text:  2137\n",
      "Total number of unique numeric characters in the original input text:  40\n",
      "Total number of words after preprocessing 382\n",
      "Total number of unique words after preprocessing 216\n"
     ]
    }
   ],
   "source": [
    "# Your function should return 4 variables: alphaNumCount, uniqueNumCount, wordCount, uniqueWordCount\n",
    "\n",
    "import string \n",
    "\n",
    "def textPreprocessing(textString):\n",
    "\n",
    "    alphaNumCount, uniqueNumCount, wordCount, uniqueWordCount = (0,0,0,0)\n",
    "    \n",
    "    #YOUR CODE HERE:\n",
    "    \n",
    "    alphaNumCount = len([x for x in textString if x.isalnum()])\n",
    "    \n",
    "    uniqueNumCount = len([x for x in textString if x.isnumeric()])\n",
    "    \n",
    "    cleanstring = ''.join(x.lower() for x in textString if x not in set(string.punctuation + '1234567890'))\n",
    "    \n",
    "    wordCount = len(cleanstring.split(' '))\n",
    "    \n",
    "    uniqueWordCount = len(set(cleanstring.split(' ')))\n",
    "    \n",
    "    return alphaNumCount, uniqueNumCount, wordCount, uniqueWordCount\n",
    "\n",
    "def test_2c(sampleText):\n",
    "\n",
    "    alphaNumCount, uniqueNumCount, wordCount, uniqueWordCount = textPreprocessing(sampleText)\n",
    "    print(\"Total number of alphanumeric characters in the original input text: \", alphaNumCount)\n",
    "    print(\"Total number of unique numeric characters in the original input text: \", uniqueNumCount)\n",
    "    print(\"Total number of words after preprocessing\", wordCount)\n",
    "    print(\"Total number of unique words after preprocessing\", uniqueWordCount)\n",
    "\n",
    "test_2c(sampleText)"
   ]
  },
  {
   "cell_type": "markdown",
   "metadata": {},
   "source": [
    "***\n",
    "\n",
    "## Part 3: Pandas: data processing ( 10 points )\n",
    "\n",
    "Pandas is a software library written for the Python programming language for data manipulation and analysis. In particular, it offers data structures and operations for manipulating numerical tables and time series. In this section, we will be looking at some of the preprocessing steps involved with analysing data.\n",
    "\n",
    "We will be using the 'cars.csv' dataset [ this csv file is provided inside your lab zipfile download ]\n",
    "\n",
    "Dataset resource: https://www.kaggle.com/abineshkumark/carsdata\n",
    "\n",
    "About the dataset: Cars Data has Information about 3 brands/make of cars. Namely US, Japan, Europe. Target of the data set to find the brand of a car using the parameters such as horsepower, Cubic inches, Make year, etc.\n",
    "\n",
    "Look out for the 'YOUR CODE HERE:' comment in the following cells\n",
    "\n",
    "### 3.a)  Loading a .csv file ( 2 points )"
   ]
  },
  {
   "cell_type": "code",
   "execution_count": 55,
   "metadata": {},
   "outputs": [],
   "source": [
    "# Loading a .csv file\n",
    "# Use a pandas fuction to read a csv file (cars.csv)\n",
    "# Store the csv file as a pandas dataframe called 'df'\n",
    "\n",
    "# YOUR CODE HERE\n",
    "import pandas as pd\n",
    "\n",
    "df = pd.read_csv('cars.csv')"
   ]
  },
  {
   "cell_type": "code",
   "execution_count": 56,
   "metadata": {},
   "outputs": [
    {
     "data": {
      "text/html": [
       "<div>\n",
       "<style scoped>\n",
       "    .dataframe tbody tr th:only-of-type {\n",
       "        vertical-align: middle;\n",
       "    }\n",
       "\n",
       "    .dataframe tbody tr th {\n",
       "        vertical-align: top;\n",
       "    }\n",
       "\n",
       "    .dataframe thead th {\n",
       "        text-align: right;\n",
       "    }\n",
       "</style>\n",
       "<table border=\"1\" class=\"dataframe\">\n",
       "  <thead>\n",
       "    <tr style=\"text-align: right;\">\n",
       "      <th></th>\n",
       "      <th>mpg</th>\n",
       "      <th>cylinders</th>\n",
       "      <th>cubicinches</th>\n",
       "      <th>hp</th>\n",
       "      <th>weightlbs</th>\n",
       "      <th>time-to-60</th>\n",
       "      <th>year</th>\n",
       "      <th>brand</th>\n",
       "    </tr>\n",
       "  </thead>\n",
       "  <tbody>\n",
       "    <tr>\n",
       "      <th>0</th>\n",
       "      <td>14.0</td>\n",
       "      <td>8</td>\n",
       "      <td>350</td>\n",
       "      <td>165</td>\n",
       "      <td>4209</td>\n",
       "      <td>12</td>\n",
       "      <td>1972</td>\n",
       "      <td>US.</td>\n",
       "    </tr>\n",
       "    <tr>\n",
       "      <th>1</th>\n",
       "      <td>31.9</td>\n",
       "      <td>4</td>\n",
       "      <td>89</td>\n",
       "      <td>71</td>\n",
       "      <td>1925</td>\n",
       "      <td>14</td>\n",
       "      <td>1980</td>\n",
       "      <td>Europe.</td>\n",
       "    </tr>\n",
       "    <tr>\n",
       "      <th>2</th>\n",
       "      <td>17.0</td>\n",
       "      <td>8</td>\n",
       "      <td>302</td>\n",
       "      <td>140</td>\n",
       "      <td>3449</td>\n",
       "      <td>11</td>\n",
       "      <td>1971</td>\n",
       "      <td>US.</td>\n",
       "    </tr>\n",
       "    <tr>\n",
       "      <th>3</th>\n",
       "      <td>15.0</td>\n",
       "      <td>8</td>\n",
       "      <td>400</td>\n",
       "      <td>150</td>\n",
       "      <td>3761</td>\n",
       "      <td>10</td>\n",
       "      <td>1971</td>\n",
       "      <td>US.</td>\n",
       "    </tr>\n",
       "    <tr>\n",
       "      <th>4</th>\n",
       "      <td>30.5</td>\n",
       "      <td>4</td>\n",
       "      <td>98</td>\n",
       "      <td>63</td>\n",
       "      <td>2051</td>\n",
       "      <td>17</td>\n",
       "      <td>1978</td>\n",
       "      <td>US.</td>\n",
       "    </tr>\n",
       "    <tr>\n",
       "      <th>5</th>\n",
       "      <td>23.0</td>\n",
       "      <td>8</td>\n",
       "      <td>350</td>\n",
       "      <td>125</td>\n",
       "      <td>3900</td>\n",
       "      <td>17</td>\n",
       "      <td>1980</td>\n",
       "      <td>US.</td>\n",
       "    </tr>\n",
       "    <tr>\n",
       "      <th>6</th>\n",
       "      <td>13.0</td>\n",
       "      <td>8</td>\n",
       "      <td>351</td>\n",
       "      <td>158</td>\n",
       "      <td>4363</td>\n",
       "      <td>13</td>\n",
       "      <td>1974</td>\n",
       "      <td>US.</td>\n",
       "    </tr>\n",
       "    <tr>\n",
       "      <th>7</th>\n",
       "      <td>14.0</td>\n",
       "      <td>8</td>\n",
       "      <td>440</td>\n",
       "      <td>215</td>\n",
       "      <td>4312</td>\n",
       "      <td>9</td>\n",
       "      <td>1971</td>\n",
       "      <td>US.</td>\n",
       "    </tr>\n",
       "    <tr>\n",
       "      <th>8</th>\n",
       "      <td>25.4</td>\n",
       "      <td>5</td>\n",
       "      <td>183</td>\n",
       "      <td>77</td>\n",
       "      <td>3530</td>\n",
       "      <td>20</td>\n",
       "      <td>1980</td>\n",
       "      <td>Europe.</td>\n",
       "    </tr>\n",
       "    <tr>\n",
       "      <th>9</th>\n",
       "      <td>37.7</td>\n",
       "      <td>4</td>\n",
       "      <td>89</td>\n",
       "      <td>62</td>\n",
       "      <td>2050</td>\n",
       "      <td>17</td>\n",
       "      <td>1982</td>\n",
       "      <td>Japan.</td>\n",
       "    </tr>\n",
       "  </tbody>\n",
       "</table>\n",
       "</div>"
      ],
      "text/plain": [
       "    mpg   cylinders cubicinches   hp weightlbs  time-to-60  year     brand\n",
       "0  14.0           8         350  165      4209          12  1972       US.\n",
       "1  31.9           4          89   71      1925          14  1980   Europe.\n",
       "2  17.0           8         302  140      3449          11  1971       US.\n",
       "3  15.0           8         400  150      3761          10  1971       US.\n",
       "4  30.5           4          98   63      2051          17  1978       US.\n",
       "5  23.0           8         350  125      3900          17  1980       US.\n",
       "6  13.0           8         351  158      4363          13  1974       US.\n",
       "7  14.0           8         440  215      4312           9  1971       US.\n",
       "8  25.4           5         183   77      3530          20  1980   Europe.\n",
       "9  37.7           4          89   62      2050          17  1982    Japan."
      ]
     },
     "execution_count": 56,
     "metadata": {},
     "output_type": "execute_result"
    }
   ],
   "source": [
    "# Viewing a sample of the dataframe\n",
    "\n",
    "df.head(10)\n"
   ]
  },
  {
   "cell_type": "markdown",
   "metadata": {},
   "source": [
    "### 3.b) Removing columns ( 2 points )\n",
    "\n",
    "Find a Pandas function that can be used to remove columns based on the column name. <br>\n",
    "Store the modified dataframe in a new dataframe 'df_new' <br>\n",
    "Remove the cubicinches, weightlbs, brand columns"
   ]
  },
  {
   "cell_type": "code",
   "execution_count": 58,
   "metadata": {},
   "outputs": [],
   "source": [
    "# Removing columns \n",
    "# Remove the 'cubicinches','weightlbs','brand' columns \n",
    "# Store the modified dataframe in a new dataframe 'df_new'\n",
    "\n",
    "#YOUR CODE HERE:\n",
    "df_new = df.drop(['cubicinches','weightlbs','brand'], axis = 1)"
   ]
  },
  {
   "cell_type": "code",
   "execution_count": 59,
   "metadata": {},
   "outputs": [
    {
     "data": {
      "text/html": [
       "<div>\n",
       "<style scoped>\n",
       "    .dataframe tbody tr th:only-of-type {\n",
       "        vertical-align: middle;\n",
       "    }\n",
       "\n",
       "    .dataframe tbody tr th {\n",
       "        vertical-align: top;\n",
       "    }\n",
       "\n",
       "    .dataframe thead th {\n",
       "        text-align: right;\n",
       "    }\n",
       "</style>\n",
       "<table border=\"1\" class=\"dataframe\">\n",
       "  <thead>\n",
       "    <tr style=\"text-align: right;\">\n",
       "      <th></th>\n",
       "      <th>mpg</th>\n",
       "      <th>cylinders</th>\n",
       "      <th>hp</th>\n",
       "      <th>time-to-60</th>\n",
       "      <th>year</th>\n",
       "    </tr>\n",
       "  </thead>\n",
       "  <tbody>\n",
       "    <tr>\n",
       "      <th>count</th>\n",
       "      <td>261.000000</td>\n",
       "      <td>261.000000</td>\n",
       "      <td>261.000000</td>\n",
       "      <td>261.000000</td>\n",
       "      <td>261.000000</td>\n",
       "    </tr>\n",
       "    <tr>\n",
       "      <th>mean</th>\n",
       "      <td>23.144828</td>\n",
       "      <td>5.590038</td>\n",
       "      <td>106.360153</td>\n",
       "      <td>15.547893</td>\n",
       "      <td>1976.819923</td>\n",
       "    </tr>\n",
       "    <tr>\n",
       "      <th>std</th>\n",
       "      <td>7.823570</td>\n",
       "      <td>1.733310</td>\n",
       "      <td>40.499959</td>\n",
       "      <td>2.910625</td>\n",
       "      <td>3.637696</td>\n",
       "    </tr>\n",
       "    <tr>\n",
       "      <th>min</th>\n",
       "      <td>10.000000</td>\n",
       "      <td>3.000000</td>\n",
       "      <td>46.000000</td>\n",
       "      <td>8.000000</td>\n",
       "      <td>1971.000000</td>\n",
       "    </tr>\n",
       "    <tr>\n",
       "      <th>25%</th>\n",
       "      <td>16.900000</td>\n",
       "      <td>4.000000</td>\n",
       "      <td>75.000000</td>\n",
       "      <td>14.000000</td>\n",
       "      <td>1974.000000</td>\n",
       "    </tr>\n",
       "    <tr>\n",
       "      <th>50%</th>\n",
       "      <td>22.000000</td>\n",
       "      <td>6.000000</td>\n",
       "      <td>95.000000</td>\n",
       "      <td>16.000000</td>\n",
       "      <td>1977.000000</td>\n",
       "    </tr>\n",
       "    <tr>\n",
       "      <th>75%</th>\n",
       "      <td>28.800000</td>\n",
       "      <td>8.000000</td>\n",
       "      <td>138.000000</td>\n",
       "      <td>17.000000</td>\n",
       "      <td>1980.000000</td>\n",
       "    </tr>\n",
       "    <tr>\n",
       "      <th>max</th>\n",
       "      <td>46.600000</td>\n",
       "      <td>8.000000</td>\n",
       "      <td>230.000000</td>\n",
       "      <td>25.000000</td>\n",
       "      <td>1983.000000</td>\n",
       "    </tr>\n",
       "  </tbody>\n",
       "</table>\n",
       "</div>"
      ],
      "text/plain": [
       "              mpg   cylinders          hp  time-to-60         year\n",
       "count  261.000000  261.000000  261.000000  261.000000   261.000000\n",
       "mean    23.144828    5.590038  106.360153   15.547893  1976.819923\n",
       "std      7.823570    1.733310   40.499959    2.910625     3.637696\n",
       "min     10.000000    3.000000   46.000000    8.000000  1971.000000\n",
       "25%     16.900000    4.000000   75.000000   14.000000  1974.000000\n",
       "50%     22.000000    6.000000   95.000000   16.000000  1977.000000\n",
       "75%     28.800000    8.000000  138.000000   17.000000  1980.000000\n",
       "max     46.600000    8.000000  230.000000   25.000000  1983.000000"
      ]
     },
     "execution_count": 59,
     "metadata": {},
     "output_type": "execute_result"
    }
   ],
   "source": [
    "# Generate descriptive statistics after column-dropping\n",
    "\n",
    "df_new.describe()"
   ]
  },
  {
   "cell_type": "markdown",
   "metadata": {},
   "source": [
    "### 3.c) Min-max scaling ( 3 points )\n",
    "\n",
    "Feature Scaling is a technique to standardize the independent features present in the data in a fixed range. It is performed during the data pre-processing to handle highly varying magnitudes or values or units.In this approach, the data is scaled to a fixed range - usually 0 to 1.<br>\n",
    "<br>A min-max scaling is typically done via the following equation: <br><br>\n",
    "$X_{scaled} = \\frac{X - X_{min}}{X_{max} - X_{min}}$\n",
    "\n",
    "Eg. Given a sequence [ 1, 2, 3, 4, 5 ] <br>\n",
    "    The min-max scaled version would be [ 0, 0.25, 0.50, 0.75. 1.0 ] "
   ]
  },
  {
   "cell_type": "code",
   "execution_count": 65,
   "metadata": {},
   "outputs": [],
   "source": [
    "# Perform min-max scaling scaling on all the columns of 'df_new'\n",
    "# Store the modified dataframe in a new dataframe 'df_scaled'\n",
    "\n",
    "#YOUR CODE HERE:\n",
    "df_scaled = (df_new - df_new.min())/(df_new.max() - df_new.min())"
   ]
  },
  {
   "cell_type": "code",
   "execution_count": 67,
   "metadata": {},
   "outputs": [
    {
     "data": {
      "text/html": [
       "<div>\n",
       "<style scoped>\n",
       "    .dataframe tbody tr th:only-of-type {\n",
       "        vertical-align: middle;\n",
       "    }\n",
       "\n",
       "    .dataframe tbody tr th {\n",
       "        vertical-align: top;\n",
       "    }\n",
       "\n",
       "    .dataframe thead th {\n",
       "        text-align: right;\n",
       "    }\n",
       "</style>\n",
       "<table border=\"1\" class=\"dataframe\">\n",
       "  <thead>\n",
       "    <tr style=\"text-align: right;\">\n",
       "      <th></th>\n",
       "      <th>mpg</th>\n",
       "      <th>cylinders</th>\n",
       "      <th>hp</th>\n",
       "      <th>time-to-60</th>\n",
       "      <th>year</th>\n",
       "    </tr>\n",
       "  </thead>\n",
       "  <tbody>\n",
       "    <tr>\n",
       "      <th>count</th>\n",
       "      <td>261.000000</td>\n",
       "      <td>261.000000</td>\n",
       "      <td>261.000000</td>\n",
       "      <td>261.000000</td>\n",
       "      <td>261.000000</td>\n",
       "    </tr>\n",
       "    <tr>\n",
       "      <th>mean</th>\n",
       "      <td>0.359148</td>\n",
       "      <td>0.518008</td>\n",
       "      <td>0.328044</td>\n",
       "      <td>0.443994</td>\n",
       "      <td>0.484994</td>\n",
       "    </tr>\n",
       "    <tr>\n",
       "      <th>std</th>\n",
       "      <td>0.213759</td>\n",
       "      <td>0.346662</td>\n",
       "      <td>0.220108</td>\n",
       "      <td>0.171213</td>\n",
       "      <td>0.303141</td>\n",
       "    </tr>\n",
       "    <tr>\n",
       "      <th>min</th>\n",
       "      <td>0.000000</td>\n",
       "      <td>0.000000</td>\n",
       "      <td>0.000000</td>\n",
       "      <td>0.000000</td>\n",
       "      <td>0.000000</td>\n",
       "    </tr>\n",
       "    <tr>\n",
       "      <th>25%</th>\n",
       "      <td>0.188525</td>\n",
       "      <td>0.200000</td>\n",
       "      <td>0.157609</td>\n",
       "      <td>0.352941</td>\n",
       "      <td>0.250000</td>\n",
       "    </tr>\n",
       "    <tr>\n",
       "      <th>50%</th>\n",
       "      <td>0.327869</td>\n",
       "      <td>0.600000</td>\n",
       "      <td>0.266304</td>\n",
       "      <td>0.470588</td>\n",
       "      <td>0.500000</td>\n",
       "    </tr>\n",
       "    <tr>\n",
       "      <th>75%</th>\n",
       "      <td>0.513661</td>\n",
       "      <td>1.000000</td>\n",
       "      <td>0.500000</td>\n",
       "      <td>0.529412</td>\n",
       "      <td>0.750000</td>\n",
       "    </tr>\n",
       "    <tr>\n",
       "      <th>max</th>\n",
       "      <td>1.000000</td>\n",
       "      <td>1.000000</td>\n",
       "      <td>1.000000</td>\n",
       "      <td>1.000000</td>\n",
       "      <td>1.000000</td>\n",
       "    </tr>\n",
       "  </tbody>\n",
       "</table>\n",
       "</div>"
      ],
      "text/plain": [
       "              mpg   cylinders          hp  time-to-60        year\n",
       "count  261.000000  261.000000  261.000000  261.000000  261.000000\n",
       "mean     0.359148    0.518008    0.328044    0.443994    0.484994\n",
       "std      0.213759    0.346662    0.220108    0.171213    0.303141\n",
       "min      0.000000    0.000000    0.000000    0.000000    0.000000\n",
       "25%      0.188525    0.200000    0.157609    0.352941    0.250000\n",
       "50%      0.327869    0.600000    0.266304    0.470588    0.500000\n",
       "75%      0.513661    1.000000    0.500000    0.529412    0.750000\n",
       "max      1.000000    1.000000    1.000000    1.000000    1.000000"
      ]
     },
     "execution_count": 67,
     "metadata": {},
     "output_type": "execute_result"
    }
   ],
   "source": [
    "# Generate descriptive statistics after min-max scaling\n",
    "# Observe that the min and max statistics have been modified\n",
    "\n",
    "df_scaled.describe()"
   ]
  },
  {
   "cell_type": "markdown",
   "metadata": {},
   "source": [
    "### 3.d) Standardization ( 3 points )\n",
    "\n",
    "It is a very effective technique which re-scales a feature value so that it has distribution with 0 mean value and variance equals to 1.\n",
    "\n",
    "Standardization rescales data to have a mean (𝜇) of 0 and standard deviation (𝜎) of 1 (unit variance).\n",
    "\n",
    "$X_{std} = \\frac{X - \\mu}{\\sigma}$\n",
    "\n",
    "Standardization can be visualized as a shifting and stretching/shrinking process. "
   ]
  },
  {
   "cell_type": "code",
   "execution_count": 68,
   "metadata": {},
   "outputs": [],
   "source": [
    "# Perform standardization on all the columns of 'df_new'\n",
    "# Store the modified dataframe in a new dataframe 'df_std'\n",
    "\n",
    "#YOUR CODE HERE:\n",
    "df_std = (df_new - df_new.mean())/df_new.std()"
   ]
  },
  {
   "cell_type": "code",
   "execution_count": 69,
   "metadata": {
    "scrolled": true
   },
   "outputs": [
    {
     "data": {
      "text/html": [
       "<div>\n",
       "<style scoped>\n",
       "    .dataframe tbody tr th:only-of-type {\n",
       "        vertical-align: middle;\n",
       "    }\n",
       "\n",
       "    .dataframe tbody tr th {\n",
       "        vertical-align: top;\n",
       "    }\n",
       "\n",
       "    .dataframe thead th {\n",
       "        text-align: right;\n",
       "    }\n",
       "</style>\n",
       "<table border=\"1\" class=\"dataframe\">\n",
       "  <thead>\n",
       "    <tr style=\"text-align: right;\">\n",
       "      <th></th>\n",
       "      <th>mpg</th>\n",
       "      <th>cylinders</th>\n",
       "      <th>hp</th>\n",
       "      <th>time-to-60</th>\n",
       "      <th>year</th>\n",
       "    </tr>\n",
       "  </thead>\n",
       "  <tbody>\n",
       "    <tr>\n",
       "      <th>count</th>\n",
       "      <td>2.610000e+02</td>\n",
       "      <td>2.610000e+02</td>\n",
       "      <td>2.610000e+02</td>\n",
       "      <td>2.610000e+02</td>\n",
       "      <td>2.610000e+02</td>\n",
       "    </tr>\n",
       "    <tr>\n",
       "      <th>mean</th>\n",
       "      <td>-1.343115e-16</td>\n",
       "      <td>3.234960e-16</td>\n",
       "      <td>1.091347e-16</td>\n",
       "      <td>-2.339550e-16</td>\n",
       "      <td>-2.638986e-15</td>\n",
       "    </tr>\n",
       "    <tr>\n",
       "      <th>std</th>\n",
       "      <td>1.000000e+00</td>\n",
       "      <td>1.000000e+00</td>\n",
       "      <td>1.000000e+00</td>\n",
       "      <td>1.000000e+00</td>\n",
       "      <td>1.000000e+00</td>\n",
       "    </tr>\n",
       "    <tr>\n",
       "      <th>min</th>\n",
       "      <td>-1.680157e+00</td>\n",
       "      <td>-1.494273e+00</td>\n",
       "      <td>-1.490376e+00</td>\n",
       "      <td>-2.593221e+00</td>\n",
       "      <td>-1.599893e+00</td>\n",
       "    </tr>\n",
       "    <tr>\n",
       "      <th>25%</th>\n",
       "      <td>-7.982069e-01</td>\n",
       "      <td>-9.173424e-01</td>\n",
       "      <td>-7.743255e-01</td>\n",
       "      <td>-5.318077e-01</td>\n",
       "      <td>-7.751949e-01</td>\n",
       "    </tr>\n",
       "    <tr>\n",
       "      <th>50%</th>\n",
       "      <td>-1.463306e-01</td>\n",
       "      <td>2.365196e-01</td>\n",
       "      <td>-2.804979e-01</td>\n",
       "      <td>1.553300e-01</td>\n",
       "      <td>4.950293e-02</td>\n",
       "    </tr>\n",
       "    <tr>\n",
       "      <th>75%</th>\n",
       "      <td>7.228378e-01</td>\n",
       "      <td>1.390382e+00</td>\n",
       "      <td>7.812316e-01</td>\n",
       "      <td>4.988988e-01</td>\n",
       "      <td>8.742008e-01</td>\n",
       "    </tr>\n",
       "    <tr>\n",
       "      <th>max</th>\n",
       "      <td>2.998014e+00</td>\n",
       "      <td>1.390382e+00</td>\n",
       "      <td>3.052839e+00</td>\n",
       "      <td>3.247450e+00</td>\n",
       "      <td>1.698899e+00</td>\n",
       "    </tr>\n",
       "  </tbody>\n",
       "</table>\n",
       "</div>"
      ],
      "text/plain": [
       "                mpg     cylinders            hp    time-to-60          year\n",
       "count  2.610000e+02  2.610000e+02  2.610000e+02  2.610000e+02  2.610000e+02\n",
       "mean  -1.343115e-16  3.234960e-16  1.091347e-16 -2.339550e-16 -2.638986e-15\n",
       "std    1.000000e+00  1.000000e+00  1.000000e+00  1.000000e+00  1.000000e+00\n",
       "min   -1.680157e+00 -1.494273e+00 -1.490376e+00 -2.593221e+00 -1.599893e+00\n",
       "25%   -7.982069e-01 -9.173424e-01 -7.743255e-01 -5.318077e-01 -7.751949e-01\n",
       "50%   -1.463306e-01  2.365196e-01 -2.804979e-01  1.553300e-01  4.950293e-02\n",
       "75%    7.228378e-01  1.390382e+00  7.812316e-01  4.988988e-01  8.742008e-01\n",
       "max    2.998014e+00  1.390382e+00  3.052839e+00  3.247450e+00  1.698899e+00"
      ]
     },
     "execution_count": 69,
     "metadata": {},
     "output_type": "execute_result"
    }
   ],
   "source": [
    "# Generate descriptive statistics after standardization\n",
    "# Observe that the mean and standard deviation statistics have been modified\n",
    "\n",
    "df_std.describe()"
   ]
  },
  {
   "cell_type": "code",
   "execution_count": 70,
   "metadata": {
    "scrolled": true
   },
   "outputs": [
    {
     "data": {
      "image/png": "[encoded data removed]",
      "text/plain": [
       "<Figure size 432x288 with 3 Axes>"
      ]
     },
     "metadata": {
      "needs_background": "light"
     },
     "output_type": "display_data"
    }
   ],
   "source": [
    "# Displaying histogram plots for the 'hp' column\n",
    "\n",
    "plt.figure()\n",
    "plt.subplot(3,1,1)\n",
    "plt.title(\"Histogram: Original data - 'hp'\")\n",
    "ax1 = df_new[\"hp\"].plot.hist(bins=50, alpha=1)\n",
    "plt.subplot(3,1,2)\n",
    "plt.title(\"Histogram: After min-max scaling - 'hp'\")\n",
    "ax2 = df_scaled[\"hp\"].plot.hist(bins=50, alpha=1)\n",
    "plt.subplot(3,1,3)\n",
    "plt.title(\"Histogram: After standardization - 'hp'\")\n",
    "ax3 = df_std[\"hp\"].plot.hist(bins=50, alpha=1)\n",
    "plt.tight_layout()\n"
   ]
  }
 ],
 "metadata": {
  "kernelspec": {
   "display_name": "Python 3 (ipykernel)",
   "language": "python",
   "name": "python3"
  },
  "language_info": {
   "codemirror_mode": {
    "name": "ipython",
    "version": 3
   },
   "file_extension": ".py",
   "mimetype": "text/x-python",
   "name": "python",
   "nbconvert_exporter": "python",
   "pygments_lexer": "ipython3",
   "version": "3.9.7"
  }
 },
 "nbformat": 4,
 "nbformat_minor": 2
}
