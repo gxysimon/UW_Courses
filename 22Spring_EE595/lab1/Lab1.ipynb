{
 "cells": [
  {
   "cell_type": "code",
   "execution_count": null,
   "metadata": {},
   "outputs": [],
   "source": []
  },
  {
   "cell_type": "markdown",
   "metadata": {},
   "source": [
    "# Lab 1: EEP 595\n",
    "\n",
    "## Introduction to Privacy Engineering, Spring 2022\n",
    "\n",
    "## Python Review and Data Processing\n",
    "\n",
    "\n",
    "##### This lab consists of the following sections:\n",
    "- Part 1: Python review ( Optional - 0 points )\n",
    "- Part 2: Python exercises ( 15 points )\n",
    "- Part 3: Pandas: data processing ( 10 points )\n",
    "\n",
    "##### Grading rubric: for each subquestion \n",
    "100% of the points - Correct code, correct output<br>\n",
    "50% of the points - Minor logical error, partial output<br>\n",
    "0% of the points - No attempt, incomplete code, wrong output\n",
    "\n",
    "##### Submission instructions\n",
    "\n",
    "You will have to submit the completed jupyter notebook file (.ipynb) in Canvas.\n",
    "\n",
    "Adapted from the tutorial given by the [The Pacman Projects](https://courses.cs.washington.edu/courses/cse473/13au/pacman/intro/tutorial.html)\n",
    "\n",
    "***\n",
    "\n",
    "## Part 1: Python review ( 0 points )\n",
    "\n",
    "This section is optional <br>\n",
    "Proceed to Part 2 if you are familiar with Python <br>\n",
    "Additional resource: www.python.org\n",
    "\n",
    "#### Operators\n",
    "\n"
   ]
  },
  {
   "cell_type": "code",
   "execution_count": null,
   "metadata": {},
   "outputs": [],
   "source": [
    "# Examples for simple arithmetic and Boolean expressions\n",
    "\n",
    "print(\"3 + 4 = \", 3 + 4)\n",
    "print(\"(-3) * 4 = \", (-3) * 4)\n",
    "print(\"1==0 \", 1==0)\n",
    "print(\"not (1==0) \", not(1==0))\n",
    "print(\"(2==2) and (2==3) \", (2==2) and (2==3))\n",
    "print(\"(2==2) or (2==3) \", (2==2) or (2==3))"
   ]
  },
  {
   "cell_type": "markdown",
   "metadata": {},
   "source": [
    "#### String operations\n",
    "\n",
    "Notice that we can use either single quotes ' ' or double quotes \" \" to surround a string. <br>\n",
    "This allows for easy nesting of strings."
   ]
  },
  {
   "cell_type": "code",
   "execution_count": null,
   "metadata": {},
   "outputs": [],
   "source": [
    "# String operations\n",
    "# The + operator is overloaded to do string concatenation on string values.\n",
    "\n",
    "print('artificial' + \"intelligence\")\n",
    "var = 'artificial' + \"intelligence\"\n",
    "print(\"Lowercase: \", var.lower())\n",
    "print(\"Uppercase:\", var.upper())\n",
    "print(\"Characters: \", list(var))\n",
    "print(\"Length of the string is \", len(var))"
   ]
  },
  {
   "cell_type": "code",
   "execution_count": null,
   "metadata": {},
   "outputs": [],
   "source": [
    "# To see what methods Python provides for a datatype, use the dir and help commands\n",
    "\n",
    "text = \"Ravenclaw\"\n",
    "dir(text)"
   ]
  },
  {
   "cell_type": "code",
   "execution_count": null,
   "metadata": {},
   "outputs": [],
   "source": [
    "text = \"Ravenclaw\"\n",
    "help(text.find)"
   ]
  },
  {
   "cell_type": "markdown",
   "metadata": {},
   "source": [
    "#### Built-in data structures\n",
    "\n",
    "##### Lists\n",
    "Lists store a sequence of mutable items"
   ]
  },
  {
   "cell_type": "code",
   "execution_count": null,
   "metadata": {},
   "outputs": [],
   "source": [
    "# List example\n",
    "\n",
    "fruits = ['apple','orange','pear','banana']\n",
    "print(\"Sample list: \", fruits )\n",
    "\n",
    "# Python uses 0-indexing\n",
    "print(\"First element: \", fruits[0])\n",
    "\n",
    "# Python also allows negative-indexing from the back of the list\n",
    "print(\"Last element: \", fruits[-1])\n",
    "\n",
    "# List concatenation\n",
    "otherFruits = ['kiwi','strawberry']\n",
    "fruits += otherFruits\n",
    "print(\"Concatenated list: \", fruits)\n",
    "\n",
    "#List slicing\n",
    "print(\"\\nfruits[0:2]: \", fruits[0:2])\n",
    "print(\"fruits[:3]: \", fruits[:3])\n",
    "\n",
    "# Pop operator\n",
    "print(\"Pop: \", fruits.pop())\n",
    "\n",
    "# Reverse operator\n",
    "# Note: this is an in-place operation\n",
    "fruits.reverse()\n",
    "print(\"Reversed list \", fruits)"
   ]
  },
  {
   "cell_type": "markdown",
   "metadata": {},
   "source": [
    "##### Tuples\n",
    "A data structure similar to the list is the tuple, which is like a list except that it is immutable once it is created (i.e. you cannot change its content once created). Note that tuples are surrounded with parentheses while lists have square brackets"
   ]
  },
  {
   "cell_type": "code",
   "execution_count": null,
   "metadata": {},
   "outputs": [],
   "source": [
    "# Tuple example\n",
    "\n",
    "pair = (\"Grade\",4.0)\n",
    "\n",
    "print(\"pair[0]: \", pair[0])\n",
    "print(\"pair[1]: \", pair[1])\n",
    "\n",
    "# Modification attempt\n",
    "# This will fail as this is an immutable data structure\n",
    "# A TypeError will be generated\n",
    "\n",
    "pair[1] = 5.0"
   ]
  },
  {
   "cell_type": "markdown",
   "metadata": {},
   "source": [
    "##### Sets\n",
    "A set is another data structure that serves as an unordered list with no duplicate items"
   ]
  },
  {
   "cell_type": "code",
   "execution_count": null,
   "metadata": {},
   "outputs": [],
   "source": [
    "# Set example\n",
    "\n",
    "shapes = ['circle','square','triangle','circle']\n",
    "setOfShapes = set(shapes)\n",
    "print(setOfShapes)\n",
    "\n",
    "setOfShapes.add('polygon')\n",
    "print(setOfShapes)"
   ]
  },
  {
   "cell_type": "markdown",
   "metadata": {},
   "source": [
    "##### Dictionaries\n",
    "\n",
    "A dictionary stores a map from one type of object (the key) to another (the value). The key must be an immutable type (string, number, or tuple). The value can be any Python data type."
   ]
  },
  {
   "cell_type": "code",
   "execution_count": null,
   "metadata": {},
   "outputs": [],
   "source": [
    "# Dictionary example\n",
    "\n",
    "studentIds = {'knuth': 42.0, 'turing': 56.0, 'nash': 92.0 }\n",
    "print(\"Dictionary: \", studentIds)\n",
    "print(studentIds.keys())\n",
    "print(studentIds.values())"
   ]
  },
  {
   "cell_type": "markdown",
   "metadata": {},
   "source": [
    "#### Indentation"
   ]
  },
  {
   "cell_type": "code",
   "execution_count": null,
   "metadata": {},
   "outputs": [],
   "source": [
    "# Indentation example 1\n",
    "\n",
    "if 0 == 1:\n",
    "    print('We are in a world of arithmetic pain')\n",
    "print('Thank you for playing')"
   ]
  },
  {
   "cell_type": "code",
   "execution_count": null,
   "metadata": {},
   "outputs": [],
   "source": [
    "# Indentation example 2\n",
    "# No output is generated\n",
    "\n",
    "if 0 == 1:\n",
    "    print('We are in a world of arithmetic pain')\n",
    "    print('Thank you for playing')"
   ]
  },
  {
   "cell_type": "markdown",
   "metadata": {},
   "source": [
    "#### Functions"
   ]
  },
  {
   "cell_type": "code",
   "execution_count": null,
   "metadata": {},
   "outputs": [],
   "source": [
    "# Example function\n",
    "\n",
    "def simpleAdd(a,b):\n",
    "    return(a+b)\n",
    "\n",
    "print(simpleAdd(3,5))"
   ]
  },
  {
   "cell_type": "markdown",
   "metadata": {},
   "source": [
    "***\n",
    "## Part 2: Python exercises ( 15 points )\n",
    "\n",
    "Look out for the 'YOUR CODE HERE:' comment in the following cells\n",
    "\n",
    "### 2.a) Operators ( 3 points )\n",
    "\n",
    "Write a function that applies the logistic sigmoid function to all elements of a list.\n",
    "The logistic sigmoid function is defined as :\n",
    "\n",
    "$f(x) = \\frac{1}{1+e^{-x}}$\n",
    "\n",
    "A sigmoid function is a mathematical function having a characteristic “S”-shaped curve or sigmoid curve. <br>\n",
    "The output of the sigmoid function is in the range [0,1]\n",
    "\n"
   ]
  },
  {
   "cell_type": "code",
   "execution_count": null,
   "metadata": {},
   "outputs": [],
   "source": [
    "# Loading libraries \n",
    "\n",
    "import numpy as np\n",
    "import math\n",
    "import matplotlib.pyplot as plt\n",
    "import pandas as pd"
   ]
  },
  {
   "cell_type": "code",
   "execution_count": null,
   "metadata": {},
   "outputs": [],
   "source": [
    "# Write a function that applies the logistic sigmoid function to all elements of a NumPy array\n",
    "# The NumPy and Math libraries have useful predefined mathematical functions\n",
    "\n",
    "def sigmoid(inputArray):\n",
    "    \n",
    "    modifiedArray = np.zeros(len(inputArray))\n",
    "    \n",
    "    #YOUR CODE HERE:\n",
    "    \n",
    "    return(modifiedArray)\n",
    "\n",
    "def test_2a():\n",
    "\n",
    "    inputs = np.arange(-10,10,0.2)\n",
    "    outputs = sigmoid(inputs)\n",
    "    plt.figure(1)\n",
    "    plt.plot(inputs)\n",
    "    plt.title('Input')\n",
    "    plt.xlabel('Index')\n",
    "    plt.ylabel('Value')\n",
    "    plt.show()\n",
    "    plt.figure(2)\n",
    "    plt.plot(outputs,'red')\n",
    "    plt.title('Output')\n",
    "    plt.xlabel('Index')\n",
    "    plt.ylabel('Value')\n",
    "    plt.show()\n",
    "\n",
    "test_2a()"
   ]
  },
  {
   "cell_type": "markdown",
   "metadata": {},
   "source": [
    "### 2.b)  Noise addition ( 3 points )\n",
    "\n",
    "Write a function that adds random noisy values to all elements of a NumPy array. <br>\n",
    "Gaussian noise, or white noise, has a mean of 0 and a standard deviation of 1. <br >\n",
    "The addition of Gaussian noise is referred to as 'jittering' <br>\n",
    "\n",
    "Choose your noisy values such that they are randomly sampled from a Gaussian distribution that has a mean of 0 and a standard deviation of 1."
   ]
  },
  {
   "cell_type": "code",
   "execution_count": null,
   "metadata": {},
   "outputs": [],
   "source": [
    "# Write a function that adds a random noise to all elements of a NumPy array\n",
    "# The NumPy and math libraries have useful predefined mathematical functions\n",
    "# The numpy.random module maybe useful\n",
    "\n",
    "def addNoise(inputArray):\n",
    "    \n",
    "    modifiedArray = np.zeros(len(inputArray))\n",
    "    \n",
    "    #YOUR CODE HERE:\n",
    "    \n",
    "    return(modifiedArray)\n",
    "\n",
    "\n",
    "def test_2b():\n",
    "\n",
    "    inputs = np.arange(-10,10,0.2)\n",
    "    outputs = addNoise(inputs)\n",
    "    plt.figure(1)\n",
    "    plt.plot(inputs)\n",
    "    plt.title('Input')\n",
    "    plt.xlabel('Index')\n",
    "    plt.ylabel('Value')\n",
    "    plt.show()\n",
    "    plt.figure(2)\n",
    "    plt.plot(outputs,'red')\n",
    "    plt.title('Output')\n",
    "    plt.xlabel('Index')\n",
    "    plt.ylabel('Value')\n",
    "    plt.show()\n",
    "\n",
    "test_2b()"
   ]
  },
  {
   "cell_type": "markdown",
   "metadata": {},
   "source": [
    "### 2.c) Text processing ( 9 points )\n",
    "\n",
    "For data analyses involving raw text data, different preprocessing tasks are applied to clean the data. <br>\n",
    "This section uses some of the basic processes involved in text cleaning. \n",
    "\n",
    "- Find the total number of alphanumeric characters in the original input text\n",
    "- Find the total number of unique numeric characters in the original input text\n",
    "- Remove all non alphabetic characters (don't worry about punctuation rules for this task eg. \"don't\" would become \"dont\" ). Remember to preserve the space \" \" between words. \n",
    "- Convert all text to lowercase\n",
    "- Find the total number of words after preprocessing\n",
    "- Find the total number of unique words after preprocessing"
   ]
  },
  {
   "cell_type": "code",
   "execution_count": null,
   "metadata": {},
   "outputs": [],
   "source": [
    "# This cell contains the sample text string \n",
    "\n",
    "sampleText = \"The University of Washington (UW, simply Washington, or informally U-Dub)[5] is a public research university in Seattle, Washington. Founded in 1861, Washington was first established in downtown Seattle approximately a decade after the city's founding to aid its economic development. Today, the university's 703-acre main Seattle campus is in the University District above the Montlake Cut, within the urban Puget Sound region of the Pacific Northwest. The university has additional campuses in Tacoma and Bothell. Overall, UW encompasses over 500 buildings and over 20 million gross square footage of space, including one of the largest library systems in the world with over 26 university libraries, as well as the UW Tower, lecture halls, art centers, museums, laboratories, stadiums, and conference centers. The university offers bachelor's, master's, and doctoral degrees through 140 departments in various colleges and schools, sees about 46,000 in total student enrollment every year, and functions on a quarter system. Washington is a member of the Association of American Universities and classified as an R1 Doctoral Research University classification under the Carnegie Classification of Institutions of Higher Education. It is cited as a leading university in the world for scientific performance and research output by the Times Higher Education World University Rankings and the CWTS Leiden Ranking. In the 2015 fiscal year, the UW received nearly $1.2 billion in research funding, the 3rd largest among all universities in the United States.[6] As the flagship institution of the six public universities in Washington State, it is known for its research in medicine, science, as well as its highly-competitive computer science and engineering programs. Additionally, Washington continues to benefit from its deep historical ties and major collaborations with numerous technology giants in the region, such as Amazon, Boeing, Nintendo, and particularly Microsoft. Paul G. Allen, Bill Gates and others spent significant time at Washington computer labs for a startup venture before founding Microsoft.[7] Its 22 varsity sports teams are also highly competitive, competing as the Huskies in the Pac-12 Conference of the NCAA Division I, representing the United States at the Olympic Games, and other major competitions.[8] The university has been affiliated with many notable alumni and faculty, including 20 Nobel Prize laureates and numerous Pulitzer Prize winners, Fulbright Scholars, Rhodes Scholars, Marshall Scholars, as well as members of other distinguished institutions.\""
   ]
  },
  {
   "cell_type": "code",
   "execution_count": null,
   "metadata": {},
   "outputs": [],
   "source": [
    "# Your function should return 4 variables: alphaNumCount, uniqueNumCount, wordCount, uniqueWordCount\n",
    "\n",
    "def textPreprocessing(textString):\n",
    "\n",
    "    alphaNumCount, uniqueNumCount, wordCount, uniqueWordCount = (0,0,0,0)\n",
    "    \n",
    "    #YOUR CODE HERE:\n",
    "    \n",
    "\n",
    "def test_2c(sampleText):\n",
    "\n",
    "    alphaNumCount, uniqueNumCount, wordCount, uniqueWordCount = textPreprocessing(sampleText)\n",
    "    print(\"Total number of alphanumeric characters in the original input text: \", alphaNumCount)\n",
    "    print(\"Total number of unique numeric characters in the original input text: \", uniqueNumCount)\n",
    "    print(\"Total number of words after preprocessing\", wordCount)\n",
    "    print(\"Total number of unique words after preprocessing\", uniqueWordCount)\n",
    "\n",
    "test_2c(sampleText)"
   ]
  },
  {
   "cell_type": "markdown",
   "metadata": {},
   "source": [
    "***\n",
    "\n",
    "## Part 3: Pandas: data processing ( 10 points )\n",
    "\n",
    "Pandas is a software library written for the Python programming language for data manipulation and analysis. In particular, it offers data structures and operations for manipulating numerical tables and time series. In this section, we will be looking at some of the preprocessing steps involved with analysing data.\n",
    "\n",
    "We will be using the 'cars.csv' dataset [ this csv file is provided inside your lab zipfile download ]\n",
    "\n",
    "Dataset resource: https://www.kaggle.com/abineshkumark/carsdata\n",
    "\n",
    "About the dataset: Cars Data has Information about 3 brands/make of cars. Namely US, Japan, Europe. Target of the data set to find the brand of a car using the parameters such as horsepower, Cubic inches, Make year, etc.\n",
    "\n",
    "Look out for the 'YOUR CODE HERE:' comment in the following cells\n",
    "\n",
    "### 3.a)  Loading a .csv file ( 2 points )"
   ]
  },
  {
   "cell_type": "code",
   "execution_count": null,
   "metadata": {},
   "outputs": [],
   "source": [
    "# Loading a .csv file\n",
    "# Use a pandas fuction to read a csv file (cars.csv)\n",
    "# Store the csv file as a pandas dataframe called 'df'\n",
    "\n",
    "# YOUR CODE HERE"
   ]
  },
  {
   "cell_type": "code",
   "execution_count": null,
   "metadata": {},
   "outputs": [],
   "source": [
    "# Viewing a sample of the dataframe\n",
    "\n",
    "df.head(10)\n"
   ]
  },
  {
   "cell_type": "markdown",
   "metadata": {},
   "source": [
    "### 3.b) Removing columns ( 2 points )\n",
    "\n",
    "Find a Pandas function that can be used to remove columns based on the column name. <br>\n",
    "Store the modified dataframe in a new dataframe 'df_new' <br>\n",
    "Remove the cubicinches, weightlbs, brand columns"
   ]
  },
  {
   "cell_type": "code",
   "execution_count": null,
   "metadata": {},
   "outputs": [],
   "source": [
    "# Removing columns \n",
    "# Remove the 'cubicinches','weightlbs','brand' columns \n",
    "# Store the modified dataframe in a new dataframe 'df_new'\n",
    "\n",
    "#YOUR CODE HERE:"
   ]
  },
  {
   "cell_type": "code",
   "execution_count": null,
   "metadata": {},
   "outputs": [],
   "source": [
    "# Generate descriptive statistics after column-dropping\n",
    "\n",
    "df_new.describe()"
   ]
  },
  {
   "cell_type": "markdown",
   "metadata": {},
   "source": [
    "### 3.c) Min-max scaling ( 3 points )\n",
    "\n",
    "Feature Scaling is a technique to standardize the independent features present in the data in a fixed range. It is performed during the data pre-processing to handle highly varying magnitudes or values or units.In this approach, the data is scaled to a fixed range - usually 0 to 1.<br>\n",
    "<br>A min-max scaling is typically done via the following equation: <br><br>\n",
    "$X_{scaled} = \\frac{X - X_{min}}{X_{max} - X_{min}}$\n",
    "\n",
    "Eg. Given a sequence [ 1, 2, 3, 4, 5 ] <br>\n",
    "    The min-max scaled version would be [ 0, 0.25, 0.50, 0.75. 1.0 ] "
   ]
  },
  {
   "cell_type": "code",
   "execution_count": null,
   "metadata": {},
   "outputs": [],
   "source": [
    "# Perform min-max scaling scaling on all the columns of 'df_new'\n",
    "# Store the modified dataframe in a new dataframe 'df_scaled'\n",
    "\n",
    "#YOUR CODE HERE:\n"
   ]
  },
  {
   "cell_type": "code",
   "execution_count": null,
   "metadata": {},
   "outputs": [],
   "source": [
    "# Generate descriptive statistics after min-max scaling\n",
    "# Observe that the min and max statistics have been modified\n",
    "\n",
    "df_scaled.describe()"
   ]
  },
  {
   "cell_type": "markdown",
   "metadata": {},
   "source": [
    "### 3.d) Standardization ( 3 points )\n",
    "\n",
    "It is a very effective technique which re-scales a feature value so that it has distribution with 0 mean value and variance equals to 1.\n",
    "\n",
    "Standardization rescales data to have a mean (𝜇) of 0 and standard deviation (𝜎) of 1 (unit variance).\n",
    "\n",
    "$X_{std} = \\frac{X - \\mu}{\\sigma}$\n",
    "\n",
    "Standardization can be visualized as a shifting and stretching/shrinking process. "
   ]
  },
  {
   "cell_type": "code",
   "execution_count": null,
   "metadata": {},
   "outputs": [],
   "source": [
    "# Perform standardization on all the columns of 'df_new'\n",
    "# Store the modified dataframe in a new dataframe 'df_std'\n",
    "\n",
    "#YOUR CODE HERE:\n"
   ]
  },
  {
   "cell_type": "code",
   "execution_count": null,
   "metadata": {
    "scrolled": true
   },
   "outputs": [],
   "source": [
    "# Generate descriptive statistics after standardization\n",
    "# Observe that the mean and standard deviation statistics have been modified\n",
    "\n",
    "df_std.describe()"
   ]
  },
  {
   "cell_type": "code",
   "execution_count": null,
   "metadata": {
    "scrolled": true
   },
   "outputs": [],
   "source": [
    "# Displaying histogram plots for the 'hp' column\n",
    "\n",
    "plt.figure()\n",
    "plt.subplot(3,1,1)\n",
    "plt.title(\"Histogram: Original data - 'hp'\")\n",
    "ax1 = df_new[\"hp\"].plot.hist(bins=50, alpha=1)\n",
    "plt.subplot(3,1,2)\n",
    "plt.title(\"Histogram: After min-max scaling - 'hp'\")\n",
    "ax2 = df_scaled[\"hp\"].plot.hist(bins=50, alpha=1)\n",
    "plt.subplot(3,1,3)\n",
    "plt.title(\"Histogram: After standardization - 'hp'\")\n",
    "ax3 = df_std[\"hp\"].plot.hist(bins=50, alpha=1)\n",
    "plt.tight_layout()\n"
   ]
  },
  {
   "cell_type": "code",
   "execution_count": null,
   "metadata": {},
   "outputs": [],
   "source": []
  }
 ],
 "metadata": {
  "kernelspec": {
   "display_name": "Python 3",
   "language": "python",
   "name": "python3"
  },
  "language_info": {
   "codemirror_mode": {
    "name": "ipython",
    "version": 3
   },
   "file_extension": ".py",
   "mimetype": "text/x-python",
   "name": "python",
   "nbconvert_exporter": "python",
   "pygments_lexer": "ipython3",
   "version": "3.8.5"
  }
 },
 "nbformat": 4,
 "nbformat_minor": 2
}
