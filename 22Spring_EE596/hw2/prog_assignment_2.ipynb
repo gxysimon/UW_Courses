{
  "nbformat": 4,
  "nbformat_minor": 0,
  "metadata": {
    "colab": {
      "name": "prog_assignment_2.ipynb",
      "provenance": [],
      "collapsed_sections": []
    },
    "kernelspec": {
      "name": "python3",
      "display_name": "Python 3"
    },
    "language_info": {
      "name": "python"
    }
  },
  "cells": [
    {
      "cell_type": "code",
      "execution_count": null,
      "metadata": {
        "id": "CXQsfj5ze2_a"
      },
      "outputs": [],
      "source": [
        "import pandas as pd\n",
        "import numpy as np\n",
        "import matplotlib.pyplot as plt\n",
        "import seaborn as sns\n",
        "\n",
        "from sklearn.model_selection import train_test_split\n",
        "from sklearn.preprocessing import StandardScaler\n",
        "from sklearn.metrics import confusion_matrix, classification_report, accuracy_score, f1_score\n",
        "from sklearn.linear_model import LogisticRegression\n",
        "from sklearn import tree\n"
      ]
    },
    {
      "cell_type": "code",
      "source": [
        "# Load the csv files over here into pandas data frame\n",
        "# YOUR CODE HERE\n",
        "# 0.1\n",
        "def load_csv(file_name):\n",
        "  # Input: csv_file_name\n",
        "  # Output: pandas data frame"
      ],
      "metadata": {
        "id": "PAIZuNocfvj6"
      },
      "execution_count": null,
      "outputs": []
    },
    {
      "cell_type": "markdown",
      "source": [
        "# Part 1 - Data cleaning, normalization and missing value fillup"
      ],
      "metadata": {
        "id": "I9om9G-cfwWb"
      }
    },
    {
      "cell_type": "code",
      "source": [
        "def missing_filler1():\n",
        "  # Take input the raw data and fillup the missing values using first algorithm.\n",
        "  # YOUR CODE HERE"
      ],
      "metadata": {
        "id": "XbLj1nS9gG_Z"
      },
      "execution_count": null,
      "outputs": []
    },
    {
      "cell_type": "code",
      "source": [
        "def missing_filler2():\n",
        "  # Take input the raw data and fillup the missing values using second algorithm.\n",
        "  # YOUR CODE HERE"
      ],
      "metadata": {
        "id": "c3RtnXkLgUSc"
      },
      "execution_count": null,
      "outputs": []
    },
    {
      "cell_type": "code",
      "source": [
        "def cleaning():\n",
        "  # Take all the features as input, and do any data cleaning necessary.\n",
        "  # YOUR CODE HERE"
      ],
      "metadata": {
        "id": "OL7SYLfhgeMy"
      },
      "execution_count": null,
      "outputs": []
    },
    {
      "cell_type": "code",
      "source": [
        "def normalizer():\n",
        "  # Taken input the output of cleaning function, and perform data normalization independently for all the features.\n",
        "  # YOUR CODE HERE"
      ],
      "metadata": {
        "id": "78nU0IK7f_2E"
      },
      "execution_count": null,
      "outputs": []
    },
    {
      "cell_type": "markdown",
      "source": [
        "# Part 2 - Model training and testing"
      ],
      "metadata": {
        "id": "09lUBNIAgf7e"
      }
    },
    {
      "cell_type": "code",
      "source": [
        "# Splitting the dataset into train, val and test sets.\n",
        "# 2.0\n",
        "X_train, X_test, y_train, y_test = train_test_split(X, y, test_size = 0.2)"
      ],
      "metadata": {
        "id": "VM4wDJQkgreS"
      },
      "execution_count": null,
      "outputs": []
    },
    {
      "cell_type": "code",
      "source": [
        "# Code for different models used.\n",
        "\n",
        "def Model1():\n",
        "  # You can use the sci-kit learn solver but capture any other hyper-parameter settings\n",
        "  # or model settings in this method\n",
        "  # YOUR CODE HERE\n",
        "\n",
        "def Model2():\n",
        "  # You can use the sci-kit learn solver but capture any other hyper-parameter settings\n",
        "  # or model settings in this method\n",
        "  # YOUR CODE HERE\n",
        "\n",
        "def Model3():\n",
        "  # You can use the sci-kit learn solver but capture any other hyper-parameter settings\n",
        "  # or model settings in this method\n",
        "  # YOUR CODE HERE\n",
        "\n",
        "# Please also rename the model functions to reflect what it represents.\n",
        "# Discuss about the hyper-parameter/model settings in the report."
      ],
      "metadata": {
        "id": "MCKyvlx4gv2R"
      },
      "execution_count": null,
      "outputs": []
    },
    {
      "cell_type": "code",
      "source": [
        "# Create function which calculates F1score, precision, recall and accuracy score for true and predicted labels.\n",
        "def metrics(y_pred, y_true):\n",
        "  pass\n",
        "  # Takes input the predicted and true labels.\n",
        "  # Your code here for precision, recall, F1score, accuracy\n",
        "  # You can call this code to compute metrics for your models"
      ],
      "metadata": {
        "id": "yn2M8HOIhPGi"
      },
      "execution_count": null,
      "outputs": []
    },
    {
      "cell_type": "markdown",
      "source": [
        "# Part 3 - Interpretability"
      ],
      "metadata": {
        "id": "c1JgEU62iARH"
      }
    },
    {
      "cell_type": "code",
      "source": [
        "# Look into using suitable functions from sklearn. Explain your code and findings clearly in the report document.\n",
        "# 3.1\n",
        "def FeatureImportance():\n",
        "  # Your code can based on measures of information gain or other feature selection methods\n",
        "  # Input: k - Number of features to pick\n",
        "  # Output should be a ranked list of features\n",
        "  # YOUR CODE HERE\n"
      ],
      "metadata": {
        "id": "Kdgdtw6liC0V"
      },
      "execution_count": null,
      "outputs": []
    },
    {
      "cell_type": "code",
      "source": [
        "def FeatureImportanceForPairs():\n",
        "  # Find the best pairs of features which are useful for making the prediction.\n",
        "  # HINT: Can be done in a model agnostic way through pair generation and ranking.\n",
        "  # YOUR CODE HERE"
      ],
      "metadata": {
        "id": "kDYIvo2bk7UR"
      },
      "execution_count": null,
      "outputs": []
    }
  ]
}