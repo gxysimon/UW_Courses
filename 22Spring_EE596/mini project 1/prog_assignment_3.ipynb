{
  "nbformat": 4,
  "nbformat_minor": 0,
  "metadata": {
    "colab": {
      "name": "prog_assignment_3.ipynb",
      "provenance": [],
      "collapsed_sections": []
    },
    "kernelspec": {
      "name": "python3",
      "display_name": "Python 3"
    },
    "language_info": {
      "name": "python"
    }
  },
  "cells": [
    {
      "cell_type": "code",
      "execution_count": null,
      "metadata": {
        "id": "tNmGdm_V-fiI"
      },
      "outputs": [],
      "source": [
        "# Feel free to make minor changes in the format below."
      ]
    },
    {
      "cell_type": "code",
      "source": [
        "from google.colab import drive\n",
        "drive.mount('/content/drive')"
      ],
      "metadata": {
        "id": "1pTRXXQIJtRw"
      },
      "execution_count": null,
      "outputs": []
    },
    {
      "cell_type": "code",
      "source": [
        "!pip install autograd\n",
        "!pip install torch torchvision"
      ],
      "metadata": {
        "id": "Getb2unQ-5ii"
      },
      "execution_count": null,
      "outputs": []
    },
    {
      "cell_type": "code",
      "source": [
        "# To use torch in python.\n",
        "import torch\n",
        "\n",
        "# To create a model by layers.\n",
        "import torch.nn as nn\n",
        "import torch.nn.functional as F\n",
        "\n",
        "# To set the optimization.\n",
        "import torch.optim as optim\n",
        "from torch.optim import lr_scheduler\n",
        "\n",
        "# To manipulate arrays.\n",
        "import numpy as np\n",
        "\n",
        "# To save the best model and get data files.\n",
        "import os\n",
        "import copy\n",
        "\n",
        "import math\n",
        "import matplotlib.pyplot as plt\n",
        "import matplotlib.colors\n",
        "import pandas as pd\n",
        "from sklearn.model_selection import train_test_split\n",
        "from sklearn.metrics import accuracy_score, mean_squared_error, log_loss\n",
        "from tqdm import tqdm_notebook\n",
        "import seaborn as sns\n",
        "import time\n",
        "import warnings\n",
        "warnings.filterwarnings('ignore')\n",
        "\n",
        "import pywt\n",
        "from scipy import stats\n",
        "\n",
        "import torch"
      ],
      "metadata": {
        "id": "-0f1LybO-p4u"
      },
      "execution_count": null,
      "outputs": []
    },
    {
      "cell_type": "code",
      "source": [
        "# Load the csv files over here into pandas data frame\n",
        "# YOUR CODE HERE\n",
        "# 0.1\n",
        "def load_csv(file_name):\n",
        "  # Input: csv_file_name\n",
        "  # Output: pandas data frame"
      ],
      "metadata": {
        "id": "PjvwedAaAcyK"
      },
      "execution_count": null,
      "outputs": []
    },
    {
      "cell_type": "markdown",
      "source": [
        "# Exercise 1"
      ],
      "metadata": {
        "id": "jU6eWgdCANon"
      }
    },
    {
      "cell_type": "code",
      "source": [
        "def preprocessor(csv_files, txt_files):\n",
        "  # Input: List of all csv and txt files.\n",
        "  # Output: Single dataframe containing entire data.\n",
        "  # It is best to keep functions short(20 lines max), so feel free to use helper functions here."
      ],
      "metadata": {
        "id": "-rYhg5Rk_a7i"
      },
      "execution_count": null,
      "outputs": []
    },
    {
      "cell_type": "code",
      "source": [
        "def plotting():\n",
        "  # Plot a few heartbeats here with proper labelling."
      ],
      "metadata": {
        "id": "f_6nJRkYAMqI"
      },
      "execution_count": null,
      "outputs": []
    },
    {
      "cell_type": "code",
      "source": [
        "# Print length of dataframe you got after preprocessing."
      ],
      "metadata": {
        "id": "yRxlxpJZAMtN"
      },
      "execution_count": null,
      "outputs": []
    },
    {
      "cell_type": "markdown",
      "source": [
        "# Exercise 2"
      ],
      "metadata": {
        "id": "phWctgjPBtfl"
      }
    },
    {
      "cell_type": "code",
      "source": [
        "def cleaning():\n",
        "  # Take all the features as input, and do any data cleaning necessary.\n",
        "  # YOUR CODE HERE"
      ],
      "metadata": {
        "id": "rguiFkQWBuq8"
      },
      "execution_count": null,
      "outputs": []
    },
    {
      "cell_type": "code",
      "source": [
        "def normalizer():\n",
        "  # Taken input the output of cleaning function, and perform data normalization independently for all the features.\n",
        "  # YOUR CODE HERE"
      ],
      "metadata": {
        "id": "rAAKogAGB9Ec"
      },
      "execution_count": null,
      "outputs": []
    },
    {
      "cell_type": "markdown",
      "source": [
        "# Exercise 3"
      ],
      "metadata": {
        "id": "v8egAhXKCAqI"
      }
    },
    {
      "cell_type": "code",
      "source": [
        "def class_imbalance_checker():\n",
        "  # Print number of rows with each heartbeat type, along with plots to represent it."
      ],
      "metadata": {
        "id": "C1AEdxZCB9HT"
      },
      "execution_count": null,
      "outputs": []
    },
    {
      "cell_type": "code",
      "source": [
        "def imbalance_remover_1():\n",
        "  # Implement a method to handle class imbalance."
      ],
      "metadata": {
        "id": "gxhMRgylCYDC"
      },
      "execution_count": null,
      "outputs": []
    },
    {
      "cell_type": "code",
      "source": [
        "def imbalance_remover_2():\n",
        "  # Implement a method to handle class imbalance."
      ],
      "metadata": {
        "id": "qUSdsZUCCjOq"
      },
      "execution_count": null,
      "outputs": []
    },
    {
      "cell_type": "markdown",
      "source": [
        "# Exercise 4"
      ],
      "metadata": {
        "id": "kpKWJP-eCYLF"
      }
    },
    {
      "cell_type": "code",
      "source": [
        "def noise_remover1():\n",
        "  # Take input the dataframe and remove noise from it.\n",
        "  # HINT- pywt library can be helpful."
      ],
      "metadata": {
        "id": "U0T-Khu_CZhr"
      },
      "execution_count": null,
      "outputs": []
    },
    {
      "cell_type": "code",
      "source": [
        "def noise_remover2():\n",
        "  # Take input the dataframe and remove noise from it.\n"
      ],
      "metadata": {
        "id": "J682WzvSIq5m"
      },
      "execution_count": null,
      "outputs": []
    },
    {
      "cell_type": "code",
      "source": [
        "def autoencoder_noise_remover2():\n",
        "  # Take input the dataframe and remove noise from it using an autoencoder architecture.\n"
      ],
      "metadata": {
        "id": "v3uWkiQHJDKK"
      },
      "execution_count": null,
      "outputs": []
    },
    {
      "cell_type": "markdown",
      "source": [
        "# Exercise 5"
      ],
      "metadata": {
        "id": "oQsIlyNwJLXL"
      }
    },
    {
      "cell_type": "code",
      "source": [
        "# Splitting the dataset into train, val and test sets.\n",
        "# 2.0\n",
        "X_train, X_test, y_train, y_test = train_test_split(X, y, test_size = 0.2)"
      ],
      "metadata": {
        "id": "iwm7sNIIJMeO"
      },
      "execution_count": null,
      "outputs": []
    },
    {
      "cell_type": "code",
      "source": [
        "# Code for different models used.\n",
        "\n",
        "def Model1():\n",
        "  # You can use the sci-kit learn solver but capture any other hyper-parameter settings\n",
        "  # or model settings in this method\n"
      ],
      "metadata": {
        "id": "X_JQYydPJRuM"
      },
      "execution_count": null,
      "outputs": []
    },
    {
      "cell_type": "markdown",
      "source": [
        "# Exercise 6"
      ],
      "metadata": {
        "id": "uVTS6siyJWfJ"
      }
    },
    {
      "cell_type": "code",
      "source": [
        "def Model2():\n",
        "  # Apply a feed-forward neural network along with hyper-parameter tuning for the same.\n"
      ],
      "metadata": {
        "id": "IFdYOEw_JXqG"
      },
      "execution_count": null,
      "outputs": []
    },
    {
      "cell_type": "code",
      "source": [
        "def plotting_ffn():\n",
        "  # Plotting the curves of training, validation and test sets losses and\n",
        "  # accuracy scores with number of epochs on the x-axis."
      ],
      "metadata": {
        "id": "4o-FWiYHJrBN"
      },
      "execution_count": null,
      "outputs": []
    },
    {
      "cell_type": "code",
      "source": [
        "# Create function which calculates F1score, precision, recall and accuracy score for true and predicted labels.\n",
        "def metrics(y_pred, y_true):\n",
        "  pass\n",
        "  # Takes input the predicted and true labels.\n",
        "  # Your code here for precision, recall, F1score, accuracy\n",
        "  # You can call this code to compute metrics for your models"
      ],
      "metadata": {
        "id": "2HcVOeGOKIgs"
      },
      "execution_count": null,
      "outputs": []
    },
    {
      "cell_type": "markdown",
      "source": [
        "# Exercise 7"
      ],
      "metadata": {
        "id": "zcDjo4ARJ1F_"
      }
    },
    {
      "cell_type": "code",
      "source": [
        "# Add the implementation from a recent paper."
      ],
      "metadata": {
        "id": "xUbo19Z0J2t9"
      },
      "execution_count": null,
      "outputs": []
    },
    {
      "cell_type": "code",
      "source": [
        "def plotting_nn():\n",
        "  # Plotting the curves of training, validation and test sets losses and\n",
        "  # accuracy scores with number of epochs on the x-axis."
      ],
      "metadata": {
        "id": "gHCrAjRDKAZ-"
      },
      "execution_count": null,
      "outputs": []
    },
    {
      "cell_type": "markdown",
      "source": [
        "# Exercise 9"
      ],
      "metadata": {
        "id": "9Rsqm23_KTJL"
      }
    },
    {
      "cell_type": "code",
      "source": [
        "# Running with some other data.\n",
        "# Call previously defined functions for the new set of input feature values."
      ],
      "metadata": {
        "id": "4FpSlnOVKKC3"
      },
      "execution_count": null,
      "outputs": []
    },
    {
      "cell_type": "markdown",
      "source": [
        "# Exercise 10"
      ],
      "metadata": {
        "id": "hSoJZo-1JYSD"
      }
    },
    {
      "cell_type": "code",
      "source": [
        "def plot_final():\n",
        "  # lot examples or time-series snippets of\n",
        "  # mis-classified arrhythmia (False positives) and also false negatives.\n"
      ],
      "metadata": {
        "id": "6m3HAEXcJaGA"
      },
      "execution_count": null,
      "outputs": []
    }
  ]
}