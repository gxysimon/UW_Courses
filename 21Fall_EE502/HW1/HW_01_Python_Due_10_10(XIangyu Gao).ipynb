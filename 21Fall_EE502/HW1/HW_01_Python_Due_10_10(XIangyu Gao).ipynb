{
  "nbformat": 4,
  "nbformat_minor": 0,
  "metadata": {
    "kernelspec": {
      "display_name": "Python 3",
      "language": "python",
      "name": "python3"
    },
    "language_info": {
      "codemirror_mode": {
        "name": "ipython",
        "version": 3
      },
      "file_extension": ".py",
      "mimetype": "text/x-python",
      "name": "python",
      "nbconvert_exporter": "python",
      "pygments_lexer": "ipython3",
      "version": "3.8.5"
    },
    "colab": {
      "name": "HW_01_Python_Due_10_10.ipynb",
      "provenance": [],
      "collapsed_sections": []
    }
  },
  "cells": [
    {
      "cell_type": "markdown",
      "metadata": {
        "ExecuteTime": {
          "end_time": "2019-09-24T16:05:23.746666Z",
          "start_time": "2019-09-24T16:05:23.741461Z"
        },
        "id": "XjNgDFx9U3d4"
      },
      "source": [
        "EE 502 P: Analytical Methods for Electrical Engineering\n",
        "    \n",
        "# Homework 1: Python Setup\n",
        "## Due October 10, 2021 by 11:59 PM\n",
        "### <span style=\"color: red\">Xiangyu Gao</span>\n",
        "\n",
        "Copyright &copy; 2021, University of Washington\n",
        "\n",
        "<hr>\n",
        "\n",
        "**Instructions**: Please use this notebook as a template. Answer all questions using well formatted Markdown with embedded LaTeX equations, executable Jupyter cells, or both. Submit your homework solutions as an `.ipynb` file via Canvas.\n",
        "\n",
        "<span style=\"color: red'\">\n",
        "Although you may discuss the homework with others, you must turn in your own, original work.\n",
        "</span>\n",
        "\n",
        "**Things to remember:**\n",
        "- Use complete sentences. Equations should appear in text as grammatical elements.\n",
        "- Comment your code.\n",
        "- Label your axes. Title your plots. Use legends where appropriate. \n",
        "- Before submitting a notebook, choose Kernel -> Restart and Run All to make sure your notebook runs when the cells are evaluated in order. \n",
        "\n",
        "Note : Late homework will be accepted up to one week after the due date and will be worth 50% of its full credit score. "
      ]
    },
    {
      "cell_type": "markdown",
      "metadata": {
        "id": "Jnv6rSFYU3d-"
      },
      "source": [
        "### 0. Warmup (Do not turn in)\n",
        "\n",
        "- Get Jupyter running on your computer, or learn to use Google Colab's Jupyter environment.\n",
        "- Make sure you can click through the Lecture 1 notes on Python. Try changing some of the cells to see the effects. \n",
        "- If you haven't done any Python, follow one of the links in Lecture 1 to a tutorial and work through it.\n",
        "- If you haven't done any Numpy or Sympy, read through the linked documentation and tutorials for those too."
      ]
    },
    {
      "cell_type": "markdown",
      "metadata": {
        "id": "MPXBJ1UGU3d_"
      },
      "source": [
        "### 1. Complex Numbers\n",
        "Write a function `rand_complex(n)` that returns a list of `n` random complex numbers uniformly distributed in the unit circle (i.e., the magnitudes of the numbers are all between 0 and 1). Give the function a docstring. Demonstrate the function by making a list of 25 complex numbers. "
      ]
    },
    {
      "cell_type": "code",
      "metadata": {
        "id": "t7Yddhd0VVkP"
      },
      "source": [
        "import random\n",
        "import math\n",
        "import numpy as np\n",
        "\n",
        "def rand_complex(n):\n",
        "  L=[]\n",
        "  for i in range(n):\n",
        "    r = random.uniform(0,1)\n",
        "    theta = random.uniform(0,2*math.pi)\n",
        "    x = r*math.sin(theta)\n",
        "    y = r*math.cos(theta)\n",
        "    result=complex(x,y)\n",
        "    L.append(result)\n",
        "  return L"
      ],
      "execution_count": 100,
      "outputs": []
    },
    {
      "cell_type": "code",
      "metadata": {
        "id": "zqZfi2gskSyU",
        "colab": {
          "base_uri": "https://localhost:8080/"
        },
        "outputId": "2f8dd279-3665-4eec-cc5e-19f7dd5bcd2f"
      },
      "source": [
        "L=np.array(rand_complex(25))\n",
        "L"
      ],
      "execution_count": 101,
      "outputs": [
        {
          "output_type": "execute_result",
          "data": {
            "text/plain": [
              "array([-0.50039259+2.83504619e-01j, -0.27372334+1.22136559e-01j,\n",
              "       -0.10382129-5.34933195e-01j,  0.45528935-1.19856539e-01j,\n",
              "        0.40574703-4.72450178e-01j,  0.01433847-1.78303691e-02j,\n",
              "        0.03554005-1.44607607e-01j,  0.42220796+6.26575596e-01j,\n",
              "       -0.12916447-4.69334069e-02j,  0.42125667+1.93725143e-01j,\n",
              "        0.91514711-2.85084139e-01j, -0.30035093-4.18006635e-04j,\n",
              "        0.14634587-3.70416567e-01j,  0.48514614+9.77115523e-02j,\n",
              "        0.5226517 -1.37320333e-01j, -0.03512019+6.03654775e-03j,\n",
              "        0.2745575 +7.23735087e-01j,  0.00842996+3.53874224e-01j,\n",
              "        0.00281951-6.89431758e-02j,  0.49134623-5.13201223e-01j,\n",
              "       -0.40914298-2.60005207e-01j,  0.47786979+2.90580553e-01j,\n",
              "       -0.66370147-3.21144777e-02j, -0.35108086+2.82471824e-01j,\n",
              "       -0.20145998-1.07366217e-01j])"
            ]
          },
          "metadata": {},
          "execution_count": 101
        }
      ]
    },
    {
      "cell_type": "markdown",
      "metadata": {
        "id": "p9KKHpODU3d_"
      },
      "source": [
        "### 2. Hashes\n",
        "Write a function `to_hash(L) `that takes a list of complex numbers `L` and returns an array of hashes of equal length, where each hash is of the form `{ \"re\": a, \"im\": b }`. Give the function a docstring and test it by converting a list of 25 numbers generated by your `rand_complex` function. "
      ]
    },
    {
      "cell_type": "code",
      "metadata": {
        "id": "oL5Y6w9xl7Vm"
      },
      "source": [
        "def to_hash(L):\n",
        "  hash_array=[]\n",
        "  for i in range(len(L)):\n",
        "    L_dic={}\n",
        "    L_dic.setdefault('re',L[i].real)\n",
        "    L_dic.setdefault('im',L[i].imag)\n",
        "    hash_array.append(L_dic)\n",
        "    return hash_array"
      ],
      "execution_count": 102,
      "outputs": []
    },
    {
      "cell_type": "code",
      "metadata": {
        "colab": {
          "base_uri": "https://localhost:8080/"
        },
        "id": "TKRTD8Wmhp6O",
        "outputId": "b87f2ec4-917d-4015-bab3-034c0dab140d"
      },
      "source": [
        "to_hash(L)"
      ],
      "execution_count": 103,
      "outputs": [
        {
          "output_type": "execute_result",
          "data": {
            "text/plain": [
              "[{'im': 0.2835046187471097, 're': -0.5003925902571618}]"
            ]
          },
          "metadata": {},
          "execution_count": 103
        }
      ]
    },
    {
      "cell_type": "markdown",
      "metadata": {
        "id": "5X1v4VYAU3eA"
      },
      "source": [
        "### 3. Matrices\n",
        "\n",
        "Write a function `lower_traingular(n)` that returns an $n \\times n$ numpy matrix with zeros on the upper diagonal, and ones on the diagonal and lower diagonal. For example, `lower_triangular(3)` would return\n",
        "\n",
        "```python\n",
        "array([[1, 0, 0],\n",
        "       [1, 1, 0],\n",
        "       [1, 1, 1]])\n",
        "```"
      ]
    },
    {
      "cell_type": "code",
      "metadata": {
        "id": "Imxt0fQBEpY6"
      },
      "source": [
        "import numpy as np\n",
        "def lower_traingular(n):\n",
        "  a=np.ones(n,int)\n",
        "  m=np.tril(a)\n",
        "  return m"
      ],
      "execution_count": 104,
      "outputs": []
    },
    {
      "cell_type": "code",
      "metadata": {
        "colab": {
          "base_uri": "https://localhost:8080/"
        },
        "id": "nmWezBy8GEM4",
        "outputId": "c83a8a68-8704-441e-c2a2-57639debb697"
      },
      "source": [
        "lower_traingular(3)"
      ],
      "execution_count": 105,
      "outputs": [
        {
          "output_type": "execute_result",
          "data": {
            "text/plain": [
              "array([[1, 0, 0],\n",
              "       [1, 1, 0],\n",
              "       [1, 1, 1]])"
            ]
          },
          "metadata": {},
          "execution_count": 105
        }
      ]
    },
    {
      "cell_type": "markdown",
      "metadata": {
        "id": "yTMM5_7tU3eB"
      },
      "source": [
        "### 4. Numpy\n",
        "\n",
        "Write a function `convolve(M,K)` that takes an $n \\times m$ matrix $M$ and a $3 \\times 3$ matrix $K$ (called the kernel) and returns their convolution as in [this diagram](https://encrypted-tbn0.gstatic.com/images?q=tbn:ANd9GcTYo2_VuAlQhfeEGJHva3WUlnSJLeE0ApYyjw&usqp=CAU).\n",
        "\n",
        "\n",
        "Please do not use any predefined convolution functions from numpy or scipy. Write your own. If the matrix $M$ is too small, your function should return a exception.\n",
        "\n",
        "You can read more about convolution in [this post](https://setosa.io/ev/image-kernels/).\n",
        "\n",
        "The matrix returned will have two fewer rows and two fewer columns than $M$. Test your function by making a $100 \\times 100$ matrix of zeros and ones that as an image look like the letter X and convolve it with the kernel\n",
        "\n",
        "$$\n",
        "K = \\frac{1}{16} \\begin{pmatrix}\n",
        "1 & 2 & 1 \\\\\n",
        "2 & 4 & 2 \\\\\n",
        "1 & 2 & 1\n",
        "\\end{pmatrix}\n",
        "$$\n",
        "\n",
        "Use `imshow` to display both images using subplots. "
      ]
    },
    {
      "cell_type": "code",
      "metadata": {
        "id": "KU1SixIgXAGe"
      },
      "source": [
        "import numpy as np\n",
        "\n",
        "def convolve_test(M,K):\n",
        "\n",
        "    HM, WM = M.shape\n",
        "    HK, WK = K.shape\n",
        "    try:\n",
        "      out = np.zeros((HK, WK))\n",
        "      for i in range(HK):\n",
        "       for j in range(WK):\n",
        "        out[i][j] = np.sum(np.multiply(K, M[i:(i+HK), j:(j+WK)]))\n",
        "\n",
        "      return out\n",
        "    except:\n",
        "      return \"wrong input\""
      ],
      "execution_count": 106,
      "outputs": []
    },
    {
      "cell_type": "code",
      "metadata": {
        "colab": {
          "base_uri": "https://localhost:8080/"
        },
        "id": "Ns2p7y7_m15n",
        "outputId": "ae5e1ac1-05de-4928-a3a2-78467047b85c"
      },
      "source": [
        "M = np.array([[0,1,2],\n",
        "        [3,4,5],\n",
        "        [6,7,8]])\n",
        "K1 = np.array([[0,1],\n",
        "        [2,3]])\n",
        "print(convolve_test(M,K1))"
      ],
      "execution_count": 107,
      "outputs": [
        {
          "output_type": "stream",
          "name": "stdout",
          "text": [
            "[[19. 25.]\n",
            " [37. 43.]]\n"
          ]
        }
      ]
    },
    {
      "cell_type": "code",
      "metadata": {
        "id": "F6nj6x0rQxpT"
      },
      "source": [
        "import numpy as np\n",
        "\n",
        "def convolve(M,K):\n",
        "\n",
        "    HM, WM = M.shape\n",
        "    HK, WK = K.shape\n",
        "    try:\n",
        "      out = np.zeros((HM-2, WM-2))\n",
        "      for i in range(HM-2):\n",
        "        for j in range(WM-2):\n",
        "          out[i][j] = np.sum(np.multiply(K, M[i:(i+HK), j:(j+WK)]))\n",
        "          hout, wout = out.shape\n",
        "        return out\n",
        "    except:\n",
        "      return \"wrong\""
      ],
      "execution_count": 108,
      "outputs": []
    },
    {
      "cell_type": "code",
      "metadata": {
        "id": "5nQyVkB9ovG4",
        "colab": {
          "base_uri": "https://localhost:8080/"
        },
        "outputId": "5647d2aa-6a87-4df6-b852-1576ffbe77ef"
      },
      "source": [
        "import numpy as np\n",
        "test = np.zeros((100,100))\n",
        "for i in range(100):\n",
        "    test[i,i]=1\n",
        "    test[i,99-i]=1\n",
        "K=(1/16)*np.array([[1,2,1],\n",
        "          [2,4,2],\n",
        "          [1,2,1]])\n",
        "result=convolve(test,K)\n",
        "print(result)"
      ],
      "execution_count": 109,
      "outputs": [
        {
          "output_type": "stream",
          "name": "stdout",
          "text": [
            "[[0.375  0.25   0.0625 ... 0.0625 0.25   0.375 ]\n",
            " [0.     0.     0.     ... 0.     0.     0.    ]\n",
            " [0.     0.     0.     ... 0.     0.     0.    ]\n",
            " ...\n",
            " [0.     0.     0.     ... 0.     0.     0.    ]\n",
            " [0.     0.     0.     ... 0.     0.     0.    ]\n",
            " [0.     0.     0.     ... 0.     0.     0.    ]]\n"
          ]
        }
      ]
    },
    {
      "cell_type": "code",
      "metadata": {
        "id": "Yx-SylzQ4WeA",
        "colab": {
          "base_uri": "https://localhost:8080/",
          "height": 221
        },
        "outputId": "a87d9dae-c31b-4162-c0f7-e6411b0272e8"
      },
      "source": [
        "import matplotlib.pyplot as plt \n",
        "fig = plt.figure()\n",
        "ax1 = fig.add_subplot(121) \n",
        "ax2 = fig.add_subplot(122)\n",
        "ax1.imshow(K)\n",
        "ax2.imshow(result)"
      ],
      "execution_count": 110,
      "outputs": [
        {
          "output_type": "execute_result",
          "data": {
            "text/plain": [
              "<matplotlib.image.AxesImage at 0x7f4a986bad50>"
            ]
          },
          "metadata": {},
          "execution_count": 110
        },
        {
          "output_type": "display_data",
          "data": {
            "image/png": "[encoded data removed]",
            "text/plain": [
              "<Figure size 432x288 with 2 Axes>"
            ]
          },
          "metadata": {
            "needs_background": "light"
          }
        }
      ]
    },
    {
      "cell_type": "markdown",
      "metadata": {
        "id": "EqjCSQbjU3eC"
      },
      "source": [
        "### 5. Symbolic Manipulation\n",
        "\n",
        "Use sympy to specify and solve the following equations for $x$.\n",
        "\n",
        "- $x^2 + 2x - 1 = 0$ \n",
        "- $a x^2 + bx + c = 0$\n",
        "\n",
        "Also, evaluate the following integrals using sympy\n",
        "\n",
        "- $\\int x^2 dx$\n",
        "- $\\int x e^{6x} dx$\n",
        "- $\\int (3t+5)\\cos(\\frac{t}{4}) dt$"
      ]
    },
    {
      "cell_type": "code",
      "metadata": {
        "colab": {
          "base_uri": "https://localhost:8080/"
        },
        "id": "baNXy_vVxOTl",
        "outputId": "dfaa2c3e-21ef-4bb3-d5b8-245c5415110a"
      },
      "source": [
        "import sympy as sy\n",
        "x,a,b,c = sy.symbols('x a b c')\n",
        "print(sy.solve(x**2+2*x-1,x))\n",
        "print(sy.solve(a*x**2+b*x+c,x))"
      ],
      "execution_count": 111,
      "outputs": [
        {
          "output_type": "stream",
          "name": "stdout",
          "text": [
            "[-1 + sqrt(2), -sqrt(2) - 1]\n",
            "[(-b + sqrt(-4*a*c + b**2))/(2*a), -(b + sqrt(-4*a*c + b**2))/(2*a)]\n"
          ]
        }
      ]
    },
    {
      "cell_type": "code",
      "metadata": {
        "id": "buNB0_Kczhed",
        "colab": {
          "base_uri": "https://localhost:8080/"
        },
        "outputId": "c4dc46fd-f648-49b3-f52f-1970cde89eec"
      },
      "source": [
        "import sympy as sy\n",
        "import math\n",
        "x,t = sy.symbols('x t')\n",
        "f1=x**2\n",
        "f2=x*math.e**(6*x)\n",
        "f3=(3*t+5)* sy.cos(t/4)\n",
        "print(sy.integrate(f1,x))\n",
        "print(sy.integrate(f2,x))\n",
        "print(sy.integrate(f3,t))"
      ],
      "execution_count": 112,
      "outputs": [
        {
          "output_type": "stream",
          "name": "stdout",
          "text": [
            "x**3/3\n",
            "1.0*2.71828182845905**(6*x)*(0.166666666666667*x - 0.0277777777777778)\n",
            "12*t*sin(t/4) + 20*sin(t/4) + 48*cos(t/4)\n"
          ]
        }
      ]
    },
    {
      "cell_type": "markdown",
      "metadata": {
        "id": "GcqgL5wDU3eE"
      },
      "source": [
        "### 6. Typesetting\n",
        "\n",
        "Use LaTeX to typeset the following equations.\n",
        "\n",
        "<img src=\"https://www.sciencealert.com/images/Equations_web.jpg\">\n"
      ]
    },
    {
      "cell_type": "code",
      "metadata": {
        "colab": {
          "base_uri": "https://localhost:8080/",
          "height": 38
        },
        "id": "1bd1GxfhxP77",
        "outputId": "748953ac-5ade-4aa1-9112-fdc83057c612"
      },
      "source": [
        "import sympy as sym\n",
        "sym.init_printing()\n",
        "sym.symbols('a^{2}+b^{2}=c^2')"
      ],
      "execution_count": 113,
      "outputs": [
        {
          "output_type": "execute_result",
          "data": {
            "image/png": "[encoded data removed]",
            "text/latex": "$\\displaystyle a^{2}+b^{2}=c^2$",
            "text/plain": [
              "a__{2}+b__{2}=c__2"
            ]
          },
          "metadata": {},
          "execution_count": 113
        }
      ]
    },
    {
      "cell_type": "code",
      "metadata": {
        "colab": {
          "base_uri": "https://localhost:8080/",
          "height": 38
        },
        "id": "CQgSx-kOxTzY",
        "outputId": "0009a933-528e-4c42-e28c-27fca98a5e64"
      },
      "source": [
        "sym.symbols('logxy=logx+logy')"
      ],
      "execution_count": 114,
      "outputs": [
        {
          "output_type": "execute_result",
          "data": {
            "image/png": "[encoded data removed]",
            "text/latex": "$\\displaystyle logxy=logx+logy$",
            "text/plain": [
              "logxy=logx+logy"
            ]
          },
          "metadata": {},
          "execution_count": 114
        }
      ]
    },
    {
      "cell_type": "code",
      "metadata": {
        "colab": {
          "base_uri": "https://localhost:8080/",
          "height": 56
        },
        "id": "I2WbRvoTxVxq",
        "outputId": "c9450c24-ab9c-470c-f1eb-c5b855b8e4b2"
      },
      "source": [
        "sym.symbols('\\cfrac{df}{dt}=\\lim_{x→0}=\\cfrac{f(t+h)-f(t)}{h}')"
      ],
      "execution_count": 115,
      "outputs": [
        {
          "output_type": "execute_result",
          "data": {
            "text/latex": "$\\displaystyle \\cfrac{df}{dt}=\\lim_{x→0}=\\cfrac{f(t+h)-f(t)}{h}$",
            "text/plain": [
              "\\cfrac{df}{dt}=\\lim_{x→0}=\\cfrac{f(t+h)-f(t)}{h}"
            ]
          },
          "metadata": {},
          "execution_count": 115
        }
      ]
    },
    {
      "cell_type": "code",
      "metadata": {
        "colab": {
          "base_uri": "https://localhost:8080/",
          "height": 56
        },
        "id": "5pYat4PYxYZ-",
        "outputId": "602b864f-5724-4293-84e4-5126673ffb87"
      },
      "source": [
        "sym.symbols('F=G\\cfrac{m_1m_2}{r^2}')"
      ],
      "execution_count": 116,
      "outputs": [
        {
          "output_type": "execute_result",
          "data": {
            "text/latex": "$\\displaystyle F=G\\cfrac{m_1m_2}{r^2}$",
            "text/plain": [
              "F=G\\cfrac{m_1m_2}{r__2}"
            ]
          },
          "metadata": {},
          "execution_count": 116
        }
      ]
    },
    {
      "cell_type": "code",
      "metadata": {
        "colab": {
          "base_uri": "https://localhost:8080/",
          "height": 38
        },
        "id": "56YmAKCtxYoV",
        "outputId": "4c795a1f-e99b-4b24-b090-2cc1dfd2c1fa"
      },
      "source": [
        "sym.symbols('i^{2}=-1')"
      ],
      "execution_count": 117,
      "outputs": [
        {
          "output_type": "execute_result",
          "data": {
            "image/png": "[encoded data removed]",
            "text/latex": "$\\displaystyle i^{2}=-1$",
            "text/plain": [
              "i__{2}=-1"
            ]
          },
          "metadata": {},
          "execution_count": 117
        }
      ]
    },
    {
      "cell_type": "code",
      "metadata": {
        "colab": {
          "base_uri": "https://localhost:8080/",
          "height": 38
        },
        "id": "mFo2lD8pxZBD",
        "outputId": "3432f31d-8608-4d2a-a657-6687d7ae551a"
      },
      "source": [
        "sym.symbols('V-E+F=2')"
      ],
      "execution_count": 118,
      "outputs": [
        {
          "output_type": "execute_result",
          "data": {
            "image/png": "[encoded data removed]",
            "text/latex": "$\\displaystyle V-E+F=2$",
            "text/plain": [
              "V-E+F=2"
            ]
          },
          "metadata": {},
          "execution_count": 118
        }
      ]
    },
    {
      "cell_type": "code",
      "metadata": {
        "colab": {
          "base_uri": "https://localhost:8080/",
          "height": 80
        },
        "id": "Seleec7lxZSH",
        "outputId": "5ee031e5-692a-4fff-b038-2ea13484ddaf"
      },
      "source": [
        "sym.symbols('\\Phi(x)=\\cfrac{1}{\\sqrt{2\\pi}{\\\\rho}}e^{\\cfrac{(x-{\\mu})^2}{2\\\\rho^2}}')"
      ],
      "execution_count": 119,
      "outputs": [
        {
          "output_type": "execute_result",
          "data": {
            "text/latex": "$\\displaystyle \\Phi(x)=\\cfrac{1}{\\sqrt{2\\pi}{\\rho}}e^{\\cfrac{(x-{\\mu})^2}{2\\rho^2}}$",
            "text/plain": [
              "\\Phi(x)=\\cfrac{1}{\\sqrt{2\\pi}{\\rho}}e__{\\cfrac{(x-{\\mu})__2}{2\\rho__2}}"
            ]
          },
          "metadata": {},
          "execution_count": 119
        }
      ]
    },
    {
      "cell_type": "code",
      "metadata": {
        "colab": {
          "base_uri": "https://localhost:8080/",
          "height": 56
        },
        "id": "hcneSu0dxZ_B",
        "outputId": "2c4f81ad-a8c4-4917-b0ff-30fea593cbfa"
      },
      "source": [
        "sym.symbols('\\cfrac{\\partial^{2}u}{\\partial{t^2}}=c^2\\cfrac{\\partial^{2}u}{\\partial{x^2}}')"
      ],
      "execution_count": 120,
      "outputs": [
        {
          "output_type": "execute_result",
          "data": {
            "text/latex": "$\\displaystyle \\cfrac{\\partial^{2}u}{\\partial{t^2}}=c^2\\cfrac{\\partial^{2}u}{\\partial{x^2}}$",
            "text/plain": [
              "\\cfrac{\\partial__{2}u}{\\partial{t__2}}=c__2\\cfrac{\\partial__{2}u}{\\partial{x__\n",
              "2}}"
            ]
          },
          "metadata": {},
          "execution_count": 120
        }
      ]
    },
    {
      "cell_type": "code",
      "metadata": {
        "colab": {
          "base_uri": "https://localhost:8080/",
          "height": 57
        },
        "id": "ElmYunknxaS-",
        "outputId": "1480ca26-4999-417b-e3c8-dc76ccb5d877"
      },
      "source": [
        "sym.symbols('f(\\omega)={\\int_\\infty^\\infty}f(x)e^{-2{\\pi}ix{\\omega}}dx')"
      ],
      "execution_count": 121,
      "outputs": [
        {
          "output_type": "execute_result",
          "data": {
            "image/png": "[encoded data removed]",
            "text/latex": "$\\displaystyle f(\\omega)={\\int_\\infty^\\infty}f(x)e^{-2{\\pi}ix{\\omega}}dx$",
            "text/plain": [
              "f(\\omega)={\\int_\\infty__\\infty}f(x)e__{-2{\\pi}ix{\\omega}}dx"
            ]
          },
          "metadata": {},
          "execution_count": 121
        }
      ]
    },
    {
      "cell_type": "code",
      "metadata": {
        "colab": {
          "base_uri": "https://localhost:8080/",
          "height": 56
        },
        "id": "85DDs8_wxai2",
        "outputId": "efe463fb-d572-487d-a79f-0cab29e6ebbd"
      },
      "source": [
        "sym.symbols('\\\\rho(\\cfrac{\\partial{v}}{\\partial{t}}+v\\cdot\\\\nabla{v})=-\\\\nabla{p}+\\\\nabla\\cdot{T}+f')"
      ],
      "execution_count": 122,
      "outputs": [
        {
          "output_type": "execute_result",
          "data": {
            "text/latex": "$\\displaystyle \\rho(\\cfrac{\\partial{v}}{\\partial{t}}+v\\cdot\\nabla{v})=-\\nabla{p}+\\nabla\\cdot{T}+f$",
            "text/plain": [
              "\\rho(\\cfrac{\\partial{v}}{\\partial{t}}+v\\cdot\\nabla{v})=-\\nabla{p}+\\nabla\\cdot{\n",
              "T}+f"
            ]
          },
          "metadata": {},
          "execution_count": 122
        }
      ]
    },
    {
      "cell_type": "code",
      "metadata": {
        "colab": {
          "base_uri": "https://localhost:8080/",
          "height": 38
        },
        "id": "ysviFXiNxaxX",
        "outputId": "77af7b52-02c5-46f4-ef13-494470db2bf8"
      },
      "source": [
        "sym.symbols('\\\\nabla\\cdot{E}=0\\qquad\\\\nabla\\cdot{H}=0')"
      ],
      "execution_count": 123,
      "outputs": [
        {
          "output_type": "execute_result",
          "data": {
            "image/png": "[encoded data removed]",
            "text/latex": "$\\displaystyle \\nabla\\cdot{E}=0\\qquad\\nabla\\cdot{H}=0$",
            "text/plain": [
              "\\nabla\\cdot{E}=0\\qquad\\nabla\\cdot{H}=0"
            ]
          },
          "metadata": {},
          "execution_count": 123
        }
      ]
    },
    {
      "cell_type": "code",
      "metadata": {
        "colab": {
          "base_uri": "https://localhost:8080/",
          "height": 56
        },
        "id": "GfJRoSFkxbsb",
        "outputId": "50036952-63a6-4666-b4eb-a1b5a8f51d78"
      },
      "source": [
        "sym.symbols('\\\\nabla\\\\times{E}=-\\cfrac{1}{c}\\cfrac{\\partial{H}}{\\partial{t}}\\qquad\\\\nabla\\\\times{H}=\\cfrac{1}{c}\\cfrac{\\partial{E}}{\\partial{t}}')"
      ],
      "execution_count": 124,
      "outputs": [
        {
          "output_type": "execute_result",
          "data": {
            "text/latex": "$\\displaystyle \\nabla\\times{E}=-\\cfrac{1}{c}\\cfrac{\\partial{H}}{\\partial{t}}\\qquad\\nabla\\times{H}=\\cfrac{1}{c}\\cfrac{\\partial{E}}{\\partial{t}}$",
            "text/plain": [
              "\\nabla\\times{E}=-\\cfrac{1}{c}\\cfrac{\\partial{H}}{\\partial{t}}\\qquad\\nabla\\time\n",
              "s{H}=\\cfrac{1}{c}\\cfrac{\\partial{E}}{\\partial{t}}"
            ]
          },
          "metadata": {},
          "execution_count": 124
        }
      ]
    },
    {
      "cell_type": "code",
      "metadata": {
        "colab": {
          "base_uri": "https://localhost:8080/",
          "height": 38
        },
        "id": "9X58k0-yxb8s",
        "outputId": "199ecad4-d895-4e23-e52a-aaea69a60348"
      },
      "source": [
        "sym.symbols('dS\\geq0')"
      ],
      "execution_count": 125,
      "outputs": [
        {
          "output_type": "execute_result",
          "data": {
            "image/png": "[encoded data removed]",
            "text/latex": "$\\displaystyle dS\\geq0$",
            "text/plain": [
              "dS\\geq0"
            ]
          },
          "metadata": {},
          "execution_count": 125
        }
      ]
    },
    {
      "cell_type": "code",
      "metadata": {
        "colab": {
          "base_uri": "https://localhost:8080/",
          "height": 38
        },
        "id": "gK7fhFc7xcMd",
        "outputId": "3888e679-8099-464a-b940-20e4c13a257a"
      },
      "source": [
        "sym.symbols('E=mc^2')"
      ],
      "execution_count": 126,
      "outputs": [
        {
          "output_type": "execute_result",
          "data": {
            "image/png": "[encoded data removed]",
            "text/latex": "$\\displaystyle E=mc^{2}$",
            "text/plain": [
              "E=mc²"
            ]
          },
          "metadata": {},
          "execution_count": 126
        }
      ]
    },
    {
      "cell_type": "code",
      "metadata": {
        "colab": {
          "base_uri": "https://localhost:8080/",
          "height": 56
        },
        "id": "Tp0NSnHWxcbp",
        "outputId": "610f1934-60b4-47d6-a7cf-44916f96abd1"
      },
      "source": [
        "sym.symbols('ih\\cfrac{\\partial}{\\partial{t}}\\Psi=H\\Psi')"
      ],
      "execution_count": 127,
      "outputs": [
        {
          "output_type": "execute_result",
          "data": {
            "text/latex": "$\\displaystyle ih\\cfrac{\\partial}{\\partial{t}}\\Psi=H\\Psi$",
            "text/plain": [
              "ih\\cfrac{\\partial}{\\partial{t}}\\Psi=H\\Psi"
            ]
          },
          "metadata": {},
          "execution_count": 127
        }
      ]
    },
    {
      "cell_type": "code",
      "metadata": {
        "colab": {
          "base_uri": "https://localhost:8080/",
          "height": 44
        },
        "id": "S0fl6Icgxcqh",
        "outputId": "14d65381-5f3d-41a7-d417-cc191ead0585"
      },
      "source": [
        "sym.symbols('H=-\\sum{p(x)\\log{p(x)}}')"
      ],
      "execution_count": 128,
      "outputs": [
        {
          "output_type": "execute_result",
          "data": {
            "image/png": "[encoded data removed]",
            "text/latex": "$\\displaystyle H=-\\sum{p(x)\\log{p(x)}}$",
            "text/plain": [
              "H=-\\sum{p(x)\\log{p(x)}}"
            ]
          },
          "metadata": {},
          "execution_count": 128
        }
      ]
    },
    {
      "cell_type": "code",
      "metadata": {
        "colab": {
          "base_uri": "https://localhost:8080/",
          "height": 38
        },
        "id": "ucLZxOXJxyMo",
        "outputId": "5773f195-693a-49e9-b0c6-dc86af4eed13"
      },
      "source": [
        "sym.symbols('x_{t+1}=kx_{t}(1-x_t)')"
      ],
      "execution_count": 129,
      "outputs": [
        {
          "output_type": "execute_result",
          "data": {
            "image/png": "[encoded data removed]",
            "text/latex": "$\\displaystyle x_{t+1}=kx_{t}(1-x_t)$",
            "text/plain": [
              "x_{t+1}=kx_{t}(1-x_t)"
            ]
          },
          "metadata": {},
          "execution_count": 129
        }
      ]
    },
    {
      "cell_type": "code",
      "metadata": {
        "colab": {
          "base_uri": "https://localhost:8080/",
          "height": 56
        },
        "id": "Ufk31Zoqx1r3",
        "outputId": "54956cbe-018a-439c-bb2e-27d538a96522"
      },
      "source": [
        "sym.symbols('{\\\\frac12}\\sigma^{2}S^{2}\\cfrac{\\partial^{2}V}{\\partial{S^2}}+rS\\cfrac{\\partial{V}}{\\partial{S}}+\\cfrac{\\partial{V}}{\\partial{S}}+\\cfrac{\\partial{V}}{\\partial{t}}-rV=0')"
      ],
      "execution_count": 130,
      "outputs": [
        {
          "output_type": "execute_result",
          "data": {
            "text/latex": "$\\displaystyle {\\frac12}\\sigma^{2}S^{2}\\cfrac{\\partial^{2}V}{\\partial{S^2}}+rS\\cfrac{\\partial{V}}{\\partial{S}}+\\cfrac{\\partial{V}}{\\partial{S}}+\\cfrac{\\partial{V}}{\\partial{t}}-rV=0$",
            "text/plain": [
              "{\\frac12}\\sigma__{2}S__{2}\\cfrac{\\partial__{2}V}{\\partial{S__2}}+rS\\cfrac{\\par\n",
              "tial{V}}{\\partial{S}}+\\cfrac{\\partial{V}}{\\partial{S}}+\\cfrac{\\partial{V}}{\\pa\n",
              "rtial{t}}-rV=0"
            ]
          },
          "metadata": {},
          "execution_count": 130
        }
      ]
    }
  ]
}