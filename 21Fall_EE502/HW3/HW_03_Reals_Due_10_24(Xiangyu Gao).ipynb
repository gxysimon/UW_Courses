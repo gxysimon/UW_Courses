{
  "nbformat": 4,
  "nbformat_minor": 0,
  "metadata": {
    "kernelspec": {
      "display_name": "Python 3",
      "language": "python",
      "name": "python3"
    },
    "language_info": {
      "codemirror_mode": {
        "name": "ipython",
        "version": 3
      },
      "file_extension": ".py",
      "mimetype": "text/x-python",
      "name": "python",
      "nbconvert_exporter": "python",
      "pygments_lexer": "ipython3",
      "version": "3.8.5"
    },
    "colab": {
      "name": "HW_03_Reals_Due_10_24.ipynb",
      "provenance": [],
      "collapsed_sections": []
    }
  },
  "cells": [
    {
      "cell_type": "markdown",
      "metadata": {
        "ExecuteTime": {
          "end_time": "2019-09-24T16:05:23.746666Z",
          "start_time": "2019-09-24T16:05:23.741461Z"
        },
        "id": "30ghdMFu0_ZD"
      },
      "source": [
        "## EE 502 P: Analytical Methods for Electrical Engineering\n",
        "    \n",
        "# Homework 3: Real Analysis\n",
        "## Due October 24, 2021 by 11:59 PM\n",
        "### <span style=\"color: red\">Xiangyu Gao</span>\n",
        "\n",
        "Copyright &copy; 2021, University of Washington\n",
        "\n",
        "<hr>\n",
        "\n",
        "**Instructions**: Please use this notebook as a template. Answer all questions using well formatted Markdown with embedded LaTeX equations, executable Jupyter cells, or both. Submit your homework solutions as an `.ipynb` file via Canvas.\n",
        "\n",
        "<span style=\"color: red'\">\n",
        "Although you may discuss the homework with others, you must turn in your own, original work.\n",
        "</span>\n",
        "\n",
        "**Things to remember:**\n",
        "- Use complete sentences. Equations should appear in text as grammatical elements.\n",
        "- Comment your code.\n",
        "- Label your axes. Title your plots. Use legends where appropriate. \n",
        "- Before submitting a notebook, choose Kernel -> Restart and Run All to make sure your notebook runs when the cells are evaluated in order. \n",
        "\n",
        "Note : Late homework will be accepted up to one week after the due date. The grading penalty is 10% of the grade that you would otherwise receive for each day, or part of the day, that you are late. "
      ]
    },
    {
      "cell_type": "markdown",
      "metadata": {
        "id": "V2BAlMbS0_ZJ"
      },
      "source": [
        "### 0. Warmup (Do not turn in)\n",
        "\n",
        "- Make sure you download, read, and run the notebook for lecture 3. Work through the notebook cell by cell and see what happens when you change the expressions, and make up some of your own.\n",
        "- The material covered in class is intended to be an introductory subset the general subject of Real Analysis, for example covered in the book [An Introduction to Real Analysis](https://www.math.ucdavis.edu/~hunter/intro_analysis_pdf/intro_analysis.html). You do not need to read all of this book (although doing so would be great), but you should at least read the following sections.\n",
        "  - [Chapter 3](https://www.math.ucdavis.edu/~hunter/intro_analysis_pdf/ch3.pdf), Sections 3.2, 3.3, and 3.4. You can skip the proofs if you want to. \n",
        "  - [Chapter 6](https://www.math.ucdavis.edu/~hunter/intro_analysis_pdf/ch6.pdf), Sections 6.1 and 6.3.\n",
        "  - [Chapter 7](https://www.math.ucdavis.edu/~hunter/intro_analysis_pdf/ch7.pdf), Sections 7.1, 7.2, and 7.6.\n",
        "  - [Chapter 8](https://www.math.ucdavis.edu/~hunter/intro_analysis_pdf/ch8.pdf), Sections 8.1, 8.2, 8.3, 8.5, 8.6, and 8.8.\n",
        "  - [Chapter 11](https://www.math.ucdavis.edu/~hunter/intro_analysis_pdf/ch8.pdf), Sections 11.1, 11.2, and 11.5.\n",
        "  \n",
        "  \n",
        "-  <span style=\"color: #F5793A;\">**Warning:** My notes attempt to make sure no concepts require other concepts that were not yet covered. However, if you just skim the above, you will likely encounter definitions that use other definitions in sections I did not suggest you read.</span>\n",
        "- If the textbook above is not clear to you, you might try looking at alternative textbooks, such as the [one by Jiri Lebl](https://www.jirka.org/ra/realanal.pdf).\n",
        "- If you would like to buy a textbook on real analysis, here are a few:\n",
        "  - [Rudin](https://www.amazon.com/Principles-Mathematical-Analysis-International-Mathematics/dp/007054235X). Very concise. \n",
        "  - [Strichartz](https://www.amazon.com/Analysis-Revised-Jones-Bartlett-Mathematics/dp/0763714976/ref=sr_1_1?keywords=Strichartz%27s+book+%22The+way+of+analysis&qid=1570552954&s=books&sr=1-1). Gentler.\n",
        "  - [Kolmogorov](https://www.amazon.com/Introductory-Analysis-Dover-Books-Mathematics/dp/0486612260/ref=sr_1_1?keywords=Kolmogorov+real+analysis&qid=1570553008&s=books&sr=1-1). A classic!\n",
        "  "
      ]
    },
    {
      "cell_type": "markdown",
      "metadata": {
        "ExecuteTime": {
          "end_time": "2019-10-08T16:48:02.889303Z",
          "start_time": "2019-10-08T16:48:02.885366Z"
        },
        "id": "PMMAGzyj0_ZL"
      },
      "source": [
        "### 1. Sequences\n",
        "\n",
        "For each of the patterns below, define a formula for $n$-th term $x_n$ of the sequence. Then, plot the first 20 terms of the sequences. Combine all three plots into a figure using the subplot command. Label everything.\n",
        "\n",
        "a) 4, 8, 12, 16,...\n",
        "\n",
        "b) 1, 6, 11, 16, 21, ...\n",
        "\n",
        "c) 1/2, 2/3, 3/4, 4/5, ...\n",
        "\n",
        "d) 1/2, -1/4, 1/8, -1/16, ...\n",
        "\n",
        "e) 1, 1, 2, 3, 5, 8, ..\n",
        "\n"
      ]
    },
    {
      "cell_type": "code",
      "metadata": {
        "colab": {
          "base_uri": "https://localhost:8080/",
          "height": 518
        },
        "id": "mmw2IpZ8W-WZ",
        "outputId": "368cd0f5-5a39-4044-92c8-b2653d92b1e2"
      },
      "source": [
        "import matplotlib.pyplot as plt\n",
        "\n",
        "A=[]\n",
        "B=[]\n",
        "C=[]\n",
        "D=[]\n",
        "E=[]\n",
        "X=[]\n",
        "for i in range(21):\n",
        "  y=4*i\n",
        "  A.append(y)\n",
        "  X.append(i)\n",
        "for i in range(21):\n",
        "  y=5*i-4\n",
        "  B.append(y)\n",
        "for i in range(21):\n",
        "  y=i/(i+1)\n",
        "  C.append(y)\n",
        "for i in range(21):\n",
        "  y=(-1/2)**i\n",
        "  D.append(y)\n",
        "for i in range(21):\n",
        "  y=(1/(5**0.5))*((((1+5**0.5)/2)**i)-(((1-5**0.5)/2)**i))\n",
        "  E.append(y)\n",
        "\n",
        "plt.subplot(2,3,1)\n",
        "plt.plot(X,A)\n",
        "plt.subplot(2,3,2)\n",
        "plt.plot(X,B)\n",
        "plt.subplot(2,3,3)\n",
        "plt.plot(X,C)\n",
        "plt.subplot(2,3,4)\n",
        "plt.plot(X,D)\n",
        "plt.subplot(2,3,5)\n",
        "plt.plot(X,E)\n",
        "plt.show()\n",
        "\n",
        "plt.plot(X,A)\n",
        "plt.plot(X,B)\n",
        "plt.plot(X,C)\n",
        "plt.plot(X,D)\n",
        "plt.plot(X,E)\n",
        "plt.show()"
      ],
      "execution_count": null,
      "outputs": [
        {
          "output_type": "display_data",
          "data": {
            "image/png": "[encoded data removed]",
            "text/plain": [
              "<Figure size 432x288 with 5 Axes>"
            ]
          },
          "metadata": {
            "needs_background": "light"
          }
        },
        {
          "output_type": "display_data",
          "data": {
            "image/png": "[encoded data removed]",
            "text/plain": [
              "<Figure size 432x288 with 1 Axes>"
            ]
          },
          "metadata": {
            "needs_background": "light"
          }
        }
      ]
    },
    {
      "cell_type": "markdown",
      "metadata": {
        "id": "6jSSV2MA0_ZM"
      },
      "source": [
        "### 2. Sequence Convergence\n",
        "\n",
        "Show that the following sequences have the given limits using either an $\\varepsilon-\\delta$ argument, or an appropriate theorem from the lecture notes. \n",
        "\n",
        "a) $\\lim \\frac{3n+1}{2n+5} = \\frac{3}{2}$\n",
        "\n",
        "b) $\\lim \\frac{2n}{n+2} = 2$\n",
        "\n",
        "c) $\\lim\\left(\\frac{1}{n} - \\frac{1}{n+1} \\right) = 0$\n",
        "\n",
        "d) $\\lim \\frac{n + 5}{n^{2}} = 0$\n",
        "\n",
        "e) $\\lim \\left(\\frac{1}{3n}\\right)^{2} = 0$"
      ]
    },
    {
      "cell_type": "markdown",
      "metadata": {
        "id": "WFXf36dyWngU"
      },
      "source": [
        "a)$\\because |\\frac{3n+1}{2n+5}-\\frac{3}{2}| = |\\frac{-13}{2(2n+5)}|$\\\n",
        "if $|\\frac{3n+1}{2n+5}-\\frac{3}{2}|<\\epsilon$\\\n",
        "then $|\\frac{-13}{2(2n+5)}|<\\epsilon$\\\n",
        "then $|n|>\\frac{13}{4\\epsilon}-\\frac{5}{2}$\\\n",
        "$\\therefore \\forall \\epsilon >0$\\\n",
        "let $ X=\\frac{13}{4\\epsilon}-\\frac{5}{2}$\\\n",
        "if $|n|>X$\\\n",
        "we can conclude $|\\frac{3n+1}{2n+5}-\\frac{3}{2}|<\\epsilon$\\\n",
        "$\\therefore \\lim \\frac{3n+1}{2n+5} = \\frac{3}{2}$\n"
      ]
    },
    {
      "cell_type": "markdown",
      "metadata": {
        "id": "c3AT2XXXZEXj"
      },
      "source": [
        "b)$\\because |\\frac{2n}{n+2}-2| = |\\frac{-4}{n+2}|$\\\n",
        "if $|\\frac{2n}{n+2}-2|<\\epsilon$\\\n",
        "then $|\\frac{-4}{n+2}|<\\epsilon$\\\n",
        "then $|n|>\\frac{4}{\\epsilon}-{2}$\\\n",
        "$\\therefore \\forall \\epsilon >0$\\\n",
        "let $ X=\\frac{4}{\\epsilon}-{2}$\\\n",
        "if $|n|>X$\\\n",
        "we can conclude $|\\frac{2n}{n+2}-2|<\\epsilon$\\\n",
        "$\\therefore  \\lim \\frac{2n}{n+2} = 2$"
      ]
    },
    {
      "cell_type": "markdown",
      "metadata": {
        "id": "RHZWGLMNakur"
      },
      "source": [
        "d)$\\because |(\\frac{n+5}{n}-\\frac{1}{n+1})-0| = |\\frac{1}{n^2+n}|$\\\n",
        "if $|(\\frac{1}{n}-\\frac{1}{n+1})-0|<\\epsilon$\\\n",
        "then $|n(n+1)|>\\frac{1}{\\epsilon}$\\\n",
        "$\\because |n(n+1)|>|n^2|$\\\n",
        "then $|n|>\\frac{1}{\\sqrt{\\epsilon}}$\\\n",
        "$\\therefore \\forall \\epsilon >0$\\\n",
        "let $ X={\\sqrt{\\epsilon}}$\\\n",
        "if $|n|>X$\\\n",
        "we can conclude $|(\\frac{1}{n}-\\frac{1}{n+1})-0|<\\epsilon$\\\n",
        "$\\therefore  \\lim\\left(\\frac{1}{n} - \\frac{1}{n+1} \\right) = 0$"
      ]
    },
    {
      "cell_type": "markdown",
      "metadata": {
        "id": "CadX6A69c6Vd"
      },
      "source": [
        "d)$\\because |\\frac{n+5}{n^2}-0| < |\\frac{6n}{n^2}-0|$\\\n",
        "if $|\\frac{6n}{n^2}-0|<\\epsilon$\\\n",
        "then $|\\frac{6}{n}|<\\epsilon$\\\n",
        "then $|n|>\\frac{6}{\\epsilon}$\\\n",
        "$\\therefore \\forall \\epsilon >0$\\\n",
        "let $ X=\\frac{6}{\\epsilon}$\\\n",
        "if $|n|>X$\\\n",
        "we can conclude $|\\frac{n+5}{n^2}-0|<\\epsilon$\\\n",
        "$\\therefore  \\lim \\frac{n + 5}{n^{2}} = 0$"
      ]
    },
    {
      "cell_type": "markdown",
      "metadata": {
        "id": "WPRKDjaqgHaq"
      },
      "source": [
        "e)$\\because |(\\frac{1}{3n})^2-0| = |\\frac{1}{9n^2}|$\\\n",
        "if $|(\\frac{1}{3n})^2-0|<\\epsilon$\\\n",
        "then $|\\frac{1}{9n^2}|<\\epsilon$\\\n",
        "then $|n|>\\frac{1}{3\\sqrt{\\epsilon}}$\\\n",
        "$\\therefore \\forall \\epsilon >0$\\\n",
        "let $ X=\\frac{1}{3\\sqrt{\\epsilon}}$\\\n",
        "if $|n|>X$\\\n",
        "we can conclude $|(\\frac{1}{3n})^2-0|<\\epsilon$\\\n",
        "$\\therefore  \\lim \\left(\\frac{1}{3n}\\right)^{2} = 0$"
      ]
    },
    {
      "cell_type": "markdown",
      "metadata": {
        "id": "1m1Xzh550_ZN"
      },
      "source": [
        "### 3. Proving non-convergence\n",
        "\n",
        "Show that the sequence $(x_n)$ where $x_n = (-1)^n$ does not converge to any number $c$. Use the definition of a limit for sequences. Given $\\varepsilon > 0$, you have to show that there does not exist an $m$ such that for all $n>m$ such that $c-\\varepsilon < x_n < c+\\varepsilon$. "
      ]
    },
    {
      "cell_type": "markdown",
      "metadata": {
        "id": "CkTVKPuOEi5k"
      },
      "source": [
        "we can proof by contradiction.\n",
        "Let's say the limit of this sequence is A,that $\\lim_{n \\to \\infty}(-1)^n=A$\\\n",
        "for $\\forall >0,\\exists N\\in N+$\\\n",
        "when $n>N$,we have $|(-1)^n-A|<\\epsilon$\\\n",
        "$\\because |(-1)^n|-|A|\\le|(-1)^n-A|<\\epsilon$\\\n",
        "$\\therefore |(-1)^n|<|A|+\\epsilon$\\\n",
        "if $n$ is an even number: $1<|A|+\\epsilon$\\\n",
        "if $n$ is an odd number: $-1<|A|+\\epsilon$\n",
        "\n",
        "The establishment of the above two equations has nothing to do with N, that is: no matter what value N takes, the above two equations must be true!\n",
        "\n",
        "\n"
      ]
    },
    {
      "cell_type": "markdown",
      "metadata": {
        "id": "kbE38rlA0_ZO"
      },
      "source": [
        "### 4. Sequences via recurrence relations\n",
        "\n",
        "Let $x_0 = 1$ and $x_{i+1} = - a x_i$ where $0 < a < 1$.\n",
        "\n",
        "a) Plot the first 20 points in $(x_n)$ when $a=\\frac{1}{2}$. \n",
        "\n",
        "b) Show that $(x_n)$ converges to 0. "
      ]
    },
    {
      "cell_type": "code",
      "metadata": {
        "colab": {
          "base_uri": "https://localhost:8080/",
          "height": 282
        },
        "id": "uXtv6rO3E7gK",
        "outputId": "525295e9-49f8-4f01-8b61-49938c058a5f"
      },
      "source": [
        "import numpy as np\n",
        "import matplotlib as mpl\n",
        "import matplotlib.pyplot as plt\n",
        "\n",
        "L=[]\n",
        "x=1\n",
        "q=0.5\n",
        "for i in range(20):\n",
        "  y=((-q)**i)*x\n",
        "  L.append(y)\n",
        "my_x_ticks=np.arange(0,len(L))\n",
        "plt.xticks(my_x_ticks)\n",
        "plt.plot(np.arange(len(L)),L)"
      ],
      "execution_count": null,
      "outputs": [
        {
          "output_type": "execute_result",
          "data": {
            "text/plain": [
              "[<matplotlib.lines.Line2D at 0x7fc62f1e6a50>]"
            ]
          },
          "metadata": {},
          "execution_count": 7
        },
        {
          "output_type": "display_data",
          "data": {
            "image/png": "[encoded data removed]",
            "text/plain": [
              "<Figure size 432x288 with 1 Axes>"
            ]
          },
          "metadata": {
            "needs_background": "light"
          }
        }
      ]
    },
    {
      "cell_type": "markdown",
      "metadata": {
        "id": "qWkhDwtSAL9F"
      },
      "source": [
        "b)when $n>0$\\\n",
        "then we conclude\\\n",
        "$\\because 0<a<1<n$\\\n",
        "$\\therefore -1<(-a)^n<1<n$\\\n",
        "$\\therefore |(-a)^n-0|\\le \\epsilon$\\\n",
        "$\\therefore$ use the theorem with $ C=1,m=1,$\\\n",
        "we can conclude that $(x_n)$converges to 0"
      ]
    },
    {
      "cell_type": "markdown",
      "metadata": {
        "id": "WE1pphAK0_ZO"
      },
      "source": [
        " ### 5. Sequences via recurrence relations - 2\n",
        "\n",
        "Let $x_0 = 1$ and $x_{i+1} = - a x_i + \\frac{1}{5}$ where $0 < a < 1$.\n",
        "\n",
        "a) Plot the first 20 points in $(x_n)$ when $a=\\frac{1}{3}$. \n",
        "\n",
        "b) Show that $(x_n)$ converges to 0. "
      ]
    },
    {
      "cell_type": "code",
      "metadata": {
        "colab": {
          "base_uri": "https://localhost:8080/",
          "height": 618
        },
        "id": "nwz7Lchc83lA",
        "outputId": "df6ac7a8-204d-4511-cc38-a06b89102d3a"
      },
      "source": [
        "import numpy as np\n",
        "import matplotlib as mpl\n",
        "import matplotlib.pyplot as plt\n",
        "\n",
        "x=[1]\n",
        "a=1/3\n",
        "for i in range(20):\n",
        "  M=-a*x[i]+(1/5)\n",
        "#  y=((-q)**i)*xM\n",
        "  x.append(M)\n",
        "my_x_ticks=np.arange(0,len(x))\n",
        "plt.xticks(my_x_ticks)\n",
        "plt.plot(np.arange(len(x)),x)\n",
        "x"
      ],
      "execution_count": null,
      "outputs": [
        {
          "output_type": "execute_result",
          "data": {
            "text/plain": [
              "[1,\n",
              " -0.1333333333333333,\n",
              " 0.24444444444444444,\n",
              " 0.11851851851851854,\n",
              " 0.16049382716049382,\n",
              " 0.14650205761316876,\n",
              " 0.15116598079561044,\n",
              " 0.14961133973479654,\n",
              " 0.1501295534217345,\n",
              " 0.14995681552608853,\n",
              " 0.1500143948246372,\n",
              " 0.14999520172512096,\n",
              " 0.1500015994249597,\n",
              " 0.14999946685834678,\n",
              " 0.1500001777138844,\n",
              " 0.14999994076203854,\n",
              " 0.15000001974598717,\n",
              " 0.1499999934180043,\n",
              " 0.1500000021939986,\n",
              " 0.14999999926866714,\n",
              " 0.15000000024377763]"
            ]
          },
          "metadata": {},
          "execution_count": 14
        },
        {
          "output_type": "display_data",
          "data": {
            "image/png": "[encoded data removed]",
            "text/plain": [
              "<Figure size 432x288 with 1 Axes>"
            ]
          },
          "metadata": {
            "needs_background": "light"
          }
        }
      ]
    },
    {
      "cell_type": "markdown",
      "metadata": {
        "id": "AWAnCCg4BnmW"
      },
      "source": [
        "b)From the question \n",
        "we can conclude that $x_n=(-a)^n+\\frac{1-(-a)^n}{5(1+a)}$\\\n",
        "$\\therefore \\lim_{n \\to \\infty} [(-a)^n+\\frac{1-(-a)^n}{5(1+a)}]$\\\n",
        "$=\\lim_{n \\to \\infty} \\frac{(5a+4)(-a)^n+1}{5+5a}$\\\n",
        "$=\\frac{1}{5+5a}$\\\n",
        "I think the limit of this sequence $(x_n)$ is going to depend on $a$,\\\n",
        "because what this shows is a function of $a$\\\n",
        "If $a=\\frac{1}{3}$,the result is same as the question (a).\\\n",
        "But if $a$ equals something else, the result would be changed.\\\n",
        "So 0 is a result, but not the only result.\n"
      ]
    },
    {
      "cell_type": "markdown",
      "metadata": {
        "id": "RcKqkuqe0_ZP"
      },
      "source": [
        " ### 6. Sequences via recurrence relations - 3\n",
        "\n",
        "Let $x_0 = 1$ and $x_{i+1} = - a x_i$ where $0 < a \\leq 1$.\n",
        "\n",
        "a) Plot the first 20 points in $(x_n)$ when $a=1$. \n",
        "\n",
        "b) What happens with the convergance of the given sequences $(x_n)$?"
      ]
    },
    {
      "cell_type": "markdown",
      "metadata": {
        "id": "9KWEtQnZDS9d"
      },
      "source": [
        "a)"
      ]
    },
    {
      "cell_type": "code",
      "metadata": {
        "colab": {
          "base_uri": "https://localhost:8080/",
          "height": 282
        },
        "id": "Cpl_V69ZB_fy",
        "outputId": "570c1dfa-fc33-42da-bb27-77b0ae5af446"
      },
      "source": [
        "import numpy as np\n",
        "import matplotlib as mpl\n",
        "import matplotlib.pyplot as plt\n",
        "\n",
        "x=[1]\n",
        "a=1\n",
        "for i in range(20):\n",
        "  M=-a*x[i]\n",
        "#  y=((-q)**i)*xM\n",
        "  x.append(M)\n",
        "my_x_ticks=np.arange(0,len(x))\n",
        "plt.xticks(my_x_ticks)\n",
        "plt.plot(np.arange(len(x)),x)\n",
        "x"
      ],
      "execution_count": null,
      "outputs": [
        {
          "output_type": "execute_result",
          "data": {
            "text/plain": [
              "[1, -1, 1, -1, 1, -1, 1, -1, 1, -1, 1, -1, 1, -1, 1, -1, 1, -1, 1, -1, 1]"
            ]
          },
          "metadata": {},
          "execution_count": 15
        },
        {
          "output_type": "display_data",
          "data": {
            "image/png": "[encoded data removed]",
            "text/plain": [
              "<Figure size 432x288 with 1 Axes>"
            ]
          },
          "metadata": {
            "needs_background": "light"
          }
        }
      ]
    },
    {
      "cell_type": "markdown",
      "metadata": {
        "id": "s4X2kBlKDSG_"
      },
      "source": [
        "b)\n",
        "$(x_n)$ non-convergance"
      ]
    },
    {
      "cell_type": "markdown",
      "metadata": {
        "id": "osmdLJqv0_ZP"
      },
      "source": [
        " ### 7. Sequences via recurrence relations - 7\n",
        "\n",
        "Let $x_0 = 1$ and $x_{i+1} = a x_i$ where $a \\geq 1$.\n",
        "\n",
        "a) Plot the first 20 points in $(x_n)$ when $a= \\frac{3}{2}$. \n",
        "\n",
        "b) What happens with the convergance of the given sequences $(x_n)$?"
      ]
    },
    {
      "cell_type": "markdown",
      "metadata": {
        "id": "cKQKRBnZCYoG"
      },
      "source": [
        "a) "
      ]
    },
    {
      "cell_type": "code",
      "metadata": {
        "colab": {
          "base_uri": "https://localhost:8080/",
          "height": 618
        },
        "id": "GIO04L22CKcF",
        "outputId": "e1c70bad-4ab2-4fed-fd95-aba363a708d8"
      },
      "source": [
        "import numpy as np\n",
        "import matplotlib as mpl\n",
        "import matplotlib.pyplot as plt\n",
        "\n",
        "x=[1]\n",
        "a=3/2\n",
        "for i in range(20):\n",
        "  M=a*x[i]\n",
        "#  y=((-q)**i)*xM\n",
        "  x.append(M)\n",
        "my_x_ticks=np.arange(0,len(x))\n",
        "plt.xticks(my_x_ticks)\n",
        "plt.plot(np.arange(len(x)),x)\n",
        "x"
      ],
      "execution_count": null,
      "outputs": [
        {
          "output_type": "execute_result",
          "data": {
            "text/plain": [
              "[1,\n",
              " 1.5,\n",
              " 2.25,\n",
              " 3.375,\n",
              " 5.0625,\n",
              " 7.59375,\n",
              " 11.390625,\n",
              " 17.0859375,\n",
              " 25.62890625,\n",
              " 38.443359375,\n",
              " 57.6650390625,\n",
              " 86.49755859375,\n",
              " 129.746337890625,\n",
              " 194.6195068359375,\n",
              " 291.92926025390625,\n",
              " 437.8938903808594,\n",
              " 656.8408355712891,\n",
              " 985.2612533569336,\n",
              " 1477.8918800354004,\n",
              " 2216.8378200531006,\n",
              " 3325.256730079651]"
            ]
          },
          "metadata": {},
          "execution_count": 16
        },
        {
          "output_type": "display_data",
          "data": {
            "image/png": "[encoded data removed]",
            "text/plain": [
              "<Figure size 432x288 with 1 Axes>"
            ]
          },
          "metadata": {
            "needs_background": "light"
          }
        }
      ]
    },
    {
      "cell_type": "markdown",
      "metadata": {
        "id": "TVNFfFyCCcLD"
      },
      "source": [
        "b)\n",
        "$(x_n)$ non-convergance"
      ]
    },
    {
      "cell_type": "markdown",
      "metadata": {
        "id": "E1aectJW0_ZP"
      },
      "source": [
        "### 8. Definition of Derivative\n",
        "\n",
        "Use the definition of the derivative to find the derivatives of the following functions.\n",
        "\n",
        "a) $f(x) = x^3$, for any $x$\n",
        "\n",
        "b) $g(x) = 1/x$, for $x \\neq 0$\n",
        "\n",
        "c) $h(x) = \\sqrt{x}$, for $x > 0$\n",
        "\n",
        "d) $k(x) = x^{-1/2}$ for $x > 0$."
      ]
    },
    {
      "cell_type": "markdown",
      "metadata": {
        "id": "fftnb1zyYG4o"
      },
      "source": [
        "a)$\\Delta y=(x+\\Delta x)^3-x^3=(x+\\Delta x-x)[(x+\\Delta x)^2+x(x+\\Delta x)+x^2]=\\Delta x[3x^2+3x\\Delta x+\\Delta x^2] $\\\n",
        "$\\therefore \\lim_{\\Delta x\\to 0}\\frac{\\Delta y}{\\Delta x}=\\lim_{\\Delta x\\to 0}(3x^2+3x\\Delta x+\\Delta x^2)$\n",
        "$=3x^2$"
      ]
    },
    {
      "cell_type": "code",
      "metadata": {
        "colab": {
          "base_uri": "https://localhost:8080/",
          "height": 38
        },
        "id": "O56DCfx3CZ22",
        "outputId": "d7072eb6-83ad-479f-9dd4-99294a2fd9d6"
      },
      "source": [
        "import sympy as sy\n",
        "\n",
        "x=sy.Symbol('x')\n",
        "f=x**3\n",
        "s=sy.diff(f,x)\n",
        "simplify(s)"
      ],
      "execution_count": null,
      "outputs": [
        {
          "output_type": "execute_result",
          "data": {
            "text/latex": "$\\displaystyle 3 x^{2}$",
            "text/plain": [
              "3*x**2"
            ]
          },
          "metadata": {},
          "execution_count": 17
        }
      ]
    },
    {
      "cell_type": "markdown",
      "metadata": {
        "id": "hV-RH1-MbK0f"
      },
      "source": [
        "b)$g'(x)=\\lim_{\\Delta x \\to 0}(\\frac{\\frac{1}{x+\\Delta x}-\\frac{1}{x}}{\\Delta x})$\\\n",
        "$=\\lim_{\\Delta x \\to 0}\\frac{\\frac{x-x-\\Delta x}{x(x+\\Delta x)}}{\\Delta x}$\\\n",
        "$=-\\frac{1}{x^2}$"
      ]
    },
    {
      "cell_type": "code",
      "metadata": {
        "colab": {
          "base_uri": "https://localhost:8080/",
          "height": 51
        },
        "id": "N2INOfdiCy3F",
        "outputId": "31ecd84a-3de8-499f-8e4c-c4ed53387154"
      },
      "source": [
        "import sympy as sy\n",
        "\n",
        "x=sy.Symbol('x')\n",
        "f=x**(-1)\n",
        "s=sy.diff(f,x)\n",
        "simplify(s)"
      ],
      "execution_count": null,
      "outputs": [
        {
          "output_type": "execute_result",
          "data": {
            "text/latex": "$\\displaystyle - \\frac{1}{x^{2}}$",
            "text/plain": [
              "-1/x**2"
            ]
          },
          "metadata": {},
          "execution_count": 16
        }
      ]
    },
    {
      "cell_type": "markdown",
      "metadata": {
        "id": "C14GKiyOc4PH"
      },
      "source": [
        "c)$\\lim_{\\Delta x \\to 0}\\frac{\\sqrt{x+\\Delta x}-\\sqrt{x}}{\\Delta x}$\\\n",
        "$=\\lim_{\\Delta x \\to 0}\\frac{x+\\Delta x-x}{\\Delta x(\\sqrt{x+\\Delta x}+\\sqrt{x})}$\\\n",
        "$=\\frac{1}{2\\sqrt{x}}$"
      ]
    },
    {
      "cell_type": "code",
      "metadata": {
        "colab": {
          "base_uri": "https://localhost:8080/",
          "height": 51
        },
        "id": "-eipFEfSC2qM",
        "outputId": "baba0863-bc2b-40f5-ac07-5247a13f369d"
      },
      "source": [
        "import sympy as sy\n",
        "\n",
        "x=sy.Symbol('x')\n",
        "f=x**(1/2)\n",
        "s=sy.diff(f,x)\n",
        "simplify(s)"
      ],
      "execution_count": null,
      "outputs": [
        {
          "output_type": "execute_result",
          "data": {
            "text/latex": "$\\displaystyle \\frac{0.5}{x^{0.5}}$",
            "text/plain": [
              "0.5*x**(-0.5)"
            ]
          },
          "metadata": {},
          "execution_count": 15
        }
      ]
    },
    {
      "cell_type": "markdown",
      "metadata": {
        "id": "duCVEwoqpWWb"
      },
      "source": [
        "d)$k'(x)=\\lim_{\\Delta x \\to 0} \\frac{(x+\\Delta x)^{-\\frac{1}{2}}-\\frac{1}{\\sqrt{x}}}{\\Delta x}$\\\n",
        "$\\lim_{\\Delta x \\to 0}\\frac{\\frac{-\\Delta x}{x(x+\\Delta x)}}{\\Delta x(\\frac{1}{\\sqrt{x+\\Delta x}}+\\frac{1}{\\sqrt{x}})}$\\\n",
        "$=\\frac{\\frac{-1}{x^2}}{\\frac{2}{\\sqrt{x}}}$\\\n",
        "$=-\\frac{1}{2}x^{-\\frac{3}{2}}$"
      ]
    },
    {
      "cell_type": "code",
      "metadata": {
        "colab": {
          "base_uri": "https://localhost:8080/",
          "height": 51
        },
        "id": "3HRDfVqBC7oc",
        "outputId": "f7912b0d-745a-4b43-e7da-ba0dc54a4fee"
      },
      "source": [
        "import sympy as sy\n",
        "\n",
        "x=sy.Symbol('x')\n",
        "f=x**(-1/2)\n",
        "s=sy.diff(f,x)\n",
        "simplify(s)"
      ],
      "execution_count": null,
      "outputs": [
        {
          "output_type": "execute_result",
          "data": {
            "text/latex": "$\\displaystyle - \\frac{0.5}{x^{1.5}}$",
            "text/plain": [
              "-0.5*x**(-1.5)"
            ]
          },
          "metadata": {},
          "execution_count": 13
        }
      ]
    },
    {
      "cell_type": "markdown",
      "metadata": {
        "id": "zqM_RZje0_ZQ"
      },
      "source": [
        "### 9. The Chain Rule\n",
        "\n",
        "Use the chain rule to find these deriviatives. Verify your results with `sympy`.\n",
        "\n",
        "a) $f(x) = \\frac{1}{1+x^2}$\n",
        "\n",
        "b) $h(x) = (\\sin x^k)^m$ for $m,k \\in \\mathbb{N}$"
      ]
    },
    {
      "cell_type": "markdown",
      "metadata": {
        "id": "eoUnKEQjD0w8"
      },
      "source": [
        "a)$f(x) = \\frac{1}{1+x^2},g(x)=1+x^2$\\\n",
        "\\\n",
        "$\\frac{df}{dx}=\\frac{df}{dg} \\cdot \\frac{dy}{dx}$\\\n",
        "$=\\frac{-1}{g^2(x)} \\cdot 2x$\\\n",
        "$=\\frac{-2x}{(1+x^2)^2}$"
      ]
    },
    {
      "cell_type": "code",
      "metadata": {
        "colab": {
          "base_uri": "https://localhost:8080/",
          "height": 58
        },
        "id": "A0hGDTcxDqK-",
        "outputId": "677d0c49-3bc8-450c-d32c-0553822a4a21"
      },
      "source": [
        "import sympy as sy\n",
        "\n",
        "x=sy.Symbol('x')\n",
        "f=1/(1+x**2)\n",
        "s=sy.diff(f,x)\n",
        "simplify(s)"
      ],
      "execution_count": null,
      "outputs": [
        {
          "output_type": "execute_result",
          "data": {
            "text/latex": "$\\displaystyle - \\frac{2 x}{\\left(x^{2} + 1\\right)^{2}}$",
            "text/plain": [
              "-2*x/(x**2 + 1)**2"
            ]
          },
          "metadata": {},
          "execution_count": 14
        }
      ]
    },
    {
      "cell_type": "markdown",
      "metadata": {
        "id": "gKGemCExEuE-"
      },
      "source": [
        "b)$h(x) = (\\sin x^k)^m ,j(x)=\\sin x^k,n(x)=x^k,for\\ m,k \\in \\mathbb{N}$\\\n",
        "$\\frac{dh}{dx}=\\frac{dh}{dj} \\cdot \\frac{dj}{dn} \\cdot \\frac{dn}{dx}$\n",
        "\n",
        "$={m(\\sin x^k)^{m-1} \\cdot \\cos x^k \\cdot kx^{k-1}}$"
      ]
    },
    {
      "cell_type": "code",
      "metadata": {
        "colab": {
          "base_uri": "https://localhost:8080/",
          "height": 38
        },
        "id": "nXcAeFI9HNfL",
        "outputId": "157be0f2-435e-46d6-d97d-04d8d42d5bf7"
      },
      "source": [
        "import sympy as sy\n",
        "import math\n",
        "from sympy import *\n",
        "\n",
        "x=sy.Symbol('x')\n",
        "k=sy.Symbol('k')\n",
        "m=sy.Symbol('m')\n",
        "s=sy.diff((sin(x**k))**m,x)\n",
        "simplify(s)"
      ],
      "execution_count": null,
      "outputs": [
        {
          "output_type": "execute_result",
          "data": {
            "text/latex": "$\\displaystyle k m x^{k - 1} \\sin^{m - 1}{\\left(x^{k} \\right)} \\cos{\\left(x^{k} \\right)}$",
            "text/plain": [
              "k*m*x**(k - 1)*sin(x**k)**(m - 1)*cos(x**k)"
            ]
          },
          "metadata": {},
          "execution_count": 11
        }
      ]
    }
  ]
}