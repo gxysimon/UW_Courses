{
  "nbformat": 4,
  "nbformat_minor": 0,
  "metadata": {
    "kernelspec": {
      "display_name": "Python 3",
      "language": "python",
      "name": "python3"
    },
    "language_info": {
      "codemirror_mode": {
        "name": "ipython",
        "version": 3
      },
      "file_extension": ".py",
      "mimetype": "text/x-python",
      "name": "python",
      "nbconvert_exporter": "python",
      "pygments_lexer": "ipython3",
      "version": "3.8.5"
    },
    "colab": {
      "name": "HW_02_Python_Due_10_17.ipynb",
      "provenance": [],
      "collapsed_sections": []
    }
  },
  "cells": [
    {
      "cell_type": "markdown",
      "metadata": {
        "ExecuteTime": {
          "end_time": "2019-09-24T16:05:23.746666Z",
          "start_time": "2019-09-24T16:05:23.741461Z"
        },
        "id": "9LQhGBRstR61"
      },
      "source": [
        "## EE 502 P: Analytical Methods for Electrical Engineering\n",
        "    \n",
        "# Homework 2: Sets, functions, and relations\n",
        "## Due October 17, 2021 by 11:59 PM\n",
        "### <span style=\"color: red\">Xiangyu Gao</span>\n",
        "\n",
        "Copyright &copy; 2021, University of Washington\n",
        "\n",
        "<hr>\n",
        "\n",
        "**Instructions**: Please use this notebook as a template. Answer all questions using well formatted Markdown with embedded LaTeX equations, executable Jupyter cells, or both. Submit your homework solutions as an `.ipynb` file via Canvas.\n",
        "\n",
        "<span style=\"color: red'\">\n",
        "Although you may discuss the homework with others, you must turn in your own, original work.\n",
        "</span>\n",
        "\n",
        "**Things to remember:**\n",
        "- Use complete sentences. Equations should appear in text as grammatical elements.\n",
        "- Comment your code.\n",
        "- Label your axes. Title your plots. Use legends where appropriate. \n",
        "- Before submitting a notebook, choose Kernel -> Restart and Run All to make sure your notebook runs when the cells are evaluated in order. \n",
        "\n",
        "Note : Late homework will be accepted up to one week after the due date and will be worth 50% of its full credit score. "
      ]
    },
    {
      "cell_type": "markdown",
      "metadata": {
        "id": "8hSq20NStR66"
      },
      "source": [
        "### 0. Warmup (Do not turn in)\n",
        "\n",
        "- Make sure you download and run the notebook for lecture 2. Work through the notebook, and see what happens when you change the expressions, and make up some of your own.\n",
        "- Read chapter one of [An Introduction to Real Analysis](https://www.math.ucdavis.edu/~hunter/intro_analysis_pdf/intro_analysis.html) by John K. Hunter. You can skim the sections on index sets and infinite unions and intersections.\n",
        "- Read up on [sets](https://www.w3schools.com/python/python_sets.asp), [tuples](https://www.w3schools.com/python/python_tuples.asp), and [lambdas](https://www.w3schools.com/python/python_lambda.asp) at python.org."
      ]
    },
    {
      "cell_type": "markdown",
      "metadata": {
        "id": "N2Fxq90KtR68"
      },
      "source": [
        "### 1. Set properties\n",
        "\n",
        "Given the follow definitions of sets\n",
        "\n",
        "$$A = \\{1,2,3\\}$$\n",
        "$$B = \\{3,4,5\\}$$\n",
        "$$C = \\{3,4,5,6,7\\}$$\n",
        "\n",
        "determine which of the following properties hold:\n",
        "\n",
        "$$0 \\in A$$\n",
        "\n",
        "$$4 \\in B \\cap C$$\n",
        "\n",
        "$$5 \\in C-B$$\n",
        "\n",
        "$$A \\subseteq B$$\n",
        "\n",
        "$$A \\subseteq C$$\n",
        "\n",
        "$$A \\cap B \\subseteq A$$\n",
        "\n",
        "$$B \\subseteq C$$\n",
        "\n",
        "If the property holds, say why. If it does not hold, give a counterexample showing the definition is not satisfied. "
      ]
    },
    {
      "cell_type": "markdown",
      "metadata": {
        "id": "bZs96DzgwL_x"
      },
      "source": [
        "hold: \n",
        "$$4 \\in B \\cap C$$\n",
        "$$reason: B \\cap C = \\{3,4,5\\} , 4 \\in \\{3,4,5\\}$$\n",
        "\n",
        "$$A \\cap B \\subseteq A$$\n",
        "$$reason: A \\cap B = \\{3 \\},  \\{3\\} \\in A$$\n",
        "\n",
        "$$B \\subseteq C$$\n",
        "$$reason: B = \\{3,4,5\\}, \\{3,4,5\\} \\in \\{3,4,5,6,7\\} = C$$"
      ]
    },
    {
      "cell_type": "markdown",
      "metadata": {
        "id": "j4904iafBDEx"
      },
      "source": [
        "not hold:\n",
        "$$0 \\in A $$\n",
        "$$reason:A = \\{ 3,4,5\\}, 0 \\notin \\{ 3,4,5\\}$$\n",
        "\n",
        "$$5 \\in C-B$$\n",
        "$$reason:C-B = \\{6,7\\}, 5 \\notin \\{6,7\\} $$\n",
        "\n",
        "$$A \\subseteq B$$\n",
        "$$reason:1 \\in A ,but 1 \\notin B$$\n",
        "$$2 \\in A ,but 2 \\notin B$$\n",
        "\n",
        "$$A \\subseteq C$$\n",
        "$$reason:1 \\in A ,but 1 \\notin C$$\n",
        "$$2 \\in A ,but 2 \\notin C$$\n",
        "\n"
      ]
    },
    {
      "cell_type": "markdown",
      "metadata": {
        "id": "xZwpASaOtR68"
      },
      "source": [
        "### 2. Set operations\n",
        "\n",
        "Let $A = \\{ 1,2,3,4,5 \\}$ and $B = \\{ 0,3,6 \\}$. Find\n",
        "\n",
        "a) $A \\cup B$\n",
        "\n",
        "b) $A \\cap B$\n",
        "\n",
        "c) $A - B$\n",
        "\n",
        "d) $B - A$\n",
        "\n",
        "Verify your results using Python sets."
      ]
    },
    {
      "cell_type": "markdown",
      "metadata": {
        "id": "t-STMLTTE1dC"
      },
      "source": [
        "a) $A \\cup B =\\{0,1,2,3,4,5,6\\}$"
      ]
    },
    {
      "cell_type": "code",
      "metadata": {
        "colab": {
          "base_uri": "https://localhost:8080/"
        },
        "id": "4SxpXbKvGQlI",
        "outputId": "5d2201d9-b636-47b5-e710-2d5cc3e31145"
      },
      "source": [
        "A = {1,2,3,4,5}\n",
        "B = {0,3,6}\n",
        "result = A | B\n",
        "result"
      ],
      "execution_count": 378,
      "outputs": [
        {
          "output_type": "execute_result",
          "data": {
            "text/plain": [
              "{0, 1, 2, 3, 4, 5, 6}"
            ]
          },
          "metadata": {},
          "execution_count": 378
        }
      ]
    },
    {
      "cell_type": "markdown",
      "metadata": {
        "id": "FeHLZvQRFHL7"
      },
      "source": [
        "b)$ A \\cap B = \\{3\\}$"
      ]
    },
    {
      "cell_type": "code",
      "metadata": {
        "colab": {
          "base_uri": "https://localhost:8080/"
        },
        "id": "rT6HPeDLF7F9",
        "outputId": "40cb24a5-6373-41e4-e14b-1ddc762fd59c"
      },
      "source": [
        "A = {1,2,3,4,5}\n",
        "B = {0,3,6}\n",
        "result = A & B\n",
        "result"
      ],
      "execution_count": 379,
      "outputs": [
        {
          "output_type": "execute_result",
          "data": {
            "text/plain": [
              "{3}"
            ]
          },
          "metadata": {},
          "execution_count": 379
        }
      ]
    },
    {
      "cell_type": "markdown",
      "metadata": {
        "id": "pXC7CvktFma3"
      },
      "source": [
        "c)$ A - B =\\{1,2,4,5\\}$"
      ]
    },
    {
      "cell_type": "code",
      "metadata": {
        "colab": {
          "base_uri": "https://localhost:8080/"
        },
        "id": "ESTSF3MfGV2t",
        "outputId": "a7ca630b-6bcc-49a5-91af-cc302270c1a2"
      },
      "source": [
        "A = {1,2,3,4,5}\n",
        "B = {0,3,6}\n",
        "result = A - B\n",
        "result"
      ],
      "execution_count": 380,
      "outputs": [
        {
          "output_type": "execute_result",
          "data": {
            "text/plain": [
              "{1, 2, 4, 5}"
            ]
          },
          "metadata": {},
          "execution_count": 380
        }
      ]
    },
    {
      "cell_type": "markdown",
      "metadata": {
        "id": "eCsC0WniFmd6"
      },
      "source": [
        "d) $ B - A = \\{0,6\\} $"
      ]
    },
    {
      "cell_type": "code",
      "metadata": {
        "colab": {
          "base_uri": "https://localhost:8080/"
        },
        "id": "VZ1fU3HfGYzt",
        "outputId": "57771729-b970-4a4f-836f-1440f7e77cea"
      },
      "source": [
        "A = {1,2,3,4,5}\n",
        "B = {0,3,6}\n",
        "result = B - A\n",
        "result"
      ],
      "execution_count": 381,
      "outputs": [
        {
          "output_type": "execute_result",
          "data": {
            "text/plain": [
              "{0, 6}"
            ]
          },
          "metadata": {},
          "execution_count": 381
        }
      ]
    },
    {
      "cell_type": "markdown",
      "metadata": {
        "id": "Ig8v30J7tR69"
      },
      "source": [
        "### 3. Set Proofs\n",
        "\n",
        "Using the definitions of the set operations, the definition of the subset relation, and basic logic, show the following are true.\n",
        "\n",
        "a) $A - B \\subseteq A$\n",
        "\n",
        "b) $A \\cap (B-A) = \\varnothing$\n",
        "\n",
        "c) $A \\cup (B-A) = A \\cup B$\n",
        "\n",
        "Show examples using small sets in Python illustrating each property. "
      ]
    },
    {
      "cell_type": "markdown",
      "metadata": {
        "id": "aAA05TzDHvuV"
      },
      "source": [
        "a)$ A-B=\\{x|x \\in A \\  and  \\ x \\notin B\\}$ \\\\\n",
        "$ ∴A-B \\ is \\  the\\   subset \\ of A$ \\\\\n",
        "$ ∴A-B \\subseteq A$"
      ]
    },
    {
      "cell_type": "code",
      "metadata": {
        "colab": {
          "base_uri": "https://localhost:8080/"
        },
        "id": "M04Bt_QHMFei",
        "outputId": "ba594b81-b093-4ecd-e18c-98320060ad5b"
      },
      "source": [
        "A = {1,2,3}\n",
        "B = {2,3,4}\n",
        "print('A-B:',A-B)\n",
        "print((A-B)<=A)"
      ],
      "execution_count": 382,
      "outputs": [
        {
          "output_type": "stream",
          "name": "stdout",
          "text": [
            "A-B: {1}\n",
            "True\n"
          ]
        }
      ]
    },
    {
      "cell_type": "markdown",
      "metadata": {
        "id": "3-Pne_fFJbh3"
      },
      "source": [
        "b)$ B-A=\\{x|x \\in B \\  and  \\ x \\notin A\\}$ \\\\\n",
        "$ \\because \\{x | x \\in B - A\\} \\notin A$ \\\\\n",
        "$ \\therefore A \\cap \\{x | x \\in B - A\\} = \\varnothing$ \\\\\n",
        "$ \\therefore A \\cap (B-A) = \\varnothing$"
      ]
    },
    {
      "cell_type": "code",
      "metadata": {
        "colab": {
          "base_uri": "https://localhost:8080/"
        },
        "id": "UgYYIDSNMdbP",
        "outputId": "d7adbcc4-5d65-42a7-890e-5fb540d7f3aa"
      },
      "source": [
        "A = {1,2,3}\n",
        "B = {2,3,4}\n",
        "print('B-A:',B-A)\n",
        "if not A & (B-A):\n",
        "  print('A∩(B−A)=∅')"
      ],
      "execution_count": 383,
      "outputs": [
        {
          "output_type": "stream",
          "name": "stdout",
          "text": [
            "B-A: {4}\n",
            "A∩(B−A)=∅\n"
          ]
        }
      ]
    },
    {
      "cell_type": "markdown",
      "metadata": {
        "id": "a7T6Ih5oKbah"
      },
      "source": [
        "c) $ B-A=\\{x|x \\in B \\  and  \\ x \\notin A\\}$ \\\\\n",
        "$A \\cup (B-A) = \\{x|x \\in A \\ and \\ x \\in (B-A)\\}$\n",
        "$\\therefore A \\cup (B-A) = \\{x|x \\in A \\ and \\ x \\in \\{x|x \\in B \\  and  \\ x \\notin A\\}\\}$ \\\\\n",
        "$ \\therefore A \\cup (B-A) = A \\cup B$"
      ]
    },
    {
      "cell_type": "code",
      "metadata": {
        "colab": {
          "base_uri": "https://localhost:8080/"
        },
        "id": "V_prsdwZJTSR",
        "outputId": "01298358-e021-4929-d26b-7d07bc3601d0"
      },
      "source": [
        "A = {1,2,3}\n",
        "B = {2,3,4}\n",
        "print('B-A:',B-A)\n",
        "print('A∪(B−A):',A | (B-A))\n",
        "if (A|(B-A)) == A|B :\n",
        "  print('true')"
      ],
      "execution_count": 384,
      "outputs": [
        {
          "output_type": "stream",
          "name": "stdout",
          "text": [
            "B-A: {4}\n",
            "A∪(B−A): {1, 2, 3, 4}\n",
            "true\n"
          ]
        }
      ]
    },
    {
      "cell_type": "markdown",
      "metadata": {
        "ExecuteTime": {
          "end_time": "2019-09-30T20:21:35.986395Z",
          "start_time": "2019-09-30T20:21:35.964585Z"
        },
        "id": "1sc6C7NxtR69"
      },
      "source": [
        "### 4. Cartesian Products\n",
        "\n",
        "a) If $A_i$ has $n_i$ elements, how many elements does $A_1 \\times A_2 \\times \\dots A_n$ have? Why?\n",
        "\n",
        "b) Give an example where the numbers of elements in $A_1 \\times A_2 \\times \\dots A_n$ is 1. \n",
        "\n",
        "c) Give examples of nonempty sets $A$ and $B$ where $A \\times B = B \\times A$. "
      ]
    },
    {
      "cell_type": "markdown",
      "metadata": {
        "id": "mJIk_kCUU58J"
      },
      "source": [
        "a) If $A_i$ has $n_i$ elements, how many elements does $A_1 \\times A_2 \\times \\dots A_n$ have? Why?\n",
        "\n",
        "$number \\ of \\ elements : 1 \\times 2 \\times 3 \\times \\dots \\times n =n!$ \\\\\n",
        "$reason: In \\ a \\ Cartesian \\ product, \\ the \\ elements \\ of \\ the \\ first \\\\   and \\ second \\ multipliers \\ are \\ multiplied \\ by \\ each \\ other, \\ so \\ the \\\\  resulting \\ number \\ of \\ elements \\ is \\ the \\ product \\ of \\\\ the \\ number \\ of \\ elements \\ of \\ the \\ first \\ and \\ second \\ multipliers$"
      ]
    },
    {
      "cell_type": "markdown",
      "metadata": {
        "id": "4CGu2JYam7Or"
      },
      "source": [
        "b) Give an example where the numbers of elements in $A_1 \\times A_2 \\times \\dots A_n$ is 1. \n",
        "\n",
        "$A_1=A_2=A_3= \\dots =A_n=\\{1\\}$ \\\\\n",
        "$\\therefore A_1 \\times A_2 \\times \\dots \\times A_n = \\{(1,1)\\}$\n"
      ]
    },
    {
      "cell_type": "markdown",
      "metadata": {
        "id": "ydfpLlksZJ_s"
      },
      "source": [
        "c) Give examples of nonempty sets $A$ and $B$ where $A \\times B = B \\times A$. \n",
        "\n",
        "$A=\\{1\\}$ \\\\\n",
        "$B=\\{1\\}$ \\\\\n",
        "$A \\times B = \\{(1,1)\\}$ \\\\\n",
        "$B \\times A = \\{(1,1)\\}$ \\\\\n",
        "$A \\times B = B \\times A$"
      ]
    },
    {
      "cell_type": "markdown",
      "metadata": {
        "id": "glVHimLrtR6-"
      },
      "source": [
        "### 5. Function Properties\n",
        "\n",
        "Plot each of the following functions from $\\mathbb{Z}$ to $\\mathbb{Z}$ over a representative subdomain (use points and not a line since the domain is $\\mathbb{Z}$). \n",
        "What is the range of each function? State which of them are injective, which are surjective, and which are bijective. \n",
        "For functions for which a given property holds, explain why. For functions for which the given property does not hold, give a counterexample.\n",
        "\n",
        "a) $f(n) = n-1$\n",
        "\n",
        "b) $f(n) = n^3$\n",
        "\n",
        "c) $f(n) = n^2 + 1$"
      ]
    },
    {
      "cell_type": "markdown",
      "metadata": {
        "id": "doiY599y4UXK"
      },
      "source": [
        "a) $f(n) = n-1$ \\\\\n",
        "\n",
        "$ injective \\ \\ surjective \\ \\ bijective$ \\\\\n",
        "\n",
        "$ reason:n \\ and \\ f(n) \\ correspond \\ one \\ to \\ one$ \\\\\n",
        "\n",
        "$ domain \\ and \\ range \\ are \\ both \\ R$"
      ]
    },
    {
      "cell_type": "code",
      "metadata": {
        "colab": {
          "base_uri": "https://localhost:8080/",
          "height": 269
        },
        "id": "TUKdx8c0zqdd",
        "outputId": "13bf235f-2323-4c3f-d36a-dcba547fba3d"
      },
      "source": [
        "import numpy as np\n",
        "import matplotlib as mpl\n",
        "import matplotlib.pyplot as plt\n",
        "\n",
        "x=np.linspace(-10,10,21)\n",
        "y=x-1\n",
        "plt.plot(x,y,'bo')\n",
        "plt.grid(True)"
      ],
      "execution_count": 385,
      "outputs": [
        {
          "output_type": "display_data",
          "data": {
            "image/png": "[encoded data removed]",
            "text/plain": [
              "<Figure size 432x288 with 1 Axes>"
            ]
          },
          "metadata": {
            "needs_background": "light"
          }
        }
      ]
    },
    {
      "cell_type": "markdown",
      "metadata": {
        "id": "XIs-Q2Th4Q2O"
      },
      "source": [
        "b) $f(n) = n^3$ \\\\\n",
        "\n",
        "$ injective \\ \\ surjective \\ \\ bijective$ \\\\\n",
        "\n",
        "$ reason:n \\ and \\ f(n) \\ correspond \\ one \\ to \\ one$ \\\\\n",
        "\n",
        "$ domain \\ and \\ range \\ are \\ both \\ R$"
      ]
    },
    {
      "cell_type": "code",
      "metadata": {
        "colab": {
          "base_uri": "https://localhost:8080/",
          "height": 265
        },
        "id": "pPw8O6pu1R7I",
        "outputId": "4427955f-751e-4554-e6e4-abca221d3bb4"
      },
      "source": [
        "import numpy as np\n",
        "import matplotlib as mpl\n",
        "import matplotlib.pyplot as plt\n",
        "\n",
        "x=np.linspace(-10,10,21)\n",
        "y=x**3\n",
        "plt.plot(x,y,'bo')\n",
        "plt.grid(True)"
      ],
      "execution_count": 386,
      "outputs": [
        {
          "output_type": "display_data",
          "data": {
            "image/png": "[encoded data removed]",
            "text/plain": [
              "<Figure size 432x288 with 1 Axes>"
            ]
          },
          "metadata": {
            "needs_background": "light"
          }
        }
      ]
    },
    {
      "cell_type": "markdown",
      "metadata": {
        "id": "ZZEPf0sm5iRu"
      },
      "source": [
        "c) $f(n) = n^2+1$ \\\\\n",
        "\n",
        "$ injective$ \\\\\n",
        "\n",
        "$ reason:Every \\ n \\ value \\ has \\ a \\ corresponding \\ f(n), \\ but \\ a \\ f(n) \\ value \\ has \\ more \\ than \\ one \\ corresponding \\ n$ \\\\\n",
        "\n",
        "$counter \\ expamle:When \\ f(n)=5,\\ n=2 \\ or \\ n=-2.$\n",
        "\n",
        "$ domain \\ is \\ R, \\ range \\ is \\ [0,+∞]$\n"
      ]
    },
    {
      "cell_type": "code",
      "metadata": {
        "colab": {
          "base_uri": "https://localhost:8080/",
          "height": 265
        },
        "id": "0qpuCz021YaE",
        "outputId": "8f984f9f-cede-42ee-a550-79f7cf0adcb6"
      },
      "source": [
        "import numpy as np\n",
        "import matplotlib as mpl\n",
        "import matplotlib.pyplot as plt\n",
        "\n",
        "x=np.linspace(-10,10,21)\n",
        "y=x**2+1\n",
        "plt.plot(x,y,'bo')\n",
        "plt.grid(True)"
      ],
      "execution_count": 387,
      "outputs": [
        {
          "output_type": "display_data",
          "data": {
            "image/png": "[encoded data removed]",
            "text/plain": [
              "<Figure size 432x288 with 1 Axes>"
            ]
          },
          "metadata": {
            "needs_background": "light"
          }
        }
      ]
    },
    {
      "cell_type": "markdown",
      "metadata": {
        "id": "cyrucALMtR6-"
      },
      "source": [
        "### 6. Composition\n",
        "\n",
        "a) Suppose that $f(x) = x^2 + 1$ and $g(x) = e^x$ are functions from $\\mathbb{R}$ into $\\mathbb{R}$. Find $f \\circ g$ and $g \\circ f$ and plot them in Python (on the same axis to compare).\n",
        "\n",
        "b) Suppose $f(x) = a x + b$ and $g(x) = c x + d$ are functions from $\\mathbb{R}$ into $\\mathbb{R}$. Find constants $a$, $b$, $c$ and $d$ such that $f \\circ g = g \\circ f$. "
      ]
    },
    {
      "cell_type": "code",
      "metadata": {
        "colab": {
          "base_uri": "https://localhost:8080/",
          "height": 310
        },
        "id": "z5E8o4rH-AmT",
        "outputId": "b6ff7fa9-1b8b-498e-acf3-fe6a9038c010"
      },
      "source": [
        "from math import *\n",
        "import sympy as sy\n",
        "from sympy import *\n",
        "import matplotlib.pyplot as plt\n",
        "import numpy as np\n",
        "\n",
        "#x=Symbol('x')\n",
        "x=np.arange(-10,100,1)\n",
        "def f(x):\n",
        "  return x**2+1\n",
        "def g(x):\n",
        "  return math.e**x\n",
        "f(x)\n",
        "g(x)\n",
        "fg=f(g(x))\n",
        "gf=g(f(x))\n",
        "#print(fg)\n",
        "#print(gf)\n",
        "\n",
        "\n",
        "ax1 = plt.subplot(2,1,1)\n",
        "ax2 = plt.subplot(2,1,2)\n",
        "\n",
        "plt.sca(ax1)\n",
        "plt.plot(x,fg,'r-.')\n",
        "plt.sca(ax2)\n",
        "plt.plot(x,gf,'g--')\n",
        "plt.show()"
      ],
      "execution_count": 388,
      "outputs": [
        {
          "output_type": "stream",
          "name": "stderr",
          "text": [
            "/usr/local/lib/python3.7/dist-packages/ipykernel_launcher.py:12: RuntimeWarning: overflow encountered in power\n",
            "  if sys.path[0] == '':\n"
          ]
        },
        {
          "output_type": "display_data",
          "data": {
            "image/png": "[encoded data removed]",
            "text/plain": [
              "<Figure size 432x288 with 2 Axes>"
            ]
          },
          "metadata": {
            "needs_background": "light"
          }
        }
      ]
    },
    {
      "cell_type": "code",
      "metadata": {
        "colab": {
          "base_uri": "https://localhost:8080/"
        },
        "id": "WtlXCEPeempZ",
        "outputId": "08b5e5e1-4f50-44c8-a381-32050719219b"
      },
      "source": [
        "from math import *\n",
        "import sympy as sy\n",
        "from sympy import *\n",
        "import matplotlib.pyplot as plt\n",
        "import numpy as np\n",
        "\n",
        "x=Symbol('x')\n",
        "\n",
        "def f(x):\n",
        "  return x**2+1\n",
        "def g(x):\n",
        "  return math.e**x\n",
        "\n",
        "fg=f(g(x))\n",
        "gf=g(f(x))\n",
        "print(fg)\n",
        "print(gf)"
      ],
      "execution_count": 389,
      "outputs": [
        {
          "output_type": "stream",
          "name": "stdout",
          "text": [
            "2.71828182845905**(2*x) + 1\n",
            "2.71828182845905**(x**2 + 1)\n"
          ]
        }
      ]
    },
    {
      "cell_type": "markdown",
      "metadata": {
        "id": "I2jKlibVtR6_"
      },
      "source": [
        "### 7. Relations\n",
        "\n",
        "Define the relation $R$ on $\\mathbb{N} \\times \\mathbb{N}$ saying that $x \\; R\\; y$ if and only if the binary representations of $x$ and $y$ have the same number of ones. For example, $15 \\; R \\; 23$ since $15$ in binary is $1111$ and $23$ in binary is $10111$, which both have four ones. \n",
        "\n",
        "Show that $R$ is an equivalence relation.\n",
        " "
      ]
    },
    {
      "cell_type": "code",
      "metadata": {
        "colab": {
          "base_uri": "https://localhost:8080/"
        },
        "id": "hZVEY8ci2LWp",
        "outputId": "e34b459a-0847-413f-d09a-ed053db8ccaa"
      },
      "source": [
        "def s2e(a):\n",
        "  e = [0,0,0,0,0,0,0,0]\n",
        "  s = int(a)\n",
        "  for i in range(0,8,1):\n",
        "      e[i] = int(s%2)\n",
        "      s=s//2\n",
        "  e.reverse()\n",
        "  return e\n",
        "def R_function(a,b):\n",
        "  aa=s2e(a)\n",
        "  bb=s2e(b)\n",
        "  cc=0\n",
        "  dd=0\n",
        "  for i in range(len(aa)):\n",
        "    if aa[i]==1:\n",
        "      cc += 1\n",
        "  for i in range(len(bb)):\n",
        "    if bb[i]==1:\n",
        "      dd += 1\n",
        "  if cc == dd:\n",
        "    return print(a,'R',b,'is true')\n",
        "  else:\n",
        "    return print(a,'R',b,'is false')\n",
        "\n",
        "R_function(15,23)"
      ],
      "execution_count": 390,
      "outputs": [
        {
          "output_type": "stream",
          "name": "stdout",
          "text": [
            "15 R 23 is true\n"
          ]
        }
      ]
    },
    {
      "cell_type": "markdown",
      "metadata": {
        "id": "zDg_ctlDtR7A"
      },
      "source": [
        "### 8. Sets, Functions, and Relations in Python\n",
        "\n",
        "Express each of the following objects in Python.\n",
        "\n",
        "a) The set of $P$ prime numbers less than 100. \n",
        "\n"
      ]
    },
    {
      "cell_type": "code",
      "metadata": {
        "colab": {
          "base_uri": "https://localhost:8080/"
        },
        "id": "8zDlyocEDi33",
        "outputId": "e5af3c32-9bbe-4660-fce9-a0659a31f976"
      },
      "source": [
        "def prime_numbers(p):\n",
        "  num=[];\n",
        "  a=[]\n",
        "  i=2\n",
        "  for i in range(2,100):\n",
        "     j=2\n",
        "     for j in range(2,i):\n",
        "        if(i%j==0):\n",
        "           break\n",
        "     else:\n",
        "       num.append(i)\n",
        "  for i in range(p):\n",
        "    a.append(num[i])\n",
        "  return a\n",
        "\n",
        "  \n",
        "P=10\n",
        "prime_numbers(P)"
      ],
      "execution_count": 391,
      "outputs": [
        {
          "output_type": "execute_result",
          "data": {
            "text/plain": [
              "[2, 3, 5, 7, 11, 13, 17, 19, 23, 29]"
            ]
          },
          "metadata": {},
          "execution_count": 391
        }
      ]
    },
    {
      "cell_type": "markdown",
      "metadata": {
        "id": "vPPkHE7KFGcw"
      },
      "source": [
        "b) The function $f: \\{1,2,3,4,5,6\\} \\rightarrow \\{0,1\\}$ in which $f(x) = 0$ if $x$ is even and $f(x)=1$ if $x$ is odd, expressed as a dictionary."
      ]
    },
    {
      "cell_type": "code",
      "metadata": {
        "colab": {
          "base_uri": "https://localhost:8080/"
        },
        "id": "i7QIlAuRFH_r",
        "outputId": "dcae179d-55b5-4d23-f466-f19ae4abf968"
      },
      "source": [
        "def f(x):\n",
        "  a= {'1':1,'2':0,'3':1,'4':0,'5':1,'6':0}\n",
        "  if x == 1:\n",
        "   print(a['1'])\n",
        "  elif x == 2:\n",
        "   print(a['2'])\n",
        "  elif x == 3:\n",
        "   print(a['3'])\n",
        "  elif x == 4:\n",
        "   print(a['4'])\n",
        "  elif x == 5:\n",
        "   print(a['5'])\n",
        "  elif x == 6:\n",
        "   print(a['6'])\n",
        "f(1)\n",
        "f(2)\n",
        "f(3)\n",
        "f(4)\n",
        "f(5)\n",
        "f(6)"
      ],
      "execution_count": 392,
      "outputs": [
        {
          "output_type": "stream",
          "name": "stdout",
          "text": [
            "1\n",
            "0\n",
            "1\n",
            "0\n",
            "1\n",
            "0\n"
          ]
        }
      ]
    }
  ]
}