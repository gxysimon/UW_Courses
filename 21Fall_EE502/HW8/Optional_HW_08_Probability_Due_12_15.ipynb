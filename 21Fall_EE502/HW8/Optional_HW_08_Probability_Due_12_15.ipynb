{
 "cells": [
  {
   "cell_type": "markdown",
   "metadata": {
    "ExecuteTime": {
     "end_time": "2019-09-24T16:05:23.746666Z",
     "start_time": "2019-09-24T16:05:23.741461Z"
    }
   },
   "source": [
    "## EE 502 P: Analytical Methods for Electrical Engineering\n",
    "    \n",
    "# Optional Homework 8: Graphs and Networks, Probability and Markov Processes\n",
    "## Due December 15, 2021 by 11:59 PM\n",
    "### <span style=\"color: red\">YOUR NAME HERE</span>\n",
    "\n",
    "Copyright &copy; 2021, University of Washington\n",
    "\n",
    "<hr>\n",
    "**Note:** This is an optional homework assignment. You are not required to submit your solution to these problems, and if you choose to skip it, you will not experience any penalty. If you choose to submit this work, your HW9 grade will be used to replace your lowest grade on HW1-HW7. \n",
    "\n",
    "\n",
    "**Instructions**: Please use this notebook as a template. Answer all questions using well formatted Markdown with embedded LaTeX equations, executable Jupyter cells, or both. Submit your homework solutions as an `.ipynb` file via Canvas.\n",
    "\n",
    "<span style=\"color: red'\">\n",
    "Although you may discuss the homework with others, you must turn in your own, original work.\n",
    "</span>\n",
    "\n",
    "**Things to remember:**\n",
    "- Use complete sentences. Equations should appear in text as grammatical elements.\n",
    "- Comment your code.\n",
    "- Label your axes. Title your plots. Use legends where appropriate. \n",
    "- Before submitting a notebook, choose Kernel -> Restart and Run All to make sure your notebook runs when the cells are evaluated in order. "
   ]
  },
  {
   "cell_type": "markdown",
   "metadata": {},
   "source": [
    "### 0. Warmup (Do not turn in)\n",
    "\n",
    "- Make sure you download, read, and run the notebook for lectures 8 and 9. Work through the notebook cell by cell and see what happens when you change the expressions, and make up some of your own.\n",
    "- The material covered in class is intended to be an introductory overview of the incredibly rich and expansive subject of Graph Theory.\n",
    "- Most of the section on basic graph theory is from chapter one of\n",
    "\n",
    "> Bollobas, [Modern Graph Theory](https://www.springer.com/gp/book/9780387984889).\n",
    "\n",
    "- The spanning tree algorithm by Prim is from \n",
    "\n",
    "> Gibbons, [Algorithmic Graph Theory](https://www.amazon.com/Algorithmic-Graph-Theory-Alan-Gibbons/dp/0521288819). \n",
    "\n",
    "- Graphs as matrices is covered in \n",
    "\n",
    "> Nica, [A Brief Introduction to Spectral Graph Theory](https://www.amazon.com/Introduction-Spectral-Theory-Textbooks-Mathematics/dp/3037191880/ref=sr_1_2?crid=3ETRQ8B0PW4EJ&keywords=spectral+graph+theory&qid=1573687537&s=books&sprefix=spectral+graph%2Cstripbooks%2C195&sr=1-2).\n",
    "\n",
    "The consensus algorithm is described in [these notes](http://www.eeci-institute.eu/pdf/M010/Eeci-sp09_L4_graphtheory.pdf) by Richard Murray.\n",
    "\n",
    "You will also need `networkx` which can be obtained [here](https://networkx.github.io/). If you are on Google CoLab, see [here](https://stackoverflow.com/questions/51342408/how-do-i-install-python-packages-in-googles-colab) for how to install packages. \n",
    "\n",
    "- Most of the section on probability is from chapter of the really, really, really good book:\n",
    "\n",
    "> Feller, [An Introduction to Probability Theory and Its Applications, Vol 1](https://www.amazon.com/Introduction-Probability-Theory-Applications-Vol/dp/0471257087), 3rd Edition, Wiley, 1968. \n",
    "\n",
    "- The material on Markov Chains can be found in numerous textbooks. A good online source is Chapter 11 of \n",
    "\n",
    "> Grinstead, [Introduction to Probability](http://www.dartmouth.edu/~chance/teaching_aids/books_articles/probability_book/book.html)."
   ]
  },
  {
   "cell_type": "markdown",
   "metadata": {},
   "source": [
    "## 1. Hamiltonian Circuits\n",
    "\n",
    "Consider the set of square grid graphs like those returned by the function `nx.grid_graph(dim=[n,n])` where $n>0$. Show that these graphs always have a Hamilton Circuit when $n$ is even. Use networkx to draw the square grid graph for $n=6$, highlighting a Hamilton cycle. "
   ]
  },
  {
   "cell_type": "markdown",
   "metadata": {},
   "source": [
    "## 2. Spanning Trees and Hamilton Paths\n",
    "\n",
    "In the spanning tree algorithm presented in class (and in the Jupyter notebook for this week), the spanning tree algorithm always starts with node zero. Furthermore, it always chooses the first neighbor of $v$ (in the `v.pop()` line). Thus, when the approximate Hamilton Cycle algorithm finds a spanning tree, it always gets the same one. \n",
    "\n",
    "Modify the spanning tree function to choose a random starting point and a random neighbor. Then write a wrapper around the code for the approximate Hamilton Cycle algorithm that runs it 10 times and returns the shortest cycle found."
   ]
  },
  {
   "cell_type": "markdown",
   "metadata": {},
   "source": [
    "## 3. PDF and CDF\n",
    "\n",
    "Suppose that a random variable $X$ has PDF defined by\n",
    "\n",
    "$$\n",
    "f_X(x) = \\left \\{\n",
    "\\begin{array}{ll}\n",
    "a(1+x) & \\; \\mathrm{if} \\; -1 < x \\leq 0 \\\\\n",
    "a(1-x) & \\; \\mathrm{if} \\; 0 < x < 1 \\\\\n",
    "0 & \\; \\mathrm{otherwise}.\n",
    "\\end{array}\n",
    "\\right .\n",
    "$$\n",
    "\n",
    "a) What does the value of $a$ need to be to make $f_X$ a probability distribution? Plot $f_X$ for this value.\n",
    "\n",
    "b) Find and plot $F_X$.\n",
    "\n",
    "c) Find $b$ such that $P[X>b] = \\frac{1}{2} P[X \\leq b]$. "
   ]
  },
  {
   "cell_type": "markdown",
   "metadata": {},
   "source": [
    "## 5. Stationary Distributions\n",
    "\n",
    "For each Markov Process in Problem 5:\n",
    "\n",
    "i) Find the update matrix $Q$.\n",
    "\n",
    "ii) Simulate the dynamics $p_{k+1} = p_k Q$ starting at the distribution in which $p_0(0) = 1$. Make a plot of the dynamics for each system. To do this, plot a 2D grid where grid point $(k,i)$ is a gray-scale square corresponding to the probability that the process is in state $i$ at time $k$ (the Gambler's Ruin example in the notes does this). "
   ]
  },
  {
   "cell_type": "markdown",
   "metadata": {},
   "source": [
    "## 6. The Page Rank Algorithm\n",
    "\n",
    "For the following problem, use the `networkx` `pagerank` function or find the eigenvector of the graph as a Markov Process corresponding to the eigenvector 1. Use undirected graphs.\n",
    "\n",
    "a) Find a 10 node, connected graph in which all nodes are ranked equally or explain why such a graph does not exist.\n",
    "\n",
    "b) Find a 10 node, connected graph in which all nodes are ranked differently or explain why such a graph does not exist.\n",
    "\n",
    "c) Find a 10 node, connected graph in which there are two sets $A$ and $B$ of $5$ nodes for which all nodes in $A$ are ranked the same and all nodes in $B$ are ranked the same, but different from nodes in $A$. Or explain why such a graph does not exist."
   ]
  }
 ],
 "metadata": {
  "kernelspec": {
   "display_name": "Python 3",
   "language": "python",
   "name": "python3"
  },
  "language_info": {
   "codemirror_mode": {
    "name": "ipython",
    "version": 3
   },
   "file_extension": ".py",
   "mimetype": "text/x-python",
   "name": "python",
   "nbconvert_exporter": "python",
   "pygments_lexer": "ipython3",
   "version": "3.8.8"
  }
 },
 "nbformat": 4,
 "nbformat_minor": 2
}
